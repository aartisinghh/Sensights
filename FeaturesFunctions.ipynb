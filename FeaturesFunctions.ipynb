{
 "cells": [
  {
   "cell_type": "code",
   "execution_count": 44,
   "id": "161f1970",
   "metadata": {},
   "outputs": [],
   "source": [
    "import numpy as np\n",
    "import pandas as pd\n",
    "import csv\n",
    "import neurokit2 as nk\n",
    "from scipy.integrate import quad\n",
    "import seaborn as sns\n",
    "import matplotlib.pyplot as plt\n",
    "%run Functions.ipynb"
   ]
  },
  {
   "cell_type": "code",
   "execution_count": 45,
   "id": "6388f3a6",
   "metadata": {},
   "outputs": [],
   "source": [
    "class Bryson():\n",
    "    def test(FileNumber):\n",
    "        Annotations =pd.read_csv(\"mitbih_database/\" + str(i)+'annotations.txt')\n",
    "        ECG = pd.read_csv(\"mitbih_database/\"+str(i)+\".csv\")\n",
    "    \n",
    "        temp = pd.DataFrame(columns = 'FileAgain')\n",
    "        for i in range(len(ECG[columns[1]])):\n",
    "            \n",
    "            temp['FlieAgain']=FileNumber\n",
    "        return temp"
   ]
  },
  {
   "cell_type": "code",
   "execution_count": 46,
   "id": "356b33b4",
   "metadata": {},
   "outputs": [],
   "source": [
    "def Area(FileNumber):\n",
    "    Annotations =pd.read_csv(\"mitbih_database/\" + str(i)+'annotations.txt')\n",
    "    ECG = pd.read_csv(\"mitbih_database/\"+str(i)+\".csv\")"
   ]
  },
  {
   "cell_type": "code",
   "execution_count": 47,
   "id": "2b59e2ad",
   "metadata": {},
   "outputs": [],
   "source": [
    "def test(FileNumber):\n",
    "    Annotations =pd.read_csv(\"mitbih_database/\" + str(i)+'annotations.txt')\n",
    "    ECG = pd.read_csv(\"mitbih_database/\"+str(i)+\".csv\")\n",
    "    \n",
    "    temp = pd.DataFrame(columns = 'FileAgain')\n",
    "    for i in range(len(ECG[columns[1]])):\n",
    "            \n",
    "        temp['FlieAgain']=FileNumber\n",
    "    return temp"
   ]
  },
  {
   "cell_type": "code",
   "execution_count": 48,
   "id": "55ec731f",
   "metadata": {},
   "outputs": [],
   "source": [
    "#def Bpm(FileNumber):\n",
    "    "
   ]
  },
  {
   "cell_type": "code",
   "execution_count": 49,
   "id": "0fe05994",
   "metadata": {},
   "outputs": [],
   "source": [
    "#def PwaveHeight(FileNumber):\n",
    "    "
   ]
  },
  {
   "cell_type": "code",
   "execution_count": 50,
   "id": "8120b84b",
   "metadata": {},
   "outputs": [],
   "source": [
    "#def TwaveHeight(FileNumber):\n",
    "    "
   ]
  },
  {
   "cell_type": "code",
   "execution_count": 51,
   "id": "d72881b2",
   "metadata": {},
   "outputs": [],
   "source": [
    "def RwaveHeight(FileNumber):\n",
    "    Annotations =pd.read_csv(\"mitbih_database/\" + str(i)+'annotations.txt')\n",
    "    ECG = pd.read_csv(\"mitbih_database/\"+str(i)+\".csv\")\n",
    "    \n",
    "    Samples= np.array(annotations['Sample#']).astype(int)\n",
    "    d= np.array(ECG.columns[1])\n",
    "    \n",
    "    HeartBeatHeights=[ECG[d][i] for i in Samples]\n",
    "    \n",
    "    return HeartBeatHeights\n",
    "    "
   ]
  },
  {
   "cell_type": "code",
   "execution_count": 52,
   "id": "5e31e48d",
   "metadata": {},
   "outputs": [],
   "source": [
    "#return a dataframe with extracted features from a given file\n",
    "def NerokitExtraction(FileNumber):\n",
    "    File= pd.read_csv(\"mitbih_database/\"+str(FileNumber)+\".csv\")\n",
    "    annotations = mlbeats.df_from_txt(\"mitbih_database/\"+str(FileNumber)+\"annotations.txt\")\n",
    "    data=File[File.columns[1]].to_numpy()\n",
    "    rpeak = []\n",
    "    for i in range(len(annotations['Sample#'])):\n",
    "        x = int(annotations['Sample#'][i])\n",
    "        rpeak.append(x)\n",
    "    rpeak = np.array(rpeak)\n",
    "    \n",
    "    ecg_signal = File[File.columns[1]].to_numpy()\n",
    "    cleaned_ecg = nk.ecg_clean(ecg_signal, sampling_rate=1000, method='neurokit')#used\n",
    "    plt.plot(ecg_signal)\n",
    "    plt.plot(cleaned_ecg)\n",
    "    plt.xlim(0, 1000)\n",
    "    plt.show()\n",
    "    \n",
    "    \n",
    "    events = rpeak[1:]\n",
    "    epochs = nk.epochs_create(ecg_signal, events, sampling_rate=360, epochs_start=-0.4, epochs_end=0.4)\n",
    "    \n",
    "    \n",
    "    features = nk.ecg_analyze(epochs, sampling_rate=360, method='auto', subepoch_rate=[None, None])\n",
    "    features.columns = ['beat_number', 'ECG_R_Peaks']\n",
    "    \n",
    "    dataframe, QRS = nk.ecg_delineate(cleaned_ecg, rpeaks=rpeak[1:], sampling_rate=360, method='dwt', show=False, show_type='all', check=False)\n",
    "    \n",
    "    features['ECG_Q_Peaks'] = QRS['ECG_Q_Peaks']\n",
    "    features['ECG_S_Peaks'] = QRS['ECG_S_Peaks']\n",
    "    features['ECG_P_Peaks'] = QRS['ECG_P_Peaks']\n",
    "    features['ECG_P_Onsets'] = QRS['ECG_P_Onsets']\n",
    "    features['ECG_P_Offsets'] = QRS['ECG_P_Offsets']\n",
    "    features['ECG_T_Peaks'] = QRS['ECG_T_Peaks']\n",
    "    features['ECG_T_Onsets'] = QRS['ECG_T_Onsets']\n",
    "    features['ECG_T_Offsets'] = QRS['ECG_T_Offsets']\n",
    "    features['ECG_R_Onsets'] = QRS['ECG_R_Onsets']\n",
    "    features['ECG_R_Offsets'] = QRS['ECG_R_Offsets']\n",
    "    \n",
    "    \n",
    "    return \"HI\""
   ]
  },
  {
   "cell_type": "code",
   "execution_count": null,
   "id": "b44db6f9",
   "metadata": {},
   "outputs": [],
   "source": []
  },
  {
   "cell_type": "code",
   "execution_count": null,
   "id": "62e6ce8a",
   "metadata": {},
   "outputs": [],
   "source": []
  },
  {
   "cell_type": "code",
   "execution_count": null,
   "id": "4bf43155",
   "metadata": {},
   "outputs": [],
   "source": []
  }
 ],
 "metadata": {
  "kernelspec": {
   "display_name": "Python 3",
   "language": "python",
   "name": "python3"
  },
  "language_info": {
   "codemirror_mode": {
    "name": "ipython",
    "version": 3
   },
   "file_extension": ".py",
   "mimetype": "text/x-python",
   "name": "python",
   "nbconvert_exporter": "python",
   "pygments_lexer": "ipython3",
   "version": "3.8.8"
  }
 },
 "nbformat": 4,
 "nbformat_minor": 5
}
