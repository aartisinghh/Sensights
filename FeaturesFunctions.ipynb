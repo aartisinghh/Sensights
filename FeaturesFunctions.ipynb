{
 "cells": [
  {
   "cell_type": "code",
   "execution_count": 3,
   "id": "161f1970",
   "metadata": {},
   "outputs": [],
   "source": [
    "import numpy as np\n",
    "import pandas as pd\n",
    "import csv\n",
    "from scipy.integrate import quad\n",
    "%run Functions.ipynb"
   ]
  },
  {
   "cell_type": "code",
   "execution_count": null,
   "id": "356b33b4",
   "metadata": {},
   "outputs": [],
   "source": [
    "def Area(FileNumber):\n",
    "    Annotations =pd.read_csv(\"mitbih_database/\" + str(i)+'annotations.txt')\n",
    "    ECG = pd.read_csv(\"mitbih_database/\"+str(i)+\".csv\")\n",
    "    "
   ]
  },
  {
   "cell_type": "code",
   "execution_count": null,
   "id": "55ec731f",
   "metadata": {},
   "outputs": [],
   "source": [
    "def Bpm(FileNumber):\n",
    "    "
   ]
  },
  {
   "cell_type": "code",
   "execution_count": null,
   "id": "0fe05994",
   "metadata": {},
   "outputs": [],
   "source": [
    "def PwaveHeight(FileNumber):\n",
    "    "
   ]
  },
  {
   "cell_type": "code",
   "execution_count": null,
   "id": "8120b84b",
   "metadata": {},
   "outputs": [],
   "source": [
    "def TwaveHeight(FileNumber):\n",
    "    "
   ]
  },
  {
   "cell_type": "code",
   "execution_count": 4,
   "id": "d72881b2",
   "metadata": {},
   "outputs": [],
   "source": [
    "def RwaveHeight(FileNumber):\n",
    "    Annotations =pd.read_csv(\"mitbih_database/\" + str(i)+'annotations.txt')\n",
    "    ECG = pd.read_csv(\"mitbih_database/\"+str(i)+\".csv\")\n",
    "    \n",
    "    Samples= np.array(annotations['Sample#']).astype(int)\n",
    "    d= np.array(ECG.columns[1])\n",
    "    \n",
    "    HeartBeatHeights=[ECG[d][i] for i in Samples]\n",
    "    \n",
    "    return HeartBeatHeights\n",
    "    "
   ]
  },
  {
   "cell_type": "code",
   "execution_count": null,
   "id": "5e31e48d",
   "metadata": {},
   "outputs": [],
   "source": []
  }
 ],
 "metadata": {
  "kernelspec": {
   "display_name": "Python 3",
   "language": "python",
   "name": "python3"
  },
  "language_info": {
   "codemirror_mode": {
    "name": "ipython",
    "version": 3
   },
   "file_extension": ".py",
   "mimetype": "text/x-python",
   "name": "python",
   "nbconvert_exporter": "python",
   "pygments_lexer": "ipython3",
   "version": "3.8.8"
  }
 },
 "nbformat": 4,
 "nbformat_minor": 5
}
