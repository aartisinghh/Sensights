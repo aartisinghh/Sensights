{
 "cells": [
  {
   "cell_type": "code",
   "execution_count": 38,
   "id": "161f1970",
   "metadata": {},
   "outputs": [],
   "source": [
    "import numpy as np\n",
    "import pandas as pd\n",
    "import csv\n",
    "import neurokit2 as nk\n",
    "from scipy.integrate import quad\n",
    "import seaborn as sns\n",
    "import matplotlib.pyplot as plt\n",
    "%run Functions.ipynb"
   ]
  },
  {
   "cell_type": "code",
   "execution_count": 93,
   "id": "bfe7dd02",
   "metadata": {},
   "outputs": [
    {
     "name": "stdout",
     "output_type": "stream",
     "text": [
      "Features functions has run successfully\n"
     ]
    }
   ],
   "source": [
    "'''\n",
    "class Bryson():\n",
    "    \n",
    "    \n",
    "    def test(FileNumber):\n",
    "        Annotations =mlbeats.df_from_txt(\"mitbih_database/\" + str(FileNumber)+'annotations.txt')\n",
    "        ECG = pd.read_csv(\"mitbih_database/\"+str(FileNumber)+\".csv\")\n",
    "        temp = pd.DataFrame()\n",
    "        for i in range(len(Annotations[Annotations.columns[1]])):\n",
    "            row = pd.DataFrame([FileNumber],columns=['FileAgain'])\n",
    "            temp = pd.concat([temp, row], axis=0)\n",
    "        return temp\n",
    "    \n",
    "    \n",
    "    \n",
    "    \n",
    "print(\"Features functions has run successfully\")\n",
    "'''"
   ]
  },
  {
   "cell_type": "code",
   "execution_count": 46,
   "id": "356b33b4",
   "metadata": {},
   "outputs": [],
   "source": [
    "def Area(FileNumber):\n",
    "    Annotations =pd.read_csv(\"mitbih_database/\" + str(i)+'annotations.txt')\n",
    "    ECG = pd.read_csv(\"mitbih_database/\"+str(i)+\".csv\")"
   ]
  },
  {
   "cell_type": "code",
   "execution_count": 66,
   "id": "55ec731f",
   "metadata": {},
   "outputs": [],
   "source": [
    "#def Bpm(FileNumber):\n",
    "    "
   ]
  },
  {
   "cell_type": "code",
   "execution_count": 49,
   "id": "0fe05994",
   "metadata": {},
   "outputs": [],
   "source": [
    "#def PwaveHeight(FileNumber):\n",
    "    "
   ]
  },
  {
   "cell_type": "code",
   "execution_count": 50,
   "id": "8120b84b",
   "metadata": {},
   "outputs": [],
   "source": [
    "#def TwaveHeight(FileNumber):\n",
    "    "
   ]
  },
  {
   "cell_type": "code",
   "execution_count": 51,
   "id": "d72881b2",
   "metadata": {},
   "outputs": [],
   "source": [
    "def RwaveHeight(FileNumber):\n",
    "    Annotations =pd.read_csv(\"mitbih_database/\" + str(i)+'annotations.txt')\n",
    "    ECG = pd.read_csv(\"mitbih_database/\"+str(i)+\".csv\")\n",
    "    \n",
    "    Samples= np.array(annotations['Sample#']).astype(int)\n",
    "    d= np.array(ECG.columns[1])\n",
    "    \n",
    "    HeartBeatHeights=[ECG[d][i] for i in Samples]\n",
    "    \n",
    "    return HeartBeatHeights\n",
    "    "
   ]
  },
  {
   "cell_type": "code",
   "execution_count": 35,
   "id": "87ef764e",
   "metadata": {},
   "outputs": [
    {
     "name": "stdout",
     "output_type": "stream",
     "text": [
      "HI\n"
     ]
    },
    {
     "data": {
      "text/html": [
       "<div>\n",
       "<style scoped>\n",
       "    .dataframe tbody tr th:only-of-type {\n",
       "        vertical-align: middle;\n",
       "    }\n",
       "\n",
       "    .dataframe tbody tr th {\n",
       "        vertical-align: top;\n",
       "    }\n",
       "\n",
       "    .dataframe thead th {\n",
       "        text-align: right;\n",
       "    }\n",
       "</style>\n",
       "<table border=\"1\" class=\"dataframe\">\n",
       "  <thead>\n",
       "    <tr style=\"text-align: right;\">\n",
       "      <th></th>\n",
       "      <th>AUX</th>\n",
       "    </tr>\n",
       "  </thead>\n",
       "  <tbody>\n",
       "    <tr>\n",
       "      <th>0</th>\n",
       "      <td>None</td>\n",
       "    </tr>\n",
       "    <tr>\n",
       "      <th>1</th>\n",
       "      <td>(N</td>\n",
       "    </tr>\n",
       "    <tr>\n",
       "      <th>2</th>\n",
       "      <td>None</td>\n",
       "    </tr>\n",
       "    <tr>\n",
       "      <th>3</th>\n",
       "      <td>None</td>\n",
       "    </tr>\n",
       "    <tr>\n",
       "      <th>4</th>\n",
       "      <td>None</td>\n",
       "    </tr>\n",
       "  </tbody>\n",
       "</table>\n",
       "</div>"
      ],
      "text/plain": [
       "    AUX\n",
       "0  None\n",
       "1    (N\n",
       "2  None\n",
       "3  None\n",
       "4  None"
      ]
     },
     "execution_count": 35,
     "metadata": {},
     "output_type": "execute_result"
    }
   ],
   "source": [
    "class Bryson():\n",
    "    def test(FileNumber):\n",
    "        Annotations =mlbeats.df_from_txt(\"mitbih_database/\" + str(FileNumber)+'annotations.txt')\n",
    "        ECG = pd.read_csv(\"mitbih_database/\"+str(FileNumber)+\".csv\")\n",
    "        temp = pd.DataFrame()\n",
    "        for i in range(len(Annotations[Annotations.columns[1]])):\n",
    "            row = pd.DataFrame([FileNumber],columns=['FileAgain'])\n",
    "            temp = pd.concat([temp, row], axis=0)\n",
    "        return temp\n",
    "    \n",
    "    \n",
    "    def NerokitExtraction(FileNumber):\n",
    "        print(\"extracting File\",FileNumber)\n",
    "        File= pd.read_csv(\"mitbih_database/\"+str(FileNumber)+\".csv\")\n",
    "        annotations = mlbeats.df_from_txt(\"mitbih_database/\"+str(FileNumber)+\"annotations.txt\")\n",
    "        data=File[File.columns[1]].to_numpy()\n",
    "        rpeak = []\n",
    "        for i in range(len(annotations['Sample#'])):\n",
    "            x = int(annotations['Sample#'][i])\n",
    "            rpeak.append(x)\n",
    "        rpeak = np.array(rpeak)\n",
    "    \n",
    "        ecg_signal = File[File.columns[1]].to_numpy()\n",
    "        cleaned_ecg = nk.ecg_clean(ecg_signal, sampling_rate=1000, method='neurokit')#used\n",
    "    \n",
    "        events = rpeak[1:]\n",
    "        epochs = nk.epochs_create(ecg_signal, events, sampling_rate=360, epochs_start=-0.4, epochs_end=0.4)\n",
    "    \n",
    "    \n",
    "        features = nk.ecg_analyze(epochs, sampling_rate=360, method='auto', subepoch_rate=[None, None])\n",
    "        features.columns = ['beat_number', 'ECG_R_Peaks']\n",
    "        \n",
    "        \n",
    "        \n",
    "        dataframe, QRS = nk.ecg_delineate(cleaned_ecg, rpeaks=rpeak[1:], sampling_rate=360, method='dwt', show=False, show_type='all', check=False)\n",
    "\n",
    "        features['ECG_Q_Peaks'] = QRS['ECG_Q_Peaks']\n",
    "        features['ECG_S_Peaks'] = QRS['ECG_S_Peaks']\n",
    "        features['ECG_P_Peaks'] = QRS['ECG_P_Peaks']\n",
    "        features['ECG_P_Onsets'] = QRS['ECG_P_Onsets']\n",
    "        features['ECG_P_Offsets'] = QRS['ECG_P_Offsets']\n",
    "        features['ECG_T_Peaks'] = QRS['ECG_T_Peaks']\n",
    "        features['ECG_T_Onsets'] = QRS['ECG_T_Onsets']\n",
    "        features['ECG_T_Offsets'] = QRS['ECG_T_Offsets']\n",
    "        features['ECG_R_Onsets'] = QRS['ECG_R_Onsets']\n",
    "        features['ECG_R_Offsets'] = QRS['ECG_R_Offsets']\n",
    "    \n",
    "        print(\"extraction complete\")\n",
    "        return features\n",
    "    \n",
    "    def AUX_Extract(FileNumber):\n",
    "        print(\"extracting File\",FileNumber)\n",
    "        annotations = mlbeats.df_from_txt(\"mitbih_database/\"+str(FileNumber)+\"annotations.txt\")\n",
    "        \n",
    "        temp = pd.DataFrame(columns=['AUX'])\n",
    "        temp['AUX']=annotations['AUX']\n",
    "        print(\"extraction complete\")\n",
    "        \n",
    "        return temp\n",
    "\n"
   ]
  },
  {
   "cell_type": "code",
   "execution_count": null,
   "id": "b940da2e",
   "metadata": {},
   "outputs": [],
   "source": []
  },
  {
   "cell_type": "code",
   "execution_count": 36,
   "id": "07860f47",
   "metadata": {},
   "outputs": [
    {
     "name": "stdout",
     "output_type": "stream",
     "text": [
      "loaded functions\n"
     ]
    }
   ],
   "source": [
    "print(\"loaded functions\")"
   ]
  },
  {
   "cell_type": "code",
   "execution_count": null,
   "id": "28bb0eaf",
   "metadata": {},
   "outputs": [],
   "source": []
  }
 ],
 "metadata": {
  "kernelspec": {
   "display_name": "Python 3 (ipykernel)",
   "language": "python",
   "name": "python3"
  },
  "language_info": {
   "codemirror_mode": {
    "name": "ipython",
    "version": 3
   },
   "file_extension": ".py",
   "mimetype": "text/x-python",
   "name": "python",
   "nbconvert_exporter": "python",
   "pygments_lexer": "ipython3",
   "version": "3.9.7"
  }
 },
 "nbformat": 4,
 "nbformat_minor": 5
}
