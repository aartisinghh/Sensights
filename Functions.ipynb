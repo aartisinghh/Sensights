{
 "cells": [
  {
   "cell_type": "code",
   "execution_count": 1,
   "id": "2be5e1d4",
   "metadata": {},
   "outputs": [],
   "source": [
    "'''\n",
    "This file will be used to store useful functions that can be used in the jupiter notebooks\n",
    "\n",
    "'''\n",
    "class mlbeats():\n",
    "\n",
    "    def df_from_txt(txt_path):\n",
    "        \n",
    "        data = []\n",
    "        with open(txt_path,'r') as data_file:\n",
    "            for line in data_file:\n",
    "                x=line.copy()\n",
    "                data.append(line.split()[:3])\n",
    "                \n",
    "        df = pd.DataFrame(data[1:], columns = ['Time', 'Sample#', 'Result','AUX'])\n",
    "        return df\n",
    "\n",
    "def time_to_val(time):\n",
    "    '''\n",
    "    Input: Time value as shown in the annotations folder ex. 0:05.025 \n",
    "    Output: Time value that can be used to navigate csv\n",
    "    '''\n",
    "    \n",
    "    return"
   ]
  },
  {
   "cell_type": "code",
   "execution_count": null,
   "id": "3e55dafc",
   "metadata": {},
   "outputs": [],
   "source": []
  }
 ],
 "metadata": {
  "kernelspec": {
   "display_name": "Python 3",
   "language": "python",
   "name": "python3"
  },
  "language_info": {
   "codemirror_mode": {
    "name": "ipython",
    "version": 3
   },
   "file_extension": ".py",
   "mimetype": "text/x-python",
   "name": "python",
   "nbconvert_exporter": "python",
   "pygments_lexer": "ipython3",
   "version": "3.8.8"
  }
 },
 "nbformat": 4,
 "nbformat_minor": 5
}
