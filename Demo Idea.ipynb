{
 "cells": [
  {
   "cell_type": "code",
   "execution_count": 2,
   "id": "e8659e9b",
   "metadata": {},
   "outputs": [
    {
     "name": "stdout",
     "output_type": "stream",
     "text": [
      "loaded functions\n"
     ]
    }
   ],
   "source": [
    "import numpy as np\n",
    "import pandas as pd\n",
    "import csv\n",
    "import sklearn as sk\n",
    "from sklearn.model_selection import train_test_split\n",
    "from sklearn import tree\n",
    "%run Functions.ipynb\n",
    "%run FeaturesFunctions.ipynb\n",
    "import matplotlib.pyplot as plt\n",
    "from sklearn.metrics import roc_auc_score"
   ]
  },
  {
   "cell_type": "code",
   "execution_count": 43,
   "id": "1537a7e6",
   "metadata": {},
   "outputs": [
    {
     "name": "stdout",
     "output_type": "stream",
     "text": [
      "71477\n"
     ]
    }
   ],
   "source": [
    "Interval=pd.read_csv(\"IntervalInfo.csv\")\n",
    "\n",
    "inputs = Interval.drop(Interval.columns[:4],axis='columns')\n",
    "Target = Interval[[\"Abnormal\"]]"
   ]
  },
  {
   "cell_type": "code",
   "execution_count": 7,
   "id": "a9d49580",
   "metadata": {},
   "outputs": [
    {
     "name": "stdout",
     "output_type": "stream",
     "text": [
      "0.9281850401044581 Regular\n",
      "0.8998309045120932 AUC1\n",
      "\n"
     ]
    }
   ],
   "source": [
    "model1 = tree.DecisionTreeClassifier()\n",
    "\n",
    "x_train1, x_test1, y_train1, y_test1 = train_test_split(inputs, Target,test_size=0.3)\n",
    "\n",
    "model1.fit(X=x_train1,y=y_train1)"
   ]
  },
  {
   "cell_type": "code",
   "execution_count": 49,
   "id": "efe7be55",
   "metadata": {},
   "outputs": [
    {
     "name": "stdout",
     "output_type": "stream",
     "text": [
      "[0. 0. 0. ... 0. 0. 1.]\n",
      "2239\n"
     ]
    }
   ],
   "source": [
    "print(model1.predict(inputs[:2270]))\n",
    "print((model1.predict(inputs[:2270])==0.).sum())\n",
    "    "
   ]
  },
  {
   "cell_type": "code",
   "execution_count": 12,
   "id": "5ef602ee",
   "metadata": {},
   "outputs": [
    {
     "name": "stdout",
     "output_type": "stream",
     "text": [
      "5000\n"
     ]
    }
   ],
   "source": [
    "Example=pd.read_csv(\"mitbih_database/100.csv\").head(5000)"
   ]
  },
  {
   "cell_type": "code",
   "execution_count": 13,
   "id": "7766038f",
   "metadata": {},
   "outputs": [
    {
     "name": "stdout",
     "output_type": "stream",
     "text": [
      "extracting File 100\n"
     ]
    },
    {
     "name": "stderr",
     "output_type": "stream",
     "text": [
      "C:\\Users\\Bryson\\anaconda3\\lib\\site-packages\\neurokit2\\epochs\\eventrelated_utils.py:81: NeuroKitWarning: Input does not have an `ECG_Rate` column. Will skip all rate-related features.\n",
      "  warn(\n",
      "C:\\Users\\Bryson\\anaconda3\\lib\\site-packages\\neurokit2\\ecg\\ecg_eventrelated.py:147: NeuroKitWarning: Input does not have an `ECG_Phase_Artrial` or `ECG_Phase_Ventricular` column. Will not indicate whether event onset concurs with cardiac phase.\n",
      "  warn(\n",
      "C:\\Users\\Bryson\\anaconda3\\lib\\site-packages\\neurokit2\\ecg\\ecg_eventrelated.py:170: NeuroKitWarning: Input does not have an `ECG_Quality` column. Quality of the signal is not computed.\n",
      "  warn(\n",
      "C:\\Users\\Bryson\\anaconda3\\lib\\site-packages\\numpy\\core\\fromnumeric.py:3419: RuntimeWarning: Mean of empty slice.\n",
      "  return _methods._mean(a, axis=axis, dtype=dtype,\n",
      "C:\\Users\\Bryson\\anaconda3\\lib\\site-packages\\numpy\\core\\_methods.py:188: RuntimeWarning: invalid value encountered in double_scalars\n",
      "  ret = ret.dtype.type(ret / rcount)\n"
     ]
    },
    {
     "name": "stdout",
     "output_type": "stream",
     "text": [
      "extraction complete\n"
     ]
    }
   ],
   "source": [
    "example=Bryson.NerokitExtraction(100)"
   ]
  },
  {
   "cell_type": "code",
   "execution_count": 42,
   "id": "0a9e61c2",
   "metadata": {},
   "outputs": [
    {
     "name": "stdout",
     "output_type": "stream",
     "text": [
      "2273\n",
      "2273\n",
      "2270\n"
     ]
    },
    {
     "data": {
      "text/html": [
       "<div>\n",
       "<style scoped>\n",
       "    .dataframe tbody tr th:only-of-type {\n",
       "        vertical-align: middle;\n",
       "    }\n",
       "\n",
       "    .dataframe tbody tr th {\n",
       "        vertical-align: top;\n",
       "    }\n",
       "\n",
       "    .dataframe thead th {\n",
       "        text-align: right;\n",
       "    }\n",
       "</style>\n",
       "<table border=\"1\" class=\"dataframe\">\n",
       "  <thead>\n",
       "    <tr style=\"text-align: right;\">\n",
       "      <th></th>\n",
       "      <th>beat_number</th>\n",
       "      <th>ECG_R_Peaks</th>\n",
       "      <th>ECG_Q_Peaks</th>\n",
       "      <th>ECG_S_Peaks</th>\n",
       "      <th>ECG_P_Peaks</th>\n",
       "      <th>ECG_P_Onsets</th>\n",
       "      <th>ECG_P_Offsets</th>\n",
       "      <th>ECG_T_Peaks</th>\n",
       "      <th>ECG_T_Onsets</th>\n",
       "      <th>ECG_T_Offsets</th>\n",
       "      <th>ECG_R_Onsets</th>\n",
       "      <th>ECG_R_Offsets</th>\n",
       "    </tr>\n",
       "  </thead>\n",
       "  <tbody>\n",
       "    <tr>\n",
       "      <th>1</th>\n",
       "      <td>1</td>\n",
       "      <td>77</td>\n",
       "      <td>66.0</td>\n",
       "      <td>88.0</td>\n",
       "      <td>NaN</td>\n",
       "      <td>NaN</td>\n",
       "      <td>NaN</td>\n",
       "      <td>144.0</td>\n",
       "      <td>NaN</td>\n",
       "      <td>147.0</td>\n",
       "      <td>NaN</td>\n",
       "      <td>91.0</td>\n",
       "    </tr>\n",
       "    <tr>\n",
       "      <th>2</th>\n",
       "      <td>2</td>\n",
       "      <td>370</td>\n",
       "      <td>359.0</td>\n",
       "      <td>472.0</td>\n",
       "      <td>309.0</td>\n",
       "      <td>294.0</td>\n",
       "      <td>338.0</td>\n",
       "      <td>432.0</td>\n",
       "      <td>418.0</td>\n",
       "      <td>468.0</td>\n",
       "      <td>350.0</td>\n",
       "      <td>387.0</td>\n",
       "    </tr>\n",
       "    <tr>\n",
       "      <th>3</th>\n",
       "      <td>3</td>\n",
       "      <td>662</td>\n",
       "      <td>652.0</td>\n",
       "      <td>757.0</td>\n",
       "      <td>603.0</td>\n",
       "      <td>586.0</td>\n",
       "      <td>610.0</td>\n",
       "      <td>783.0</td>\n",
       "      <td>761.0</td>\n",
       "      <td>791.0</td>\n",
       "      <td>644.0</td>\n",
       "      <td>676.0</td>\n",
       "    </tr>\n",
       "    <tr>\n",
       "      <th>4</th>\n",
       "      <td>4</td>\n",
       "      <td>946</td>\n",
       "      <td>936.0</td>\n",
       "      <td>958.0</td>\n",
       "      <td>884.0</td>\n",
       "      <td>863.0</td>\n",
       "      <td>890.0</td>\n",
       "      <td>1064.0</td>\n",
       "      <td>1045.0</td>\n",
       "      <td>1070.0</td>\n",
       "      <td>925.0</td>\n",
       "      <td>961.0</td>\n",
       "    </tr>\n",
       "    <tr>\n",
       "      <th>5</th>\n",
       "      <td>5</td>\n",
       "      <td>1231</td>\n",
       "      <td>1221.0</td>\n",
       "      <td>1323.0</td>\n",
       "      <td>1168.0</td>\n",
       "      <td>1141.0</td>\n",
       "      <td>1202.0</td>\n",
       "      <td>1257.0</td>\n",
       "      <td>1249.0</td>\n",
       "      <td>1269.0</td>\n",
       "      <td>1213.0</td>\n",
       "      <td>1245.0</td>\n",
       "    </tr>\n",
       "  </tbody>\n",
       "</table>\n",
       "</div>"
      ],
      "text/plain": [
       "  beat_number  ECG_R_Peaks  ECG_Q_Peaks  ECG_S_Peaks  ECG_P_Peaks  \\\n",
       "1           1           77         66.0         88.0          NaN   \n",
       "2           2          370        359.0        472.0        309.0   \n",
       "3           3          662        652.0        757.0        603.0   \n",
       "4           4          946        936.0        958.0        884.0   \n",
       "5           5         1231       1221.0       1323.0       1168.0   \n",
       "\n",
       "   ECG_P_Onsets  ECG_P_Offsets  ECG_T_Peaks  ECG_T_Onsets  ECG_T_Offsets  \\\n",
       "1           NaN            NaN        144.0           NaN          147.0   \n",
       "2         294.0          338.0        432.0         418.0          468.0   \n",
       "3         586.0          610.0        783.0         761.0          791.0   \n",
       "4         863.0          890.0       1064.0        1045.0         1070.0   \n",
       "5        1141.0         1202.0       1257.0        1249.0         1269.0   \n",
       "\n",
       "   ECG_R_Onsets  ECG_R_Offsets  \n",
       "1           NaN           91.0  \n",
       "2         350.0          387.0  \n",
       "3         644.0          676.0  \n",
       "4         925.0          961.0  \n",
       "5        1213.0         1245.0  "
      ]
     },
     "execution_count": 42,
     "metadata": {},
     "output_type": "execute_result"
    }
   ],
   "source": [
    "\n",
    "Training=example\n",
    "print(len(Training))\n",
    "Training = Training.drop([\"ECG_T_Peaks\",\"ECG_T_Onsets\",\"ECG_T_Offsets\",\"ECG_R_Offsets\"],axis='columns')\n",
    "print(len(Training))\n",
    "Training.dropna(inplace=True)\n",
    "print(len(Training))\n",
    "example.head()"
   ]
  },
  {
   "cell_type": "code",
   "execution_count": 25,
   "id": "b020360a",
   "metadata": {},
   "outputs": [],
   "source": [
    "Interval = pd.DataFrame(columns=[\"R-R Interval\",\"R Height\",\"R_Onset-Rpeak\",\"Q-Q Interval\",\"Q Height\",\"P_Onset-P_Offset\",\"P Height\",\"P-P Interval\",\"P_Onset-Ppeak\"])\n",
    "RRLIST=np.array([])\n",
    "QQLIST=np.array([])\n",
    "R_Height=np.array([])\n",
    "Q_Height=np.array([]) \n",
    "P_Height=np.array([])\n",
    "Ron_RP=np.array([])\n",
    "Pon_PP=np.array([])\n",
    "Pon_Poff=np.array([])\n",
    "PPLIST=np.array([])\n",
    "Abnormal=np.array([])\n",
    "Result=np.array([])\n",
    "FILES=np.array([])\n",
    "y=2\n",
    "FileNumber=100\n",
    "RAWFile= pd.read_csv(\"mitbih_database/\"+str(FileNumber)+\".csv\")\n",
    "\n",
    "\n",
    "for i in Training[\"beat_number\"][:-3]:\n",
    "    i=int(i)\n",
    "    if (i-y>1):\n",
    "        y=i\n",
    "        continue\n",
    "        \n",
    "    RRLIST=np.append(RRLIST,Training[\"ECG_R_Peaks\"][i]-Training[\"ECG_R_Peaks\"][y])\n",
    "    QQLIST=np.append(QQLIST,Training[\"ECG_Q_Peaks\"][i]-Training[\"ECG_Q_Peaks\"][y])\n",
    "    PPLIST=np.append(PPLIST,Training[\"ECG_P_Peaks\"][i]-Training[\"ECG_P_Peaks\"][y])\n",
    "    R_Height=np.append(R_Height,RAWFile[RAWFile.columns[1]][Training[\"ECG_R_Peaks\"][i]])#\n",
    "    Q_Height=np.append(Q_Height,RAWFile[RAWFile.columns[1]][Training[\"ECG_Q_Peaks\"][i]])#\n",
    "    P_Height=np.append(P_Height,RAWFile[RAWFile.columns[1]][Training[\"ECG_P_Peaks\"][i]])#\n",
    "    Ron_RP=np.append(Ron_RP,Training[\"ECG_R_Peaks\"][i]-Training[\"ECG_R_Onsets\"][i])\n",
    "    Pon_PP=np.append(Pon_PP,Training[\"ECG_P_Peaks\"][i]-Training[\"ECG_P_Onsets\"][i])\n",
    "    Pon_Poff=np.append(Pon_Poff,Training[\"ECG_P_Offsets\"][i]-Training[\"ECG_P_Onsets\"][i])\n",
    "    FILES=np.append(FILES,FileNumber)\n",
    "    \n",
    "    y=i\n",
    "\n",
    "Interval[\"R-R Interval\"]=RRLIST\n",
    "Interval[\"Q-Q Interval\"]=QQLIST\n",
    "Interval[\"P-P Interval\"]=PPLIST\n",
    "Interval[\"R_Onset-Rpeak\"]=Ron_RP\n",
    "Interval[\"P_Onset-Ppeak\"]=Pon_PP\n",
    "Interval[\"P_Onset-P_Offset\"]=Pon_Poff\n",
    "Interval[\"R Height\"]=R_Height#\n",
    "Interval[\"Q Height\"]=Q_Height#\n",
    "Interval[\"P Height\"]=P_Height#\n",
    "Interval[\"Abnormal\"]=Abnormal"
   ]
  },
  {
   "cell_type": "code",
   "execution_count": 26,
   "id": "a6d5a5d4",
   "metadata": {},
   "outputs": [
    {
     "data": {
      "text/html": [
       "<div>\n",
       "<style scoped>\n",
       "    .dataframe tbody tr th:only-of-type {\n",
       "        vertical-align: middle;\n",
       "    }\n",
       "\n",
       "    .dataframe tbody tr th {\n",
       "        vertical-align: top;\n",
       "    }\n",
       "\n",
       "    .dataframe thead th {\n",
       "        text-align: right;\n",
       "    }\n",
       "</style>\n",
       "<table border=\"1\" class=\"dataframe\">\n",
       "  <thead>\n",
       "    <tr style=\"text-align: right;\">\n",
       "      <th></th>\n",
       "      <th>R-R Interval</th>\n",
       "      <th>R Height</th>\n",
       "      <th>R_Onset-Rpeak</th>\n",
       "      <th>Q-Q Interval</th>\n",
       "      <th>Q Height</th>\n",
       "      <th>P_Onset-P_Offset</th>\n",
       "      <th>P Height</th>\n",
       "      <th>P-P Interval</th>\n",
       "      <th>P_Onset-Ppeak</th>\n",
       "    </tr>\n",
       "  </thead>\n",
       "  <tbody>\n",
       "    <tr>\n",
       "      <th>0</th>\n",
       "      <td>0.0</td>\n",
       "      <td>1186.0</td>\n",
       "      <td>21.0</td>\n",
       "      <td>0.0</td>\n",
       "      <td>895.0</td>\n",
       "      <td>27.0</td>\n",
       "      <td>975.0</td>\n",
       "      <td>0.0</td>\n",
       "      <td>21.0</td>\n",
       "    </tr>\n",
       "    <tr>\n",
       "      <th>1</th>\n",
       "      <td>285.0</td>\n",
       "      <td>1188.0</td>\n",
       "      <td>18.0</td>\n",
       "      <td>285.0</td>\n",
       "      <td>921.0</td>\n",
       "      <td>61.0</td>\n",
       "      <td>973.0</td>\n",
       "      <td>284.0</td>\n",
       "      <td>27.0</td>\n",
       "    </tr>\n",
       "    <tr>\n",
       "      <th>2</th>\n",
       "      <td>284.0</td>\n",
       "      <td>1201.0</td>\n",
       "      <td>20.0</td>\n",
       "      <td>284.0</td>\n",
       "      <td>915.0</td>\n",
       "      <td>18.0</td>\n",
       "      <td>974.0</td>\n",
       "      <td>294.0</td>\n",
       "      <td>4.0</td>\n",
       "    </tr>\n",
       "    <tr>\n",
       "      <th>3</th>\n",
       "      <td>294.0</td>\n",
       "      <td>1213.0</td>\n",
       "      <td>19.0</td>\n",
       "      <td>294.0</td>\n",
       "      <td>920.0</td>\n",
       "      <td>27.0</td>\n",
       "      <td>984.0</td>\n",
       "      <td>284.0</td>\n",
       "      <td>20.0</td>\n",
       "    </tr>\n",
       "    <tr>\n",
       "      <th>4</th>\n",
       "      <td>235.0</td>\n",
       "      <td>1193.0</td>\n",
       "      <td>19.0</td>\n",
       "      <td>235.0</td>\n",
       "      <td>914.0</td>\n",
       "      <td>42.0</td>\n",
       "      <td>978.0</td>\n",
       "      <td>238.0</td>\n",
       "      <td>23.0</td>\n",
       "    </tr>\n",
       "  </tbody>\n",
       "</table>\n",
       "</div>"
      ],
      "text/plain": [
       "   R-R Interval  R Height  R_Onset-Rpeak  Q-Q Interval  Q Height  \\\n",
       "0           0.0    1186.0           21.0           0.0     895.0   \n",
       "1         285.0    1188.0           18.0         285.0     921.0   \n",
       "2         284.0    1201.0           20.0         284.0     915.0   \n",
       "3         294.0    1213.0           19.0         294.0     920.0   \n",
       "4         235.0    1193.0           19.0         235.0     914.0   \n",
       "\n",
       "   P_Onset-P_Offset  P Height  P-P Interval  P_Onset-Ppeak  \n",
       "0              27.0     975.0           0.0           21.0  \n",
       "1              61.0     973.0         284.0           27.0  \n",
       "2              18.0     974.0         294.0            4.0  \n",
       "3              27.0     984.0         284.0           20.0  \n",
       "4              42.0     978.0         238.0           23.0  "
      ]
     },
     "execution_count": 26,
     "metadata": {},
     "output_type": "execute_result"
    }
   ],
   "source": [
    "Interval.head()"
   ]
  },
  {
   "cell_type": "code",
   "execution_count": 33,
   "id": "e64e0f0c",
   "metadata": {},
   "outputs": [
    {
     "name": "stdout",
     "output_type": "stream",
     "text": [
      "<class 'numpy.ndarray'>\n"
     ]
    }
   ],
   "source": [
    "predictions = model1.predict(Interval)\n",
    "print(type(predictions))"
   ]
  },
  {
   "cell_type": "code",
   "execution_count": 38,
   "id": "aa97d818",
   "metadata": {},
   "outputs": [
    {
     "name": "stdout",
     "output_type": "stream",
     "text": [
      "1296\n"
     ]
    }
   ],
   "source": [
    "print((predictions==0.).sum())"
   ]
  },
  {
   "cell_type": "code",
   "execution_count": 40,
   "id": "ec7032e5",
   "metadata": {},
   "outputs": [],
   "source": [
    "Annotations = mlbeats.df_from_txt(\"mitbih_database/100annotations.txt\")"
   ]
  },
  {
   "cell_type": "code",
   "execution_count": 41,
   "id": "e20823d0",
   "metadata": {},
   "outputs": [
    {
     "name": "stdout",
     "output_type": "stream",
     "text": [
      "2239\n"
     ]
    }
   ],
   "source": [
    "print((Annotations[\"Result\"]=='N').sum())"
   ]
  },
  {
   "cell_type": "code",
   "execution_count": null,
   "id": "911d7abf",
   "metadata": {},
   "outputs": [],
   "source": []
  }
 ],
 "metadata": {
  "kernelspec": {
   "display_name": "Python 3 (ipykernel)",
   "language": "python",
   "name": "python3"
  },
  "language_info": {
   "codemirror_mode": {
    "name": "ipython",
    "version": 3
   },
   "file_extension": ".py",
   "mimetype": "text/x-python",
   "name": "python",
   "nbconvert_exporter": "python",
   "pygments_lexer": "ipython3",
   "version": "3.9.7"
  }
 },
 "nbformat": 4,
 "nbformat_minor": 5
}
