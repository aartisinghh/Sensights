{
 "cells": [
  {
   "cell_type": "code",
   "execution_count": 25,
   "id": "8fa8e871",
   "metadata": {},
   "outputs": [],
   "source": [
    "import numpy as np\n",
    "import pandas as pd\n",
    "import csv\n",
    "import sklearn as sk\n",
    "from sklearn.model_selection import train_test_split\n",
    "from sklearn import tree\n",
    "%run Functions.ipynb"
   ]
  },
  {
   "cell_type": "code",
   "execution_count": 67,
   "id": "364e6db0",
   "metadata": {},
   "outputs": [
    {
     "name": "stdout",
     "output_type": "stream",
     "text": [
      "112647\n",
      "450\n"
     ]
    }
   ],
   "source": [
    "DATA=pd.read_csv(\"training.csv\")\n",
    "DATA=DATA[DATA.columns[1:]]\n",
    "\n",
    "#DATA = DATA.head(100) #takes first 100 rows to make sure the rest of the code works before making it bigger\n",
    "print(len(DATA))\n",
    "DATA.dropna(inplace=True)\n",
    "DATA.head()\n",
    "print(len(DATA))"
   ]
  },
  {
   "cell_type": "code",
   "execution_count": 68,
   "id": "d3871393",
   "metadata": {},
   "outputs": [],
   "source": [
    "model = tree.DecisionTreeClassifier()"
   ]
  },
  {
   "cell_type": "code",
   "execution_count": 76,
   "id": "d1ce21ea",
   "metadata": {
    "scrolled": true
   },
   "outputs": [
    {
     "name": "stdout",
     "output_type": "stream",
     "text": [
      "       Result\n",
      "8873        +\n",
      "13636       +\n",
      "13650       +\n",
      "13654       +\n",
      "14228       +\n",
      "...       ...\n",
      "108791      +\n",
      "109095      +\n",
      "109133      +\n",
      "109781      +\n",
      "109855      +\n",
      "\n",
      "[450 rows x 1 columns]\n"
     ]
    }
   ],
   "source": [
    "inputs = DATA.drop([\"Result\",\"AUX\"],axis='columns')\n",
    "Target = DATA[[\"Result\"]]\n",
    "print(Target)"
   ]
  },
  {
   "cell_type": "code",
   "execution_count": 74,
   "id": "5897cef2",
   "metadata": {},
   "outputs": [
    {
     "name": "stdout",
     "output_type": "stream",
     "text": [
      "315\n",
      "315\n",
      "135\n",
      "135\n"
     ]
    }
   ],
   "source": [
    "x_train, x_test, y_train, y_test = train_test_split(inputs, Target,test_size=0.3)\n",
    "print(len(x_train))\n",
    "print(len(y_train))\n",
    "\n",
    "\n",
    "print(len(x_test))\n",
    "print(len(y_test))\n"
   ]
  },
  {
   "cell_type": "code",
   "execution_count": null,
   "id": "c6df6fe1",
   "metadata": {},
   "outputs": [],
   "source": []
  },
  {
   "cell_type": "code",
   "execution_count": 71,
   "id": "46aae365",
   "metadata": {},
   "outputs": [
    {
     "data": {
      "text/plain": [
       "DecisionTreeClassifier()"
      ]
     },
     "execution_count": 71,
     "metadata": {},
     "output_type": "execute_result"
    }
   ],
   "source": [
    "model.fit(X=x_train,y=y_train)"
   ]
  },
  {
   "cell_type": "code",
   "execution_count": 73,
   "id": "d41e8a0d",
   "metadata": {},
   "outputs": [
    {
     "data": {
      "text/plain": [
       "0.9851851851851852"
      ]
     },
     "execution_count": 73,
     "metadata": {},
     "output_type": "execute_result"
    }
   ],
   "source": [
    "model.score(x_test,y_test)"
   ]
  },
  {
   "cell_type": "code",
   "execution_count": 92,
   "id": "a82f351e",
   "metadata": {},
   "outputs": [
    {
     "name": "stdout",
     "output_type": "stream",
     "text": [
      "['\"']\n",
      "Result    \"\n",
      "Name: 104375, dtype: object\n"
     ]
    }
   ],
   "source": [
    "i=15\n",
    "print(model.predict([x_test.iloc[i]]))\n",
    "print(y_test.iloc[i])\n",
    "\n",
    "#print(x_test.iloc[4])"
   ]
  },
  {
   "cell_type": "code",
   "execution_count": null,
   "id": "e1d2bcc0",
   "metadata": {},
   "outputs": [],
   "source": []
  }
 ],
 "metadata": {
  "kernelspec": {
   "display_name": "Python 3",
   "language": "python",
   "name": "python3"
  },
  "language_info": {
   "codemirror_mode": {
    "name": "ipython",
    "version": 3
   },
   "file_extension": ".py",
   "mimetype": "text/x-python",
   "name": "python",
   "nbconvert_exporter": "python",
   "pygments_lexer": "ipython3",
   "version": "3.8.8"
  }
 },
 "nbformat": 4,
 "nbformat_minor": 5
}
