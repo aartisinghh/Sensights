{
 "cells": [
  {
   "cell_type": "code",
   "execution_count": 1,
   "id": "bc496258",
   "metadata": {},
   "outputs": [
    {
     "name": "stdout",
     "output_type": "stream",
     "text": [
      "Requirement already satisfied: neurokit2 in c:\\users\\joyce mao\\anaconda3\\lib\\site-packages (0.1.6)\n",
      "Requirement already satisfied: scikit-learn in c:\\users\\joyce mao\\anaconda3\\lib\\site-packages (from neurokit2) (0.24.2)\n",
      "Requirement already satisfied: matplotlib in c:\\users\\joyce mao\\anaconda3\\lib\\site-packages (from neurokit2) (3.4.3)\n",
      "Requirement already satisfied: pandas in c:\\users\\joyce mao\\anaconda3\\lib\\site-packages (from neurokit2) (1.3.4)\n",
      "Requirement already satisfied: numpy in c:\\users\\joyce mao\\anaconda3\\lib\\site-packages (from neurokit2) (1.20.3)\n",
      "Requirement already satisfied: scipy in c:\\users\\joyce mao\\anaconda3\\lib\\site-packages (from neurokit2) (1.7.1)\n",
      "Requirement already satisfied: pyparsing>=2.2.1 in c:\\users\\joyce mao\\anaconda3\\lib\\site-packages (from matplotlib->neurokit2) (3.0.4)\n",
      "Requirement already satisfied: pillow>=6.2.0 in c:\\users\\joyce mao\\anaconda3\\lib\\site-packages (from matplotlib->neurokit2) (8.4.0)\n",
      "Requirement already satisfied: python-dateutil>=2.7 in c:\\users\\joyce mao\\anaconda3\\lib\\site-packages (from matplotlib->neurokit2) (2.8.2)\n",
      "Requirement already satisfied: cycler>=0.10 in c:\\users\\joyce mao\\anaconda3\\lib\\site-packages (from matplotlib->neurokit2) (0.10.0)\n",
      "Requirement already satisfied: kiwisolver>=1.0.1 in c:\\users\\joyce mao\\anaconda3\\lib\\site-packages (from matplotlib->neurokit2) (1.3.1)\n",
      "Requirement already satisfied: six in c:\\users\\joyce mao\\anaconda3\\lib\\site-packages (from cycler>=0.10->matplotlib->neurokit2) (1.16.0)\n",
      "Requirement already satisfied: pytz>=2017.3 in c:\\users\\joyce mao\\anaconda3\\lib\\site-packages (from pandas->neurokit2) (2021.3)\n",
      "Requirement already satisfied: joblib>=0.11 in c:\\users\\joyce mao\\anaconda3\\lib\\site-packages (from scikit-learn->neurokit2) (1.1.0)\n",
      "Requirement already satisfied: threadpoolctl>=2.0.0 in c:\\users\\joyce mao\\anaconda3\\lib\\site-packages (from scikit-learn->neurokit2) (2.2.0)\n",
      "Note: you may need to restart the kernel to use updated packages.\n"
     ]
    }
   ],
   "source": [
    "pip install neurokit2"
   ]
  },
  {
   "cell_type": "code",
   "execution_count": 2,
   "id": "e23ecc27",
   "metadata": {},
   "outputs": [],
   "source": [
    "import mlbeats\n",
    "import pandas as pd\n",
    "import numpy as np\n",
    "import neurokit2 as nk\n",
    "import matplotlib.pyplot as plt\n",
    "import seaborn as sns\n",
    "%matplotlib inline\n",
    "plt.rcParams['figure.figsize'] = [8, 5]  # Bigger images"
   ]
  },
  {
   "cell_type": "markdown",
   "id": "d0020d82",
   "metadata": {},
   "source": [
    "for i in np.arange(100, 101, 1):\n",
    "    csv_path = \"mitbih_database/\"+str(i)+\".csv\" \n",
    "    try:\n",
    "        df = mlbeats. data_from_csv(csv_path)\n",
    "    except FileNotFoundError:\n",
    "        pass\n",
    "\n",
    "  "
   ]
  },
  {
   "cell_type": "code",
   "execution_count": 18,
   "id": "74fd5e32",
   "metadata": {},
   "outputs": [
    {
     "name": "stdout",
     "output_type": "stream",
     "text": [
      "[ 994  994  994 ... 1011 1012 1024]\n"
     ]
    }
   ],
   "source": [
    "test_file = pd.read_csv(\"mitbih_database/104.csv\")\n",
    "#data = test_file[\"\\'MLII\\'\"].to_numpy()\n",
    "ecg_signal = test_file.iloc[:, 1].to_numpy()\n",
    "print(ecg_signal)"
   ]
  },
  {
   "cell_type": "code",
   "execution_count": 4,
   "id": "30313f38",
   "metadata": {},
   "outputs": [
    {
     "data": {
      "text/html": [
       "<div>\n",
       "<style scoped>\n",
       "    .dataframe tbody tr th:only-of-type {\n",
       "        vertical-align: middle;\n",
       "    }\n",
       "\n",
       "    .dataframe tbody tr th {\n",
       "        vertical-align: top;\n",
       "    }\n",
       "\n",
       "    .dataframe thead th {\n",
       "        text-align: right;\n",
       "    }\n",
       "</style>\n",
       "<table border=\"1\" class=\"dataframe\">\n",
       "  <thead>\n",
       "    <tr style=\"text-align: right;\">\n",
       "      <th></th>\n",
       "      <th>Sample#</th>\n",
       "      <th>Result</th>\n",
       "    </tr>\n",
       "  </thead>\n",
       "  <tbody>\n",
       "    <tr>\n",
       "      <th>0</th>\n",
       "      <td>73</td>\n",
       "      <td>/</td>\n",
       "    </tr>\n",
       "    <tr>\n",
       "      <th>1</th>\n",
       "      <td>316</td>\n",
       "      <td>/</td>\n",
       "    </tr>\n",
       "    <tr>\n",
       "      <th>2</th>\n",
       "      <td>615</td>\n",
       "      <td>/</td>\n",
       "    </tr>\n",
       "    <tr>\n",
       "      <th>3</th>\n",
       "      <td>901</td>\n",
       "      <td>/</td>\n",
       "    </tr>\n",
       "    <tr>\n",
       "      <th>4</th>\n",
       "      <td>1188</td>\n",
       "      <td>/</td>\n",
       "    </tr>\n",
       "  </tbody>\n",
       "</table>\n",
       "</div>"
      ],
      "text/plain": [
       "  Sample# Result\n",
       "0      73      /\n",
       "1     316      /\n",
       "2     615      /\n",
       "3     901      /\n",
       "4    1188      /"
      ]
     },
     "execution_count": 4,
     "metadata": {},
     "output_type": "execute_result"
    }
   ],
   "source": [
    "data = []\n",
    "with open(\"mitbih_database/104annotations.txt\", 'r') as data_file:\n",
    "    for line in data_file:\n",
    "        item=line.split()\n",
    "        if len(item)==7:\n",
    "            item[2]=item[-1]\n",
    "            item=item[0:7]\n",
    "            data.append(item[1:3])\n",
    "        else:\n",
    "            data.append(item[1:3])\n",
    "annotations=pd.DataFrame(data[2:], columns=[\"Sample#\", \"Result\"])\n",
    "annotations.head()"
   ]
  },
  {
   "cell_type": "code",
   "execution_count": 15,
   "id": "53b76bc9",
   "metadata": {},
   "outputs": [],
   "source": [
    "#find r peak\n",
    "rpeak = []\n",
    "for i in range(len(annotations['Sample#'])):\n",
    "    x = int(annotations['Sample#'][i])\n",
    "    rpeak.append(x)\n",
    "rpeak = np.array(rpeak)"
   ]
  },
  {
   "cell_type": "code",
   "execution_count": 19,
   "id": "a8350550",
   "metadata": {},
   "outputs": [
    {
     "data": {
      "text/plain": [
       "'\\nplt.figure(figsize = [12, 12])\\nplt.plot(test_file[\"\\'sample #\\'\"], ecg_signal)\\nplt.plot(test_file[\"\\'sample #\\'\"], cleaned_ecg, label = \\'neurokit\\')\\nplt.plot(test_file[\"\\'sample #\\'\"], cleaned_ecg2, label = \\'biosppy\\')\\nplt.plot(test_file[\"\\'sample #\\'\"], cleaned_ecg3, label = \\'pantompkins1985\\')\\nplt.plot(test_file[\"\\'sample #\\'\"], cleaned_ecg4, label = \\'hamilton2002\\')\\nplt.plot(test_file[\"\\'sample #\\'\"], cleaned_ecg5, label = \\'elgendi2010\\')\\nplt.plot(test_file[\"\\'sample #\\'\"], cleaned_ecg6, label = \\'engzeemod2012\\')\\nplt.legend()\\n#plt.xlim(322500, 325000)\\nplt.xlim(0, 1000)\\nplt.show()\\n'"
      ]
     },
     "execution_count": 19,
     "metadata": {},
     "output_type": "execute_result"
    }
   ],
   "source": [
    "#compare different cleaning method\n",
    "cleaned_ecg = nk.ecg_clean(ecg_signal, sampling_rate=1000, method='neurokit')#used\n",
    "#cleaned_ecg3 = nk.ecg_clean(ecg_signal, sampling_rate=1000, method='pantompkins1985')\n",
    "#cleaned_ecg4 = nk.ecg_clean(ecg_signal, sampling_rate=1000, method='hamilton2002')\n",
    "#cleaned_ecg5 = nk.ecg_clean(ecg_signal, sampling_rate=1000, method='elgendi2010')\n",
    "#cleaned_ecg6 = nk.ecg_clean(ecg_signal, sampling_rate=1000, method='engzeemod2012')\n",
    "\"\"\"\n",
    "plt.figure(figsize = [12, 12])\n",
    "plt.plot(test_file[\"\\'sample #\\'\"], ecg_signal)\n",
    "plt.plot(test_file[\"\\'sample #\\'\"], cleaned_ecg, label = 'neurokit')\n",
    "plt.plot(test_file[\"\\'sample #\\'\"], cleaned_ecg2, label = 'biosppy')\n",
    "plt.plot(test_file[\"\\'sample #\\'\"], cleaned_ecg3, label = 'pantompkins1985')\n",
    "plt.plot(test_file[\"\\'sample #\\'\"], cleaned_ecg4, label = 'hamilton2002')\n",
    "plt.plot(test_file[\"\\'sample #\\'\"], cleaned_ecg5, label = 'elgendi2010')\n",
    "plt.plot(test_file[\"\\'sample #\\'\"], cleaned_ecg6, label = 'engzeemod2012')\n",
    "plt.legend()\n",
    "#plt.xlim(322500, 325000)\n",
    "plt.xlim(0, 1000)\n",
    "plt.show()\n",
    "\"\"\""
   ]
  },
  {
   "cell_type": "code",
   "execution_count": 7,
   "id": "96b9fbe0",
   "metadata": {
    "scrolled": true
   },
   "outputs": [
    {
     "name": "stdout",
     "output_type": "stream",
     "text": [
      "<class 'dict'>\n"
     ]
    }
   ],
   "source": [
    "#heart beat extraction\n",
    "events = rpeak[1:]\n",
    "epochs = nk.epochs_create(ecg_signal, events, sampling_rate=360, epochs_start=-0.4, epochs_end=0.4)\n",
    "print(type(epochs))"
   ]
  },
  {
   "cell_type": "code",
   "execution_count": 8,
   "id": "0a6aed71",
   "metadata": {},
   "outputs": [
    {
     "name": "stderr",
     "output_type": "stream",
     "text": [
      "C:\\Users\\Joyce Mao\\anaconda3\\lib\\site-packages\\neurokit2\\epochs\\eventrelated_utils.py:81: NeuroKitWarning: Input does not have an `ECG_Rate` column. Will skip all rate-related features.\n",
      "  warn(\n",
      "C:\\Users\\Joyce Mao\\anaconda3\\lib\\site-packages\\neurokit2\\ecg\\ecg_eventrelated.py:147: NeuroKitWarning: Input does not have an `ECG_Phase_Artrial` or `ECG_Phase_Ventricular` column. Will not indicate whether event onset concurs with cardiac phase.\n",
      "  warn(\n",
      "C:\\Users\\Joyce Mao\\anaconda3\\lib\\site-packages\\neurokit2\\ecg\\ecg_eventrelated.py:170: NeuroKitWarning: Input does not have an `ECG_Quality` column. Quality of the signal is not computed.\n",
      "  warn(\n"
     ]
    },
    {
     "name": "stdout",
     "output_type": "stream",
     "text": [
      "     beat_number  ECG_R_Peaks\n",
      "1              1          316\n",
      "2              2          615\n",
      "3              3          901\n",
      "4              4         1188\n",
      "5              5         1477\n",
      "...          ...          ...\n",
      "2305        2305       648730\n",
      "2306        2306       649022\n",
      "2307        2307       649300\n",
      "2308        2308       649580\n",
      "2309        2309       649876\n",
      "\n",
      "[2309 rows x 2 columns]\n"
     ]
    }
   ],
   "source": [
    "features = nk.ecg_analyze(epochs, sampling_rate=360, method='auto', subepoch_rate=[None, None])\n",
    "features.columns = ['beat_number', 'ECG_R_Peaks']\n",
    "print(features)"
   ]
  },
  {
   "cell_type": "code",
   "execution_count": 9,
   "id": "a2f4f391",
   "metadata": {},
   "outputs": [],
   "source": [
    "#extract features\n",
    "\n",
    "dataframe, QRS = nk.ecg_delineate(cleaned_ecg, rpeaks=rpeak[1:], sampling_rate=360, method='dwt', show=False, show_type='all', check=False)\n"
   ]
  },
  {
   "cell_type": "code",
   "execution_count": 10,
   "id": "0928ffe8",
   "metadata": {},
   "outputs": [],
   "source": [
    "features['ECG_Q_Peaks'] = QRS['ECG_Q_Peaks']\n",
    "features['ECG_S_Peaks'] = QRS['ECG_S_Peaks']\n",
    "features['ECG_P_Peaks'] = QRS['ECG_P_Peaks']\n",
    "features['ECG_P_Onsets'] = QRS['ECG_P_Onsets']\n",
    "features['ECG_P_Offsets'] = QRS['ECG_P_Offsets']\n",
    "features['ECG_T_Peaks'] = QRS['ECG_T_Peaks']\n",
    "features['ECG_T_Onsets'] = QRS['ECG_T_Onsets']\n",
    "features['ECG_T_Offsets'] = QRS['ECG_T_Offsets']\n",
    "features['ECG_R_Onsets'] = QRS['ECG_R_Onsets']\n",
    "features['ECG_R_Offsets'] = QRS['ECG_R_Offsets']\n"
   ]
  },
  {
   "cell_type": "code",
   "execution_count": 11,
   "id": "cecb2d81",
   "metadata": {},
   "outputs": [
    {
     "name": "stdout",
     "output_type": "stream",
     "text": [
      "     beat_number  ECG_R_Peaks  ECG_Q_Peaks  ECG_S_Peaks  ECG_P_Peaks  \\\n",
      "1              1          316        292.0        358.0          NaN   \n",
      "2              2          615        585.0        654.0          NaN   \n",
      "3              3          901        868.0        940.0          NaN   \n",
      "4              4         1188       1160.0       1224.0          NaN   \n",
      "5              5         1477       1430.0       1550.0       1388.0   \n",
      "...          ...          ...          ...          ...          ...   \n",
      "2305        2305       648730     648704.0     648767.0          NaN   \n",
      "2306        2306       649022     648990.0     649055.0          NaN   \n",
      "2307        2307       649300     649272.0     649335.0          NaN   \n",
      "2308        2308       649580     649531.0     649618.0          NaN   \n",
      "2309        2309       649876     649851.0     649916.0          NaN   \n",
      "\n",
      "      ECG_P_Onsets  ECG_P_Offsets  ECG_T_Peaks  ECG_T_Onsets  ECG_T_Offsets  \\\n",
      "1              NaN            NaN          NaN           NaN            NaN   \n",
      "2              NaN            NaN          NaN           NaN            NaN   \n",
      "3              NaN            NaN          NaN           NaN            NaN   \n",
      "4              NaN            NaN          NaN           NaN            NaN   \n",
      "5           1375.0         1418.0          NaN           NaN            NaN   \n",
      "...            ...            ...          ...           ...            ...   \n",
      "2305           NaN            NaN          NaN           NaN            NaN   \n",
      "2306           NaN            NaN          NaN           NaN            NaN   \n",
      "2307           NaN            NaN          NaN           NaN            NaN   \n",
      "2308           NaN            NaN          NaN           NaN            NaN   \n",
      "2309           NaN            NaN          NaN           NaN            NaN   \n",
      "\n",
      "      ECG_R_Onsets  ECG_R_Offsets  \n",
      "1              NaN            NaN  \n",
      "2              NaN            NaN  \n",
      "3              NaN            NaN  \n",
      "4              NaN            NaN  \n",
      "5           1394.0            NaN  \n",
      "...            ...            ...  \n",
      "2305           NaN            NaN  \n",
      "2306           NaN            NaN  \n",
      "2307           NaN            NaN  \n",
      "2308           NaN            NaN  \n",
      "2309           NaN            NaN  \n",
      "\n",
      "[2309 rows x 12 columns]\n"
     ]
    }
   ],
   "source": [
    "print(features) #there're lots of nan for the first beat\n",
    "#need cleaning for nan values"
   ]
  },
  {
   "cell_type": "code",
   "execution_count": 12,
   "id": "bb4b3eb3",
   "metadata": {},
   "outputs": [
    {
     "ename": "KeyError",
     "evalue": "\"'MLII'\"",
     "output_type": "error",
     "traceback": [
      "\u001b[1;31m---------------------------------------------------------------------------\u001b[0m",
      "\u001b[1;31mKeyError\u001b[0m                                  Traceback (most recent call last)",
      "\u001b[1;32m~\\anaconda3\\lib\\site-packages\\pandas\\core\\indexes\\base.py\u001b[0m in \u001b[0;36mget_loc\u001b[1;34m(self, key, method, tolerance)\u001b[0m\n\u001b[0;32m   3360\u001b[0m             \u001b[1;32mtry\u001b[0m\u001b[1;33m:\u001b[0m\u001b[1;33m\u001b[0m\u001b[1;33m\u001b[0m\u001b[0m\n\u001b[1;32m-> 3361\u001b[1;33m                 \u001b[1;32mreturn\u001b[0m \u001b[0mself\u001b[0m\u001b[1;33m.\u001b[0m\u001b[0m_engine\u001b[0m\u001b[1;33m.\u001b[0m\u001b[0mget_loc\u001b[0m\u001b[1;33m(\u001b[0m\u001b[0mcasted_key\u001b[0m\u001b[1;33m)\u001b[0m\u001b[1;33m\u001b[0m\u001b[1;33m\u001b[0m\u001b[0m\n\u001b[0m\u001b[0;32m   3362\u001b[0m             \u001b[1;32mexcept\u001b[0m \u001b[0mKeyError\u001b[0m \u001b[1;32mas\u001b[0m \u001b[0merr\u001b[0m\u001b[1;33m:\u001b[0m\u001b[1;33m\u001b[0m\u001b[1;33m\u001b[0m\u001b[0m\n",
      "\u001b[1;32m~\\anaconda3\\lib\\site-packages\\pandas\\_libs\\index.pyx\u001b[0m in \u001b[0;36mpandas._libs.index.IndexEngine.get_loc\u001b[1;34m()\u001b[0m\n",
      "\u001b[1;32m~\\anaconda3\\lib\\site-packages\\pandas\\_libs\\index.pyx\u001b[0m in \u001b[0;36mpandas._libs.index.IndexEngine.get_loc\u001b[1;34m()\u001b[0m\n",
      "\u001b[1;32mpandas\\_libs\\hashtable_class_helper.pxi\u001b[0m in \u001b[0;36mpandas._libs.hashtable.PyObjectHashTable.get_item\u001b[1;34m()\u001b[0m\n",
      "\u001b[1;32mpandas\\_libs\\hashtable_class_helper.pxi\u001b[0m in \u001b[0;36mpandas._libs.hashtable.PyObjectHashTable.get_item\u001b[1;34m()\u001b[0m\n",
      "\u001b[1;31mKeyError\u001b[0m: \"'MLII'\"",
      "\nThe above exception was the direct cause of the following exception:\n",
      "\u001b[1;31mKeyError\u001b[0m                                  Traceback (most recent call last)",
      "\u001b[1;32mC:\\Users\\JOYCEM~1\\AppData\\Local\\Temp/ipykernel_6084/3457385399.py\u001b[0m in \u001b[0;36m<module>\u001b[1;34m\u001b[0m\n\u001b[0;32m      1\u001b[0m \u001b[1;31m#p peaks illustration\u001b[0m\u001b[1;33m\u001b[0m\u001b[1;33m\u001b[0m\u001b[0m\n\u001b[1;32m----> 2\u001b[1;33m \u001b[0mplt\u001b[0m\u001b[1;33m.\u001b[0m\u001b[0mplot\u001b[0m\u001b[1;33m(\u001b[0m\u001b[0mtest_file\u001b[0m\u001b[1;33m[\u001b[0m\u001b[1;34m\"\\'sample #\\'\"\u001b[0m\u001b[1;33m]\u001b[0m\u001b[1;33m,\u001b[0m \u001b[0mtest_file\u001b[0m\u001b[1;33m[\u001b[0m\u001b[1;34m\"\\'MLII\\'\"\u001b[0m\u001b[1;33m]\u001b[0m\u001b[1;33m)\u001b[0m\u001b[1;33m\u001b[0m\u001b[1;33m\u001b[0m\u001b[0m\n\u001b[0m\u001b[0;32m      3\u001b[0m \u001b[0mplt\u001b[0m\u001b[1;33m.\u001b[0m\u001b[0mxlim\u001b[0m\u001b[1;33m(\u001b[0m\u001b[1;36m0\u001b[0m\u001b[1;33m,\u001b[0m \u001b[1;36m1000\u001b[0m\u001b[1;33m)\u001b[0m\u001b[1;33m\u001b[0m\u001b[1;33m\u001b[0m\u001b[0m\n\u001b[0;32m      4\u001b[0m \u001b[1;32mfor\u001b[0m \u001b[0mi\u001b[0m \u001b[1;32min\u001b[0m \u001b[0mnp\u001b[0m\u001b[1;33m.\u001b[0m\u001b[0marange\u001b[0m\u001b[1;33m(\u001b[0m\u001b[1;36m1\u001b[0m\u001b[1;33m,\u001b[0m \u001b[1;36m10\u001b[0m\u001b[1;33m,\u001b[0m \u001b[1;36m1\u001b[0m\u001b[1;33m)\u001b[0m\u001b[1;33m:\u001b[0m\u001b[1;33m\u001b[0m\u001b[1;33m\u001b[0m\u001b[0m\n\u001b[0;32m      5\u001b[0m     \u001b[0mnumber1\u001b[0m \u001b[1;33m=\u001b[0m \u001b[0mint\u001b[0m\u001b[1;33m(\u001b[0m\u001b[0mfeatures\u001b[0m\u001b[1;33m.\u001b[0m\u001b[0miloc\u001b[0m\u001b[1;33m[\u001b[0m\u001b[0mi\u001b[0m\u001b[1;33m,\u001b[0m \u001b[1;36m4\u001b[0m\u001b[1;33m]\u001b[0m\u001b[1;33m)\u001b[0m\u001b[1;33m\u001b[0m\u001b[1;33m\u001b[0m\u001b[0m\n",
      "\u001b[1;32m~\\anaconda3\\lib\\site-packages\\pandas\\core\\frame.py\u001b[0m in \u001b[0;36m__getitem__\u001b[1;34m(self, key)\u001b[0m\n\u001b[0;32m   3456\u001b[0m             \u001b[1;32mif\u001b[0m \u001b[0mself\u001b[0m\u001b[1;33m.\u001b[0m\u001b[0mcolumns\u001b[0m\u001b[1;33m.\u001b[0m\u001b[0mnlevels\u001b[0m \u001b[1;33m>\u001b[0m \u001b[1;36m1\u001b[0m\u001b[1;33m:\u001b[0m\u001b[1;33m\u001b[0m\u001b[1;33m\u001b[0m\u001b[0m\n\u001b[0;32m   3457\u001b[0m                 \u001b[1;32mreturn\u001b[0m \u001b[0mself\u001b[0m\u001b[1;33m.\u001b[0m\u001b[0m_getitem_multilevel\u001b[0m\u001b[1;33m(\u001b[0m\u001b[0mkey\u001b[0m\u001b[1;33m)\u001b[0m\u001b[1;33m\u001b[0m\u001b[1;33m\u001b[0m\u001b[0m\n\u001b[1;32m-> 3458\u001b[1;33m             \u001b[0mindexer\u001b[0m \u001b[1;33m=\u001b[0m \u001b[0mself\u001b[0m\u001b[1;33m.\u001b[0m\u001b[0mcolumns\u001b[0m\u001b[1;33m.\u001b[0m\u001b[0mget_loc\u001b[0m\u001b[1;33m(\u001b[0m\u001b[0mkey\u001b[0m\u001b[1;33m)\u001b[0m\u001b[1;33m\u001b[0m\u001b[1;33m\u001b[0m\u001b[0m\n\u001b[0m\u001b[0;32m   3459\u001b[0m             \u001b[1;32mif\u001b[0m \u001b[0mis_integer\u001b[0m\u001b[1;33m(\u001b[0m\u001b[0mindexer\u001b[0m\u001b[1;33m)\u001b[0m\u001b[1;33m:\u001b[0m\u001b[1;33m\u001b[0m\u001b[1;33m\u001b[0m\u001b[0m\n\u001b[0;32m   3460\u001b[0m                 \u001b[0mindexer\u001b[0m \u001b[1;33m=\u001b[0m \u001b[1;33m[\u001b[0m\u001b[0mindexer\u001b[0m\u001b[1;33m]\u001b[0m\u001b[1;33m\u001b[0m\u001b[1;33m\u001b[0m\u001b[0m\n",
      "\u001b[1;32m~\\anaconda3\\lib\\site-packages\\pandas\\core\\indexes\\base.py\u001b[0m in \u001b[0;36mget_loc\u001b[1;34m(self, key, method, tolerance)\u001b[0m\n\u001b[0;32m   3361\u001b[0m                 \u001b[1;32mreturn\u001b[0m \u001b[0mself\u001b[0m\u001b[1;33m.\u001b[0m\u001b[0m_engine\u001b[0m\u001b[1;33m.\u001b[0m\u001b[0mget_loc\u001b[0m\u001b[1;33m(\u001b[0m\u001b[0mcasted_key\u001b[0m\u001b[1;33m)\u001b[0m\u001b[1;33m\u001b[0m\u001b[1;33m\u001b[0m\u001b[0m\n\u001b[0;32m   3362\u001b[0m             \u001b[1;32mexcept\u001b[0m \u001b[0mKeyError\u001b[0m \u001b[1;32mas\u001b[0m \u001b[0merr\u001b[0m\u001b[1;33m:\u001b[0m\u001b[1;33m\u001b[0m\u001b[1;33m\u001b[0m\u001b[0m\n\u001b[1;32m-> 3363\u001b[1;33m                 \u001b[1;32mraise\u001b[0m \u001b[0mKeyError\u001b[0m\u001b[1;33m(\u001b[0m\u001b[0mkey\u001b[0m\u001b[1;33m)\u001b[0m \u001b[1;32mfrom\u001b[0m \u001b[0merr\u001b[0m\u001b[1;33m\u001b[0m\u001b[1;33m\u001b[0m\u001b[0m\n\u001b[0m\u001b[0;32m   3364\u001b[0m \u001b[1;33m\u001b[0m\u001b[0m\n\u001b[0;32m   3365\u001b[0m         \u001b[1;32mif\u001b[0m \u001b[0mis_scalar\u001b[0m\u001b[1;33m(\u001b[0m\u001b[0mkey\u001b[0m\u001b[1;33m)\u001b[0m \u001b[1;32mand\u001b[0m \u001b[0misna\u001b[0m\u001b[1;33m(\u001b[0m\u001b[0mkey\u001b[0m\u001b[1;33m)\u001b[0m \u001b[1;32mand\u001b[0m \u001b[1;32mnot\u001b[0m \u001b[0mself\u001b[0m\u001b[1;33m.\u001b[0m\u001b[0mhasnans\u001b[0m\u001b[1;33m:\u001b[0m\u001b[1;33m\u001b[0m\u001b[1;33m\u001b[0m\u001b[0m\n",
      "\u001b[1;31mKeyError\u001b[0m: \"'MLII'\""
     ]
    }
   ],
   "source": [
    "#p peaks illustration\n",
    "plt.plot(test_file[\"\\'sample #\\'\"], test_file[\"\\'MLII\\'\"])\n",
    "plt.xlim(0, 1000)\n",
    "for i in np.arange(1, 10, 1):\n",
    "    number1 = int(features.iloc[i, 4])\n",
    "    \n",
    "    plt.scatter(int(number1), float(ecg_signal[number1]), color = 'red')\n",
    " "
   ]
  },
  {
   "cell_type": "code",
   "execution_count": null,
   "id": "94e8e285",
   "metadata": {},
   "outputs": [],
   "source": [
    "#illustration of detected features\n",
    "plt.plot(test_file[\"\\'sample #\\'\"], test_file[\"\\'MLII\\'\"]) #this is the raw signal\n",
    "plt.xlim(0, 1000)\n",
    "#plot feature points on the raw signal\n",
    "for i in np.arange(1, 1873, 1):\n",
    "    number1 = int(features.iloc[i, 4])\n",
    "    number2 = int(features.iloc[i, 5])\n",
    "    number3 = int(features.iloc[i, 6])\n",
    "    number4 = int(features.iloc[i, 7])\n",
    "    number5 = int(features.iloc[i, 8])\n",
    "    number6 = int(features.iloc[i, 9])\n",
    "    number7 = int(features.iloc[i, 1])\n",
    "    number8 = int(features.iloc[i, 2])\n",
    "    number9 = int(features.iloc[i, 3])\n",
    "    number10 = int(features.iloc[i, 10])\n",
    "    number11 = int(features.iloc[i, 11])\n",
    "\n",
    "    plt.scatter(number1 , ecg_signal[number1], color = 'red') \n",
    "    plt.scatter(number2, ecg_signal[number2], color = 'blue')\n",
    "    plt.scatter(number3, ecg_signal[number3], color = 'green')\n",
    "    plt.scatter(number4, ecg_signal[number4], color = 'orange')\n",
    "    plt.scatter(number5, ecg_signal[number5], color = 'black')\n",
    "    plt.scatter(number6, ecg_signal[number6], color = 'violet')\n",
    "    plt.scatter(number7 , ecg_signal[number7], color = 'm')\n",
    "    plt.scatter(number8, ecg_signal[number8], color = 'grey')\n",
    "    plt.scatter(number9, ecg_signal[number9], color = 'brown')\n",
    "    plt.scatter(number10, ecg_signal[number10], color = 'y')\n",
    "    plt.scatter(number11, ecg_signal[number11], color = 'c')\n",
    "#plt.xlim(320000, 330000)"
   ]
  },
  {
   "cell_type": "code",
   "execution_count": null,
   "id": "41781ce9",
   "metadata": {},
   "outputs": [],
   "source": [
    "#feature extraction using raw ecg\n",
    "dataframe, QRS = nk.ecg_delineate(ecg_signal, rpeaks=rpeak[1:], sampling_rate=360, method='dwt', show=False, show_type='all', check=False)\n",
    "features['ECG_Q_Peaks'] = QRS['ECG_Q_Peaks']\n",
    "features['ECG_S_Peaks'] = QRS['ECG_S_Peaks']\n",
    "features['ECG_P_Peaks'] = QRS['ECG_P_Peaks']\n",
    "features['ECG_P_Onsets'] = QRS['ECG_P_Onsets']\n",
    "features['ECG_P_Offsets'] = QRS['ECG_P_Offsets']\n",
    "features['ECG_T_Peaks'] = QRS['ECG_T_Peaks']\n",
    "features['ECG_T_Onsets'] = QRS['ECG_T_Onsets']\n",
    "features['ECG_T_Offsets'] = QRS['ECG_T_Offsets']\n",
    "features['ECG_R_Onsets'] = QRS['ECG_R_Onsets']\n",
    "features['ECG_R_Offsets'] = QRS['ECG_R_Offsets']\n",
    "plt.plot(test_file[\"\\'sample #\\'\"], test_file[\"\\'MLII\\'\"]) #this is the raw signal\n",
    "plt.xlim(0, 1000)\n",
    "#plot feature points on the raw signal\n",
    "for i in np.arange(1, 1873, 1):\n",
    "    number1 = int(features.iloc[i, 4])\n",
    "    number2 = int(features.iloc[i, 5])\n",
    "    number3 = int(features.iloc[i, 6])\n",
    "    number4 = int(features.iloc[i, 7])\n",
    "    number5 = int(features.iloc[i, 8])\n",
    "    number6 = int(features.iloc[i, 9])\n",
    "    number7 = int(features.iloc[i, 1])\n",
    "    number8 = int(features.iloc[i, 2])\n",
    "    number9 = int(features.iloc[i, 3])\n",
    "    number10 = int(features.iloc[i, 10])\n",
    "    number11 = int(features.iloc[i, 11])\n",
    "\n",
    "    plt.scatter(number1 , ecg_signal[number1], color = 'red') \n",
    "    plt.scatter(number2, ecg_signal[number2], color = 'blue')\n",
    "    plt.scatter(number3, ecg_signal[number3], color = 'green')\n",
    "    plt.scatter(number4, ecg_signal[number4], color = 'orange')\n",
    "    plt.scatter(number5, ecg_signal[number5], color = 'black')\n",
    "    plt.scatter(number6, ecg_signal[number6], color = 'violet')\n",
    "    plt.scatter(number7 , ecg_signal[number7], color = 'm')\n",
    "    plt.scatter(number8, ecg_signal[number8], color = 'grey')\n",
    "    plt.scatter(number9, ecg_signal[number9], color = 'brown')\n",
    "    plt.scatter(number10, ecg_signal[number10], color = 'y')\n",
    "    plt.scatter(number11, ecg_signal[number11], color = 'c')\n",
    "#plt.xlim(320000, 330000)"
   ]
  },
  {
   "cell_type": "code",
   "execution_count": null,
   "id": "92956c42",
   "metadata": {},
   "outputs": [],
   "source": []
  }
 ],
 "metadata": {
  "kernelspec": {
   "display_name": "Python 3 (ipykernel)",
   "language": "python",
   "name": "python3"
  },
  "language_info": {
   "codemirror_mode": {
    "name": "ipython",
    "version": 3
   },
   "file_extension": ".py",
   "mimetype": "text/x-python",
   "name": "python",
   "nbconvert_exporter": "python",
   "pygments_lexer": "ipython3",
   "version": "3.9.7"
  }
 },
 "nbformat": 4,
 "nbformat_minor": 5
}
