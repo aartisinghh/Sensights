{
 "cells": [
  {
   "cell_type": "markdown",
   "id": "a9bb055b",
   "metadata": {},
   "source": [
    "## Supreme ML Beatzzzzzzzz\n"
   ]
  },
  {
   "cell_type": "code",
   "execution_count": 1,
   "id": "f0ce1ff3",
   "metadata": {},
   "outputs": [],
   "source": [
    "import numpy as np\n",
    "import matplotlib.pyplot as plt\n",
    "import pandas as pd\n",
    "import mlbeats"
   ]
  },
  {
   "cell_type": "markdown",
   "id": "fad44060",
   "metadata": {},
   "source": [
    "## Info about the database\n",
    "#### Name: Mit Bih Arrythmia database\n",
    "Link to the database website: https://archive.physionet.org/physiobank/database/html/mitdbdir/intro.htm\n",
    "\n",
    "In early copies of the database, most beat labels were placed at the R-wave peak"
   ]
  },
  {
   "cell_type": "code",
   "execution_count": 2,
   "id": "e348a64f",
   "metadata": {},
   "outputs": [],
   "source": [
    "#define some inportant things about the dataset\n"
   ]
  },
  {
   "cell_type": "code",
   "execution_count": 29,
   "id": "b9370581",
   "metadata": {},
   "outputs": [
    {
     "data": {
      "text/html": [
       "<div>\n",
       "<style scoped>\n",
       "    .dataframe tbody tr th:only-of-type {\n",
       "        vertical-align: middle;\n",
       "    }\n",
       "\n",
       "    .dataframe tbody tr th {\n",
       "        vertical-align: top;\n",
       "    }\n",
       "\n",
       "    .dataframe thead th {\n",
       "        text-align: right;\n",
       "    }\n",
       "</style>\n",
       "<table border=\"1\" class=\"dataframe\">\n",
       "  <thead>\n",
       "    <tr style=\"text-align: right;\">\n",
       "      <th></th>\n",
       "      <th>Time</th>\n",
       "      <th>Sample#</th>\n",
       "      <th>Result</th>\n",
       "    </tr>\n",
       "  </thead>\n",
       "  <tbody>\n",
       "    <tr>\n",
       "      <th>0</th>\n",
       "      <td>0:00.019</td>\n",
       "      <td>7</td>\n",
       "      <td>+</td>\n",
       "    </tr>\n",
       "    <tr>\n",
       "      <th>1</th>\n",
       "      <td>0:00.231</td>\n",
       "      <td>83</td>\n",
       "      <td>N</td>\n",
       "    </tr>\n",
       "    <tr>\n",
       "      <th>2</th>\n",
       "      <td>0:01.100</td>\n",
       "      <td>396</td>\n",
       "      <td>N</td>\n",
       "    </tr>\n",
       "    <tr>\n",
       "      <th>3</th>\n",
       "      <td>0:01.975</td>\n",
       "      <td>711</td>\n",
       "      <td>N</td>\n",
       "    </tr>\n",
       "    <tr>\n",
       "      <th>4</th>\n",
       "      <td>0:02.867</td>\n",
       "      <td>1032</td>\n",
       "      <td>N</td>\n",
       "    </tr>\n",
       "  </tbody>\n",
       "</table>\n",
       "</div>"
      ],
      "text/plain": [
       "       Time Sample# Result\n",
       "0  0:00.019       7      +\n",
       "1  0:00.231      83      N\n",
       "2  0:01.100     396      N\n",
       "3  0:01.975     711      N\n",
       "4  0:02.867    1032      N"
      ]
     },
     "execution_count": 29,
     "metadata": {},
     "output_type": "execute_result"
    }
   ],
   "source": [
    "#import dataset and annotations into a pandas dataframe\n",
    "df = pd.read_csv(\"mitbih_database/101.csv\")\n",
    "annotations = mlbeats.df_from_txt(\"mitbih_database/101annotations.txt\")\n",
    "\n",
    "#preview of how the dataframe looks\n",
    "annotations.head()"
   ]
  },
  {
   "cell_type": "code",
   "execution_count": 28,
   "id": "4b83366b",
   "metadata": {},
   "outputs": [
    {
     "data": {
      "text/plain": [
       "(100.0, 2000.0)"
      ]
     },
     "execution_count": 28,
     "metadata": {},
     "output_type": "execute_result"
    },
    {
     "data": {
      "image/png": "[encoded data removed]",
      "text/plain": [
       "<Figure size 432x288 with 1 Axes>"
      ]
     },
     "metadata": {
      "needs_background": "light"
     },
     "output_type": "display_data"
    }
   ],
   "source": [
    "#preview of how the plot looks\n",
    "plt.plot(df[\"\\'sample #\\'\"], df[\"\\'MLII\\'\"])\n",
    "for i in range(7):\n",
    "    x = int(annotations['Sample#'][i])\n",
    "    plt.scatter(x, df[\"\\'MLII\\'\"][x], color = 'red')\n",
    "\n",
    "plt.xlim(100,2000)"
   ]
  },
  {
   "cell_type": "code",
   "execution_count": 18,
   "id": "62ff6599",
   "metadata": {},
   "outputs": [
    {
     "data": {
      "image/png": "[encoded data removed]",
      "text/plain": [
       "<Figure size 432x288 with 1 Axes>"
      ]
     },
     "metadata": {
      "needs_background": "light"
     },
     "output_type": "display_data"
    }
   ],
   "source": [
    "#Lets try to partition the heartbeats into individual segments\n",
    "def bar(x):\n",
    "    #from 800-1200\n",
    "    plt.plot([x,x], [800,1200],'black', '-')\n",
    "#take the peaks, and plot halfway between\n",
    "for i in range(9):\n",
    "    x = (int(annotations['Sample#'][i]) + int(annotations['Sample#'][i+1]))//2\n",
    "    bar(x)\n",
    "    \n",
    "plt.plot(df[\"\\'sample #\\'\"], df[\"\\'MLII\\'\"])\n",
    "for i in range(7):\n",
    "    x = int(annotations['Sample#'][i])\n",
    "    plt.scatter(x, df[\"\\'MLII\\'\"][x], color = 'red')\n",
    "\n",
    "plt.xlim(100,900)\n",
    "plt.ylim(600, 1400)\n",
    "plt.show()"
   ]
  },
  {
   "cell_type": "code",
   "execution_count": 40,
   "id": "a531cdad",
   "metadata": {},
   "outputs": [
    {
     "data": {
      "text/html": [
       "<div>\n",
       "<style scoped>\n",
       "    .dataframe tbody tr th:only-of-type {\n",
       "        vertical-align: middle;\n",
       "    }\n",
       "\n",
       "    .dataframe tbody tr th {\n",
       "        vertical-align: top;\n",
       "    }\n",
       "\n",
       "    .dataframe thead th {\n",
       "        text-align: right;\n",
       "    }\n",
       "</style>\n",
       "<table border=\"1\" class=\"dataframe\">\n",
       "  <thead>\n",
       "    <tr style=\"text-align: right;\">\n",
       "      <th></th>\n",
       "      <th>Result</th>\n",
       "      <th>Sample#</th>\n",
       "      <th>Feature1</th>\n",
       "      <th>Feature2</th>\n",
       "      <th>More Features</th>\n",
       "    </tr>\n",
       "  </thead>\n",
       "  <tbody>\n",
       "    <tr>\n",
       "      <th>0</th>\n",
       "      <td>+</td>\n",
       "      <td>7</td>\n",
       "      <td>NaN</td>\n",
       "      <td>NaN</td>\n",
       "      <td>NaN</td>\n",
       "    </tr>\n",
       "    <tr>\n",
       "      <th>1</th>\n",
       "      <td>N</td>\n",
       "      <td>83</td>\n",
       "      <td>NaN</td>\n",
       "      <td>NaN</td>\n",
       "      <td>NaN</td>\n",
       "    </tr>\n",
       "    <tr>\n",
       "      <th>2</th>\n",
       "      <td>N</td>\n",
       "      <td>396</td>\n",
       "      <td>NaN</td>\n",
       "      <td>NaN</td>\n",
       "      <td>NaN</td>\n",
       "    </tr>\n",
       "    <tr>\n",
       "      <th>3</th>\n",
       "      <td>N</td>\n",
       "      <td>711</td>\n",
       "      <td>NaN</td>\n",
       "      <td>NaN</td>\n",
       "      <td>NaN</td>\n",
       "    </tr>\n",
       "    <tr>\n",
       "      <th>4</th>\n",
       "      <td>N</td>\n",
       "      <td>1032</td>\n",
       "      <td>NaN</td>\n",
       "      <td>NaN</td>\n",
       "      <td>NaN</td>\n",
       "    </tr>\n",
       "  </tbody>\n",
       "</table>\n",
       "</div>"
      ],
      "text/plain": [
       "  Result Sample# Feature1 Feature2 More Features\n",
       "0      +       7      NaN      NaN           NaN\n",
       "1      N      83      NaN      NaN           NaN\n",
       "2      N     396      NaN      NaN           NaN\n",
       "3      N     711      NaN      NaN           NaN\n",
       "4      N    1032      NaN      NaN           NaN"
      ]
     },
     "execution_count": 40,
     "metadata": {},
     "output_type": "execute_result"
    }
   ],
   "source": [
    "#lets make a df with some of this data\n",
    "training = pd.DataFrame(columns = ['Result', 'Sample#', 'Feature1', 'Feature2', 'More Features'] )\n",
    "training['Sample#'] = annotations['Sample#']\n",
    "training['Result'] = annotations['Result']\n",
    "training.head()\n",
    "        "
   ]
  },
  {
   "cell_type": "code",
   "execution_count": null,
   "id": "0f2cf7b5",
   "metadata": {},
   "outputs": [],
   "source": [
    "#before we do all the ML craziness, we need to create a csv to hold the training data\n",
    "#it will be easiest to create a dataframe and just use pandas .to_csv method\n",
    "train_df\n"
   ]
  },
  {
   "cell_type": "code",
   "execution_count": null,
   "id": "513d4bf8",
   "metadata": {},
   "outputs": [],
   "source": []
  },
  {
   "cell_type": "code",
   "execution_count": null,
   "id": "b56cc1ff",
   "metadata": {},
   "outputs": [],
   "source": []
  }
 ],
 "metadata": {
  "kernelspec": {
   "display_name": "Python 3",
   "language": "python",
   "name": "python3"
  },
  "language_info": {
   "codemirror_mode": {
    "name": "ipython",
    "version": 3
   },
   "file_extension": ".py",
   "mimetype": "text/x-python",
   "name": "python",
   "nbconvert_exporter": "python",
   "pygments_lexer": "ipython3",
   "version": "3.8.8"
  }
 },
 "nbformat": 4,
 "nbformat_minor": 5
}
