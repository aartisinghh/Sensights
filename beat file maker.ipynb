{
 "cells": [
  {
   "cell_type": "code",
   "execution_count": 1,
   "id": "c6afc363",
   "metadata": {},
   "outputs": [],
   "source": [
    "import mlbeats\n",
    "import pandas as pd\n",
    "import numpy as np\n",
    "import neurokit2 as nk\n",
    "import matplotlib.pyplot as plt\n",
    "import biosppy"
   ]
  },
  {
   "cell_type": "code",
   "execution_count": 2,
   "id": "3edfd0a5",
   "metadata": {},
   "outputs": [],
   "source": [
    "filenumber=[100, 101, 102, 103, 104, 105, 106, 107, 108, 109, 111, 112, 113, 114, 115, 116, 117, 118, 119, 121, 122, 123, 124, 200, 201, 202, 203, 205, 207, 208, 209, 210, 212, 213, 214, 215, 217, 219, 220, 221, 222, 223, 228, 230, 231, 232, 233, 234]"
   ]
  },
  {
   "cell_type": "code",
   "execution_count": 3,
   "id": "3314b54a",
   "metadata": {},
   "outputs": [],
   "source": [
    "heart_beat=pd.DataFrame()"
   ]
  },
  {
   "cell_type": "code",
   "execution_count": 5,
   "id": "11a536de",
   "metadata": {},
   "outputs": [
    {
     "name": "stdout",
     "output_type": "stream",
     "text": [
      "100\n",
      "101\n",
      "102\n",
      "103\n",
      "104\n",
      "105\n",
      "106\n",
      "107\n",
      "108\n",
      "109\n",
      "111\n",
      "112\n",
      "113\n",
      "114\n",
      "115\n",
      "116\n",
      "117\n",
      "118\n",
      "119\n",
      "121\n",
      "122\n",
      "123\n",
      "124\n",
      "200\n",
      "201\n",
      "202\n",
      "203\n",
      "205\n",
      "207\n",
      "208\n",
      "209\n",
      "210\n",
      "212\n",
      "213\n",
      "214\n",
      "215\n",
      "217\n",
      "219\n",
      "220\n",
      "221\n",
      "222\n",
      "223\n",
      "228\n",
      "230\n",
      "231\n",
      "232\n",
      "233\n",
      "234\n"
     ]
    }
   ],
   "source": [
    "for j in filenumber:\n",
    "    test_file = pd.read_csv(\"mitbih_database/\"+str(j)+\".csv\")\n",
    "    ecg_signal = test_file.iloc[:, 1].to_numpy()\n",
    "    data = []\n",
    "    with open(\"mitbih_database/\"+str(j)+\"annotations.txt\", 'r') as data_file:\n",
    "        for line in data_file:\n",
    "            item=line.split()\n",
    "            if len(item)==7:\n",
    "                item[2]=item[-1]\n",
    "                item=item[0:7]\n",
    "                data.append(item[1:3])\n",
    "            else:\n",
    "                data.append(item[1:3])\n",
    "    annotations=pd.DataFrame(data[2:], columns=[\"Sample#\", \"Result\"])\n",
    "    rpeak=[]\n",
    "    for i in range(len(annotations['Sample#'])):\n",
    "        x = int(annotations['Sample#'][i])\n",
    "        rpeak.append(x)\n",
    "    rpeak = np.array(rpeak)\n",
    "    ecg_signal = nk.ecg.ecg_clean(ecg_signal, sampling_rate=360, method='neurokit')\n",
    "    epochs, sudo_rpeak=biosppy.signals.ecg.extract_heartbeats(signal=ecg_signal, rpeaks=rpeak, sampling_rate=360, before=0.4, after=0.4)\n",
    "    \n",
    "    \n",
    "    \n",
    "    \n",
    "    labels = []\n",
    "    for k in sudo_rpeak:\n",
    "        row = annotations[annotations[\"Sample#\"] == str(k)]\n",
    "        labels.append(row.iloc[:, 1].to_numpy()[0])\n",
    "    S = {\"A\", \"a\", \"J\", \"S\"}\n",
    "    N = {\"N\", \"L\", \"R\", \"e\", \"j\"}\n",
    "    V = {\"V\", \"E\"}\n",
    "    F = {\"F\"}\n",
    "    Q = {\"/\", \"f\", \"Q\"}\n",
    "    for m in range(len(labels)):\n",
    "        if labels[m] in N:\n",
    "            labels[m] = \"N\"\n",
    "        elif labels[m] in S:\n",
    "            labels[m] = \"S\"\n",
    "        elif labels[m] in V:\n",
    "            labels[m] = \"V\"\n",
    "        elif labels[m] in F:\n",
    "            labels[m] = \"F\"\n",
    "        elif labels[m] in Q:\n",
    "            labels[m] = \"Q\"\n",
    "        else:\n",
    "            pass\n",
    "\n",
    "        \n",
    "      \n",
    "        \n",
    "        \n",
    "    drop_num=[] \n",
    "    for n in range(288):\n",
    "        if n%3 != 0:\n",
    "            drop_num.append(n)\n",
    "            \n",
    "            \n",
    "        \n",
    "    epochs = pd.DataFrame(epochs)\n",
    "    epochs[\"Result\"] = labels\n",
    "    epochs = epochs.drop(drop_num, axis=1)\n",
    "    heart_beat = pd.concat([heart_beat, epochs], axis=0)\n",
    "    print(j)"
   ]
  },
  {
   "cell_type": "code",
   "execution_count": null,
   "id": "2c306e9a",
   "metadata": {
    "scrolled": true
   },
   "outputs": [],
   "source": [
    "print(heart_beat)"
   ]
  },
  {
   "cell_type": "code",
   "execution_count": null,
   "id": "dbcd24b1",
   "metadata": {},
   "outputs": [],
   "source": [
    "heart_beat.to_csv(\"beat_extraction.csv\")"
   ]
  },
  {
   "cell_type": "code",
   "execution_count": null,
   "id": "70b68f2c",
   "metadata": {},
   "outputs": [],
   "source": []
  }
 ],
 "metadata": {
  "kernelspec": {
   "display_name": "Python 3 (ipykernel)",
   "language": "python",
   "name": "python3"
  },
  "language_info": {
   "codemirror_mode": {
    "name": "ipython",
    "version": 3
   },
   "file_extension": ".py",
   "mimetype": "text/x-python",
   "name": "python",
   "nbconvert_exporter": "python",
   "pygments_lexer": "ipython3",
   "version": "3.9.7"
  }
 },
 "nbformat": 4,
 "nbformat_minor": 5
}
