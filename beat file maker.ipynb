{
 "cells": [
  {
   "cell_type": "code",
   "execution_count": 1,
   "id": "c6afc363",
   "metadata": {},
   "outputs": [],
   "source": [
    "import mlbeats\n",
    "import pandas as pd\n",
    "import numpy as np\n",
    "import neurokit2 as nk\n",
    "import matplotlib.pyplot as plt\n",
    "import biosppy"
   ]
  },
  {
   "cell_type": "code",
   "execution_count": 2,
   "id": "3edfd0a5",
   "metadata": {},
   "outputs": [],
   "source": [
    "filenumber=[100, 101, 102, 103, 104, 105, 106, 107, 108, 109, 111, 112, 113, 114, 115, 116, 117, 118, 119, 121, 122, 123, 124, 200, 201, 202, 203, 205, 207, 208, 209, 210, 212, 213, 214, 215, 217, 219, 220, 221, 222, 223, 228, 230, 231, 232, 233, 234]"
   ]
  },
  {
   "cell_type": "code",
   "execution_count": 3,
   "id": "3314b54a",
   "metadata": {},
   "outputs": [],
   "source": [
    "heart_beat=pd.DataFrame()"
   ]
  },
  {
   "cell_type": "code",
   "execution_count": 4,
   "id": "11a536de",
   "metadata": {},
   "outputs": [
    {
     "name": "stdout",
     "output_type": "stream",
     "text": [
      "100\n",
      "101\n",
      "102\n",
      "103\n",
      "104\n",
      "105\n",
      "106\n",
      "107\n",
      "108\n",
      "109\n",
      "111\n",
      "112\n",
      "113\n",
      "114\n",
      "115\n",
      "116\n",
      "117\n",
      "118\n",
      "119\n",
      "121\n",
      "122\n",
      "123\n",
      "124\n",
      "200\n",
      "201\n",
      "202\n",
      "203\n",
      "205\n",
      "207\n",
      "208\n",
      "209\n",
      "210\n",
      "212\n",
      "213\n",
      "214\n",
      "215\n",
      "217\n",
      "219\n",
      "220\n",
      "221\n",
      "222\n",
      "223\n",
      "228\n",
      "230\n",
      "231\n",
      "232\n",
      "233\n",
      "234\n"
     ]
    }
   ],
   "source": [
    "for j in filenumber:\n",
    "    test_file = pd.read_csv(\"mitbih_database/\"+str(j)+\".csv\")\n",
    "    ecg_signal = test_file.iloc[:, 1].to_numpy()\n",
    "    data = []\n",
    "    with open(\"mitbih_database/\"+str(j)+\"annotations.txt\", 'r') as data_file:\n",
    "        for line in data_file:\n",
    "            item=line.split()\n",
    "            if len(item)==7:\n",
    "                item[2]=item[-1]\n",
    "                item=item[0:7]\n",
    "                data.append(item[1:3])\n",
    "            else:\n",
    "                data.append(item[1:3])\n",
    "    annotations=pd.DataFrame(data[2:], columns=[\"Sample#\", \"Result\"])\n",
    "    rpeak=[]\n",
    "    for i in range(len(annotations['Sample#'])):\n",
    "        x = int(annotations['Sample#'][i])\n",
    "        rpeak.append(x)\n",
    "    rpeak = np.array(rpeak)\n",
    "    epochs, sudo_rpeak=biosppy.signals.ecg.extract_heartbeats(signal=ecg_signal, rpeaks=rpeak, sampling_rate=360, before=0.4, after=0.4)\n",
    "    \n",
    "    \n",
    "    \n",
    "    \n",
    "    labels = []\n",
    "    for k in sudo_rpeak:\n",
    "        row = annotations[annotations[\"Sample#\"] == str(k)]\n",
    "        labels.append(row.iloc[:, 1].to_numpy()[0])\n",
    "    S = {\"A\", \"a\", \"J\", \"S\"}\n",
    "    N = {\"N\", \"L\", \"R\", \"e\", \"j\"}\n",
    "    V = {\"V\", \"E\"}\n",
    "    F = {\"F\"}\n",
    "    Q = {\"/\", \"f\", \"Q\"}\n",
    "    for m in range(len(labels)):\n",
    "        if labels[m] in N:\n",
    "            labels[m] = \"N\"\n",
    "        elif labels[m] in S:\n",
    "            labels[m] = \"S\"\n",
    "        elif labels[m] in V:\n",
    "            labels[m] = \"V\"\n",
    "        elif labels[m] in F:\n",
    "            labels[m] = \"F\"\n",
    "        elif labels[m] in Q:\n",
    "            labels[m] = \"Q\"\n",
    "        else:\n",
    "            pass\n",
    "\n",
    "        \n",
    "      \n",
    "        \n",
    "        \n",
    "    drop_num=[] \n",
    "    for n in range(288):\n",
    "        if n%3 != 0:\n",
    "            drop_num.append(n)\n",
    "            \n",
    "            \n",
    "        \n",
    "    epochs = pd.DataFrame(epochs)\n",
    "    epochs[\"Result\"] = labels\n",
    "    epochs = epochs.drop(drop_num, axis=1)\n",
    "    heart_beat = pd.concat([heart_beat, epochs], axis=0)\n",
    "    print(j)"
   ]
  },
  {
   "cell_type": "code",
   "execution_count": 7,
   "id": "2c306e9a",
   "metadata": {
    "scrolled": true
   },
   "outputs": [
    {
     "name": "stdout",
     "output_type": "stream",
     "text": [
      "        0    3    6    9   12   15   18   21   24   27  ...  261  264  267  \\\n",
      "0     968  970  968  969  967  969  964  965  962  967  ...  959  958  962   \n",
      "1     966  960  961  958  961  956  958  954  958  955  ...  962  964  962   \n",
      "2     959  960  954  957  956  954  953  954  954  954  ...  970  965  968   \n",
      "3     964  962  964  956  960  957  960  955  958  954  ...  960  963  960   \n",
      "4     963  964  959  961  958  959  957  957  961  958  ...  965  966  967   \n",
      "...   ...  ...  ...  ...  ...  ...  ...  ...  ...  ...  ...  ...  ...  ...   \n",
      "2757  972  984  982  981  980  984  978  976  973  975  ...  977  975  981   \n",
      "2758  993  991  988  980  983  982  977  975  981  980  ...  971  972  970   \n",
      "2759  984  974  970  971  972  970  965  967  970  972  ...  970  978  976   \n",
      "2760  980  980  979  984  977  975  972  978  973  969  ...  982  984  979   \n",
      "2761  987  986  985  989  994  993  988  983  985  982  ...  964  966  962   \n",
      "\n",
      "      270  273  276  279  282  285  Result  \n",
      "0     960  963  960  962  960  963       N  \n",
      "1     964  960  963  959  965  958       N  \n",
      "2     962  968  963  965  963  964       N  \n",
      "3     963  960  965  964  966  959       N  \n",
      "4     966  968  966  970  969  969       N  \n",
      "...   ...  ...  ...  ...  ...  ...     ...  \n",
      "2757  980  977  970  977  977  979       N  \n",
      "2758  965  967  970  972  967  967       N  \n",
      "2759  968  971  975  973  976  975       N  \n",
      "2760  981  985  985  979  988  988       N  \n",
      "2761  961  961  966  964  965  961       N  \n",
      "\n",
      "[112549 rows x 97 columns]\n"
     ]
    }
   ],
   "source": [
    "print(heart_beat)"
   ]
  },
  {
   "cell_type": "code",
   "execution_count": 8,
   "id": "dbcd24b1",
   "metadata": {},
   "outputs": [],
   "source": [
    "heart_beat.to_csv(\"beat_extraction.csv\")"
   ]
  },
  {
   "cell_type": "code",
   "execution_count": null,
   "id": "70b68f2c",
   "metadata": {},
   "outputs": [],
   "source": []
  }
 ],
 "metadata": {
  "kernelspec": {
   "display_name": "Python 3 (ipykernel)",
   "language": "python",
   "name": "python3"
  },
  "language_info": {
   "codemirror_mode": {
    "name": "ipython",
    "version": 3
   },
   "file_extension": ".py",
   "mimetype": "text/x-python",
   "name": "python",
   "nbconvert_exporter": "python",
   "pygments_lexer": "ipython3",
   "version": "3.9.7"
  }
 },
 "nbformat": 4,
 "nbformat_minor": 5
}
