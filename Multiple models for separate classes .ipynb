{
 "cells": [
  {
   "cell_type": "markdown",
   "id": "738984c4",
   "metadata": {},
   "source": [
    "First we want to create multiple dataframes where each one flags different conditions"
   ]
  },
  {
   "cell_type": "code",
   "execution_count": 7,
   "id": "8864860a",
   "metadata": {},
   "outputs": [
    {
     "name": "stdout",
     "output_type": "stream",
     "text": [
      "loaded functions\n"
     ]
    }
   ],
   "source": [
    "import numpy as np\n",
    "import pandas as pd\n",
    "import csv\n",
    "import sklearn as sk\n",
    "from sklearn.model_selection import train_test_split\n",
    "from sklearn import tree\n",
    "%run Functions.ipynb\n",
    "%run FeaturesFunctions.ipynb\n",
    "import matplotlib.pyplot as plt\n",
    "from sklearn.metrics import roc_auc_score"
   ]
  },
  {
   "cell_type": "code",
   "execution_count": 16,
   "id": "ef92f166",
   "metadata": {},
   "outputs": [
    {
     "data": {
      "text/html": [
       "<div>\n",
       "<style scoped>\n",
       "    .dataframe tbody tr th:only-of-type {\n",
       "        vertical-align: middle;\n",
       "    }\n",
       "\n",
       "    .dataframe tbody tr th {\n",
       "        vertical-align: top;\n",
       "    }\n",
       "\n",
       "    .dataframe thead th {\n",
       "        text-align: right;\n",
       "    }\n",
       "</style>\n",
       "<table border=\"1\" class=\"dataframe\">\n",
       "  <thead>\n",
       "    <tr style=\"text-align: right;\">\n",
       "      <th></th>\n",
       "      <th>R-R Interval</th>\n",
       "      <th>R Height</th>\n",
       "      <th>R_Onset-Rpeak</th>\n",
       "      <th>Q-Q Interval</th>\n",
       "      <th>Q Height</th>\n",
       "      <th>P_Onset-P_Offset</th>\n",
       "      <th>P Height</th>\n",
       "      <th>P-P Interval</th>\n",
       "      <th>P_Onset-Ppeak</th>\n",
       "    </tr>\n",
       "  </thead>\n",
       "  <tbody>\n",
       "    <tr>\n",
       "      <th>0</th>\n",
       "      <td>0.0</td>\n",
       "      <td>1212.0</td>\n",
       "      <td>56.0</td>\n",
       "      <td>0.0</td>\n",
       "      <td>953.0</td>\n",
       "      <td>61.0</td>\n",
       "      <td>978.0</td>\n",
       "      <td>0.0</td>\n",
       "      <td>28.0</td>\n",
       "    </tr>\n",
       "    <tr>\n",
       "      <th>1</th>\n",
       "      <td>292.0</td>\n",
       "      <td>1201.0</td>\n",
       "      <td>50.0</td>\n",
       "      <td>294.0</td>\n",
       "      <td>947.0</td>\n",
       "      <td>60.0</td>\n",
       "      <td>976.0</td>\n",
       "      <td>295.0</td>\n",
       "      <td>28.0</td>\n",
       "    </tr>\n",
       "    <tr>\n",
       "      <th>2</th>\n",
       "      <td>284.0</td>\n",
       "      <td>1186.0</td>\n",
       "      <td>54.0</td>\n",
       "      <td>285.0</td>\n",
       "      <td>946.0</td>\n",
       "      <td>65.0</td>\n",
       "      <td>971.0</td>\n",
       "      <td>280.0</td>\n",
       "      <td>28.0</td>\n",
       "    </tr>\n",
       "    <tr>\n",
       "      <th>3</th>\n",
       "      <td>285.0</td>\n",
       "      <td>1188.0</td>\n",
       "      <td>59.0</td>\n",
       "      <td>284.0</td>\n",
       "      <td>948.0</td>\n",
       "      <td>66.0</td>\n",
       "      <td>973.0</td>\n",
       "      <td>283.0</td>\n",
       "      <td>29.0</td>\n",
       "    </tr>\n",
       "    <tr>\n",
       "      <th>4</th>\n",
       "      <td>284.0</td>\n",
       "      <td>1201.0</td>\n",
       "      <td>56.0</td>\n",
       "      <td>283.0</td>\n",
       "      <td>952.0</td>\n",
       "      <td>64.0</td>\n",
       "      <td>977.0</td>\n",
       "      <td>285.0</td>\n",
       "      <td>28.0</td>\n",
       "    </tr>\n",
       "  </tbody>\n",
       "</table>\n",
       "</div>"
      ],
      "text/plain": [
       "   R-R Interval  R Height  R_Onset-Rpeak  Q-Q Interval  Q Height  \\\n",
       "0           0.0    1212.0           56.0           0.0     953.0   \n",
       "1         292.0    1201.0           50.0         294.0     947.0   \n",
       "2         284.0    1186.0           54.0         285.0     946.0   \n",
       "3         285.0    1188.0           59.0         284.0     948.0   \n",
       "4         284.0    1201.0           56.0         283.0     952.0   \n",
       "\n",
       "   P_Onset-P_Offset  P Height  P-P Interval  P_Onset-Ppeak  \n",
       "0              61.0     978.0           0.0           28.0  \n",
       "1              60.0     976.0         295.0           28.0  \n",
       "2              65.0     971.0         280.0           28.0  \n",
       "3              66.0     973.0         283.0           29.0  \n",
       "4              64.0     977.0         285.0           28.0  "
      ]
     },
     "execution_count": 16,
     "metadata": {},
     "output_type": "execute_result"
    }
   ],
   "source": [
    "Intervals=pd.read_csv(\"IntervalInfo.csv\")\n",
    "inputs = Intervals.drop([\"Result\",\"Abnormal\",\"File\",Intervals.columns[0]],axis='columns')\n",
    "\n",
    "inputs.head()"
   ]
  },
  {
   "cell_type": "code",
   "execution_count": 3,
   "id": "abe3c486",
   "metadata": {},
   "outputs": [],
   "source": [
    "Results=Intervals[\"Result\"]"
   ]
  },
  {
   "cell_type": "code",
   "execution_count": 4,
   "id": "b77c2742",
   "metadata": {},
   "outputs": [],
   "source": [
    "labels=pd.DataFrame(columns=[\"ResultA\",\"Resulta\",\"ResultJ\",\"ResultS\",\"ResultN\",\"ResultL\",\"ResultR\",\"Resulte\",\"Resultj\",\"ResultV\",\"ResultE\",\"ResultF\",\"Resultf\",\"ResultQ\"])"
   ]
  },
  {
   "cell_type": "code",
   "execution_count": 57,
   "id": "8e6bd0c1",
   "metadata": {},
   "outputs": [
    {
     "name": "stdout",
     "output_type": "stream",
     "text": [
      "DONE\n"
     ]
    }
   ],
   "source": [
    "A=[]\n",
    "a=[]\n",
    "J=[]\n",
    "S=[]\n",
    "L=[]\n",
    "R=[]\n",
    "e=[]\n",
    "j=[]\n",
    "V=[]\n",
    "E=[]\n",
    "F=[]\n",
    "f=[]\n",
    "Q=[]\n",
    "N=[]\n",
    "\n",
    "\n",
    "temp=pd.DataFrame(columns=labels.columns)\n",
    "for index,Label in enumerate(Results):\n",
    "    if (Label==\"A\"):\n",
    "        A.append(1)\n",
    "    else:\n",
    "        A.append(0)\n",
    "    if (Label==\"a\"):\n",
    "        a.append(1)\n",
    "    else:\n",
    "        a.append(0)\n",
    "    if (Label==\"J\"):\n",
    "        J.append(1)\n",
    "    else:\n",
    "        J.append(0)\n",
    "    if (Label==\"S\"):\n",
    "        S.append(1)\n",
    "    else:\n",
    "        S.append(0)\n",
    "    if (Label==\"N\"):\n",
    "        N.append(1)\n",
    "    else:\n",
    "        N.append(0)\n",
    "    if (Label==\"L\"):\n",
    "        L.append(1)\n",
    "    else:\n",
    "        L.append(0)\n",
    "    if (Label==\"R\"):\n",
    "        R.append(1)\n",
    "    else:\n",
    "        R.append(0)\n",
    "    if (Label==\"e\"):\n",
    "        e.append(1)\n",
    "    else:\n",
    "        e.append(0)\n",
    "    if (Label==\"j\"):\n",
    "        j.append(1)\n",
    "    else:\n",
    "        j.append(0)\n",
    "    if (Label==\"V\"):\n",
    "        V.append(1)\n",
    "    else:\n",
    "        V.append(0)\n",
    "    if (Label==\"E\"):\n",
    "        E.append(1)\n",
    "    else:\n",
    "        E.append(0)\n",
    "    if (Label==\"F\"):\n",
    "        F.append(1)\n",
    "    else:\n",
    "        F.append(0)\n",
    "    if (Label==\"f\"):\n",
    "        f.append(1)\n",
    "    else:\n",
    "        f.append(0)\n",
    "    if (Label==\"Q\"):\n",
    "        Q.append(1)\n",
    "    else:\n",
    "        Q.append(0)\n",
    "labels[\"ResultA\"]=A\n",
    "labels[\"Resulta\"]=a\n",
    "labels[\"ResultJ\"]=J\n",
    "labels[\"ResultS\"]=S\n",
    "labels[\"ResultN\"]=N\n",
    "labels[\"ResultL\"]=L\n",
    "labels[\"ResultR\"]=R\n",
    "labels[\"Resulte\"]=e\n",
    "labels[\"Resultj\"]=j\n",
    "labels[\"ResultV\"]=V\n",
    "labels[\"ResultE\"]=E\n",
    "labels[\"ResultF\"]=F\n",
    "labels[\"Resultf\"]=f\n",
    "labels[\"ResultQ\"]=Q\n",
    "\n",
    "rows_to_remove=labels.index[labels['ResultN'] == 1].tolist()\n",
    "labels2=labels.drop(rows_to_remove,axis='rows')\n",
    "inputs2=inputs.drop(rows_to_remove,axis='rows')\n",
    "\n",
    "print(\"DONE\")\n",
    "labels.head()\n",
    "labels.to_csv(\"MultipleLabels\")"
   ]
  },
  {
   "cell_type": "code",
   "execution_count": 58,
   "id": "a693d501",
   "metadata": {},
   "outputs": [
    {
     "name": "stdout",
     "output_type": "stream",
     "text": [
      "71477\n",
      "17067\n"
     ]
    }
   ],
   "source": [
    "print(len(labels))\n",
    "print(len(labels2))"
   ]
  },
  {
   "cell_type": "code",
   "execution_count": 61,
   "id": "309c9b87",
   "metadata": {},
   "outputs": [],
   "source": [
    "x_train1, x_test1, y_train1, y_test1 = train_test_split(inputs2, labels2,test_size=0.3)\n",
    "x_train2, x_test2, y_train2, y_test2 = train_test_split(inputs, np.zeros(len(labels)),test_size=0.3)"
   ]
  },
  {
   "cell_type": "code",
   "execution_count": 62,
   "id": "3cbea416",
   "metadata": {},
   "outputs": [],
   "source": [
    "MA = tree.DecisionTreeClassifier()\n",
    "Ma = tree.DecisionTreeClassifier()\n",
    "MJ = tree.DecisionTreeClassifier()\n",
    "MS = tree.DecisionTreeClassifier()\n",
    "MN = tree.DecisionTreeClassifier()\n",
    "ML = tree.DecisionTreeClassifier()\n",
    "MR = tree.DecisionTreeClassifier()\n",
    "Me = tree.DecisionTreeClassifier()\n",
    "Mj = tree.DecisionTreeClassifier()\n",
    "MV = tree.DecisionTreeClassifier()\n",
    "ME = tree.DecisionTreeClassifier()\n",
    "MF = tree.DecisionTreeClassifier()\n",
    "Mf = tree.DecisionTreeClassifier()\n",
    "MQ = tree.DecisionTreeClassifier()"
   ]
  },
  {
   "cell_type": "code",
   "execution_count": 66,
   "id": "96f09bee",
   "metadata": {},
   "outputs": [
    {
     "data": {
      "text/plain": [
       "DecisionTreeClassifier()"
      ]
     },
     "execution_count": 66,
     "metadata": {},
     "output_type": "execute_result"
    }
   ],
   "source": [
    "MA.fit(X=x_train1,y=y_train1[\"ResultA\"])\n",
    "Ma.fit(X=x_train1,y=y_train1[\"Resulta\"])\n",
    "MJ.fit(X=x_train1,y=y_train1[\"ResultJ\"])\n",
    "MS.fit(X=x_train1,y=y_train1[\"ResultS\"])\n",
    "MN.fit(X=x_train1,y=y_train1[\"ResultN\"])\n",
    "ML.fit(X=x_train1,y=y_train1[\"ResultL\"])\n",
    "MR.fit(X=x_train1,y=y_train1[\"ResultR\"])\n",
    "Me.fit(X=x_train1,y=y_train1[\"Resulte\"])\n",
    "Mj.fit(X=x_train1,y=y_train1[\"Resultj\"])\n",
    "MV.fit(X=x_train1,y=y_train1[\"ResultV\"])\n",
    "ME.fit(X=x_train1,y=y_train1[\"ResultE\"])\n",
    "MF.fit(X=x_train1,y=y_train1[\"ResultF\"])\n",
    "Mf.fit(X=x_train1,y=y_train1[\"Resultf\"])\n",
    "MQ.fit(X=x_train1,y=y_train1[\"ResultQ\"])"
   ]
  },
  {
   "cell_type": "code",
   "execution_count": 67,
   "id": "e90d5743",
   "metadata": {},
   "outputs": [
    {
     "name": "stdout",
     "output_type": "stream",
     "text": [
      "0.9709041202890061 A\n",
      "0.8832259324350713 a\n",
      "0.8865455965631712 J\n",
      "0.8873266940050771 N\n",
      "0.6194102714313611 L\n",
      "0.5639523530560437 R\n",
      "0.8859597734817418 j\n",
      "0.776215582893966 V\n",
      "0.8539347783636009 F\n",
      "0.8804920913884007 f\n",
      "0.8863503222026948 Q\n",
      "\n",
      "\n",
      "0.9709041202890061 A\n",
      "0.9953134153485648 a\n",
      "0.9976567076742824 J\n",
      "1.0 N\n",
      "0.9851591486037883 L\n",
      "0.9839875024409295 R\n",
      "0.9972661589533294 j\n",
      "0.9710993946494825 V\n",
      "0.9876977152899824 F\n",
      "0.990431556336653 f\n",
      "0.9974614333138059 Q\n",
      "\n",
      "\n",
      "0.8919044954299571 A\n",
      "0.9970154821861593 a\n",
      "0.9972020145495244 J\n",
      "1.0 N\n",
      "0.834172728968476 L\n",
      "0.576664801343033 R\n",
      "0.9938910650997949 j\n",
      "0.9530871106136914 V\n",
      "0.9067338183174781 F\n",
      "0.9657246782316732 f\n",
      "0.9988808058198098 Q\n"
     ]
    }
   ],
   "source": [
    "print(MA.score(x_test1,y_test1[\"ResultA\"]),\"A\")\n",
    "print(Ma.score(x_test1,y_test1[\"ResultA\"]),\"a\")\n",
    "print(MJ.score(x_test1,y_test1[\"ResultA\"]),\"J\")\n",
    "#print(MS.score(x_test1,y_test1[\"ResultA\"]),\"S\")\n",
    "print(MN.score(x_test1,y_test1[\"ResultA\"]),\"N\")\n",
    "print(ML.score(x_test1,y_test1[\"ResultA\"]),\"L\")\n",
    "print(MR.score(x_test1,y_test1[\"ResultA\"]),\"R\")\n",
    "#print(Me.score(x_test1,y_test1[\"ResultA\"]),\"e\")\n",
    "print(Mj.score(x_test1,y_test1[\"ResultA\"]),\"j\")\n",
    "print(MV.score(x_test1,y_test1[\"ResultA\"]),\"V\")\n",
    "#print(ME.score(x_test1,y_test1[\"ResultA\"]),\"E\")\n",
    "print(MF.score(x_test1,y_test1[\"ResultA\"]),\"F\")\n",
    "print(Mf.score(x_test1,y_test1[\"ResultA\"]),\"f\")\n",
    "print(MQ.score(x_test1,y_test1[\"ResultA\"]),\"Q\")\n",
    "\n",
    "print(\"\\n\")\n",
    "\n",
    "print(MA.score(x_test1,y_test1[\"ResultA\"]),\"A\")\n",
    "print(Ma.score(x_test1,y_test1[\"Resulta\"]),\"a\")\n",
    "print(MJ.score(x_test1,y_test1[\"ResultJ\"]),\"J\")\n",
    "#print(MS.score(x_test1,y_test1[\"ResultA\"]),\"S\")\n",
    "print(MN.score(x_test1,y_test1[\"ResultN\"]),\"N\")\n",
    "print(ML.score(x_test1,y_test1[\"ResultL\"]),\"L\")\n",
    "print(MR.score(x_test1,y_test1[\"ResultR\"]),\"R\")\n",
    "#print(Me.score(x_test1,y_test1[\"ResultA\"]),\"e\")\n",
    "print(Mj.score(x_test1,y_test1[\"Resultj\"]),\"j\")\n",
    "print(MV.score(x_test1,y_test1[\"ResultV\"]),\"V\")\n",
    "#print(ME.score(x_test1,y_test1[\"ResultA\"]),\"E\")\n",
    "print(MF.score(x_test1,y_test1[\"ResultF\"]),\"F\")\n",
    "print(Mf.score(x_test1,y_test1[\"Resultf\"]),\"f\")\n",
    "print(MQ.score(x_test1,y_test1[\"ResultQ\"]),\"Q\")\n",
    "print(\"\\n\")\n",
    "print(MA.score(x_test2,y_test2),\"A\")\n",
    "print(Ma.score(x_test2,y_test2),\"a\")\n",
    "print(MJ.score(x_test2,y_test2),\"J\")\n",
    "#print(MS.score(x_test1,y_test1[\"ResultA\"]),\"S\")\n",
    "print(MN.score(x_test2,y_test2),\"N\")\n",
    "print(ML.score(x_test2,y_test2),\"L\")\n",
    "print(MR.score(x_test2,y_test2),\"R\")\n",
    "#print(Me.score(x_test1,y_test1[\"ResultA\"]),\"e\")\n",
    "print(Mj.score(x_test2,y_test2),\"j\")\n",
    "print(MV.score(x_test2,y_test2),\"V\")\n",
    "#print(ME.score(x_test1,y_test1[\"ResultA\"]),\"E\")\n",
    "print(MF.score(x_test2,y_test2),\"F\")\n",
    "print(Mf.score(x_test2,y_test2),\"f\")\n",
    "print(MQ.score(x_test2,y_test2),\"Q\")"
   ]
  },
  {
   "cell_type": "code",
   "execution_count": 43,
   "id": "204b6010",
   "metadata": {},
   "outputs": [
    {
     "name": "stdout",
     "output_type": "stream",
     "text": [
      "0.8501413647690245 A\n",
      "0.879556468555955 a\n",
      "0.615244631249484 J\n",
      "0.8984331603223034 N\n",
      "0.9438226460516383 L\n",
      "0.9141069141064626 R\n",
      "0.5497200709153682 j\n",
      "0.9116451452006207 V\n",
      "0.7680604406105677 F\n",
      "0.6325861585878397 f\n",
      "0.49974350603926687 Q\n"
     ]
    }
   ],
   "source": [
    "print(roc_auc_score(y_test1[\"ResultA\"], MA.predict(x_test1)),\"A\")\n",
    "print(roc_auc_score(y_test1[\"Resulta\"], Ma.predict(x_test1)),\"a\")\n",
    "print(roc_auc_score(y_test1[\"ResultJ\"], MJ.predict(x_test1)),\"J\")\n",
    "#print(roc_auc_score(y_test1[\"ResultS\"], MS.predict(x_test1)),\"S\")\n",
    "print(roc_auc_score(y_test1[\"ResultN\"], MN.predict(x_test1)),\"N\")\n",
    "print(roc_auc_score(y_test1[\"ResultL\"], ML.predict(x_test1)),\"L\")\n",
    "print(roc_auc_score(y_test1[\"ResultR\"], MR.predict(x_test1)),\"R\")\n",
    "#print(roc_auc_score(y_test1[\"Resulte\"], Me.predict(x_test1)),\"e\")\n",
    "print(roc_auc_score(y_test1[\"Resultj\"], Mj.predict(x_test1)),\"j\")\n",
    "print(roc_auc_score(y_test1[\"ResultV\"], MV.predict(x_test1)),\"V\")\n",
    "#print(roc_auc_score(y_test1[\"ResultE\"], ME.predict(x_test1)),\"E\")\n",
    "print(roc_auc_score(y_test1[\"ResultF\"], MF.predict(x_test1)),\"F\")\n",
    "print(roc_auc_score(y_test1[\"Resultf\"], Mf.predict(x_test1)),\"f\")\n",
    "print(roc_auc_score(y_test1[\"ResultQ\"], MQ.predict(x_test1)),\"Q\")"
   ]
  },
  {
   "cell_type": "code",
   "execution_count": 72,
   "id": "887fa108",
   "metadata": {},
   "outputs": [
    {
     "data": {
      "text/plain": [
       "0"
      ]
     },
     "execution_count": 72,
     "metadata": {},
     "output_type": "execute_result"
    }
   ],
   "source": [
    "MA.predict(x_test1)[11]"
   ]
  },
  {
   "cell_type": "code",
   "execution_count": 70,
   "id": "6ba50a8f",
   "metadata": {},
   "outputs": [
    {
     "name": "stdout",
     "output_type": "stream",
     "text": [
      "       R-R Interval  R Height  R_Onset-Rpeak  Q-Q Interval  Q Height  \\\n",
      "50266         301.0    1350.0           57.0         305.0     982.0   \n",
      "45936         240.0    1268.0           49.0         240.0     964.0   \n",
      "6405          296.0    1047.0           30.0         304.0     946.0   \n",
      "44893         245.0    1213.0           50.0         243.0     931.0   \n",
      "14978         330.0     871.0           15.0         327.0     950.0   \n",
      "...             ...       ...            ...           ...       ...   \n",
      "26278         273.0    1131.0           63.0         271.0     889.0   \n",
      "25330         248.0    1122.0           63.0         247.0     838.0   \n",
      "14940         300.0    1202.0           83.0         300.0     998.0   \n",
      "50542         275.0    1334.0           51.0         276.0     948.0   \n",
      "53993         301.0    1107.0           60.0         334.0     968.0   \n",
      "\n",
      "       P_Onset-P_Offset  P Height  P-P Interval  P_Onset-Ppeak  \n",
      "50266              47.0    1006.0         303.0           21.0  \n",
      "45936              49.0    1024.0         242.0           25.0  \n",
      "6405               11.0    1014.0         256.0            3.0  \n",
      "44893              46.0    1002.0         242.0           21.0  \n",
      "14978              60.0     984.0         320.0           18.0  \n",
      "...                 ...       ...           ...            ...  \n",
      "26278              63.0     927.0         272.0           33.0  \n",
      "25330              65.0     911.0         244.0           27.0  \n",
      "14940              70.0    1020.0         304.0           35.0  \n",
      "50542              48.0     968.0         280.0           25.0  \n",
      "53993              36.0     978.0         288.0           16.0  \n",
      "\n",
      "[5121 rows x 9 columns]\n"
     ]
    }
   ],
   "source": [
    "print(x_test1)"
   ]
  },
  {
   "cell_type": "code",
   "execution_count": null,
   "id": "af09c46e",
   "metadata": {},
   "outputs": [],
   "source": []
  }
 ],
 "metadata": {
  "kernelspec": {
   "display_name": "Python 3",
   "language": "python",
   "name": "python3"
  },
  "language_info": {
   "codemirror_mode": {
    "name": "ipython",
    "version": 3
   },
   "file_extension": ".py",
   "mimetype": "text/x-python",
   "name": "python",
   "nbconvert_exporter": "python",
   "pygments_lexer": "ipython3",
   "version": "3.8.8"
  }
 },
 "nbformat": 4,
 "nbformat_minor": 5
}
