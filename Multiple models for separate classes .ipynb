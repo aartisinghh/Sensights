{
 "cells": [
  {
   "cell_type": "markdown",
   "id": "738984c4",
   "metadata": {},
   "source": [
    "First we want to create multiple dataframes where each one flags different conditions"
   ]
  },
  {
   "cell_type": "code",
   "execution_count": 1,
   "id": "8864860a",
   "metadata": {},
   "outputs": [
    {
     "name": "stdout",
     "output_type": "stream",
     "text": [
      "loaded functions\n"
     ]
    }
   ],
   "source": [
    "import numpy as np\n",
    "import pandas as pd\n",
    "import csv\n",
    "import sklearn as sk\n",
    "from sklearn.model_selection import train_test_split\n",
    "from sklearn import tree\n",
    "%run Functions.ipynb\n",
    "%run FeaturesFunctions.ipynb\n",
    "import matplotlib.pyplot as plt\n",
    "from sklearn.metrics import roc_auc_score"
   ]
  },
  {
   "cell_type": "code",
   "execution_count": 2,
   "id": "ef92f166",
   "metadata": {},
   "outputs": [],
   "source": [
    "Intervals=pd.read_csv(\"IntervalInfo.csv\")\n",
    "inputs="
   ]
  },
  {
   "cell_type": "code",
   "execution_count": 3,
   "id": "abe3c486",
   "metadata": {},
   "outputs": [],
   "source": [
    "Results=Intervals[\"Result\"]"
   ]
  },
  {
   "cell_type": "code",
   "execution_count": 4,
   "id": "b77c2742",
   "metadata": {},
   "outputs": [],
   "source": [
    "labels=pd.DataFrame(columns=[\"ResultA\",\"Resulta\",\"ResultJ\",\"ResultS\",\"ResultN\",\"ResultL\",\"ResultR\",\"Resulte\",\"Resultj\",\"ResultV\",\"ResultE\",\"ResultF\",\"Resultf\",\"ResultQ\"])"
   ]
  },
  {
   "cell_type": "code",
   "execution_count": 5,
   "id": "8e6bd0c1",
   "metadata": {},
   "outputs": [
    {
     "name": "stdout",
     "output_type": "stream",
     "text": [
      "DONE\n"
     ]
    }
   ],
   "source": [
    "A=[]\n",
    "a=[]\n",
    "J=[]\n",
    "S=[]\n",
    "L=[]\n",
    "R=[]\n",
    "e=[]\n",
    "j=[]\n",
    "V=[]\n",
    "E=[]\n",
    "F=[]\n",
    "f=[]\n",
    "Q=[]\n",
    "N=[]\n",
    "\n",
    "\n",
    "temp=pd.DataFrame(columns=labels.columns)\n",
    "for Label in Results:\n",
    "    if (Label==\"A\"):\n",
    "        A.append(1)\n",
    "    else:\n",
    "        A.append(0)\n",
    "    if (Label==\"a\"):\n",
    "        a.append(1)\n",
    "    else:\n",
    "        a.append(0)\n",
    "    if (Label==\"J\"):\n",
    "        J.append(1)\n",
    "    else:\n",
    "        J.append(0)\n",
    "    if (Label==\"S\"):\n",
    "        S.append(1)\n",
    "    else:\n",
    "        S.append(0)\n",
    "    if (Label==\"N\"):\n",
    "        N.append(1)\n",
    "    else:\n",
    "        N.append(0)\n",
    "    if (Label==\"L\"):\n",
    "        L.append(1)\n",
    "    else:\n",
    "        L.append(0)\n",
    "    if (Label==\"R\"):\n",
    "        R.append(1)\n",
    "    else:\n",
    "        R.append(0)\n",
    "    if (Label==\"e\"):\n",
    "        e.append(1)\n",
    "    else:\n",
    "        e.append(0)\n",
    "    if (Label==\"j\"):\n",
    "        j.append(1)\n",
    "    else:\n",
    "        j.append(0)\n",
    "    if (Label==\"V\"):\n",
    "        V.append(1)\n",
    "    else:\n",
    "        V.append(0)\n",
    "    if (Label==\"E\"):\n",
    "        E.append(1)\n",
    "    else:\n",
    "        E.append(0)\n",
    "    if (Label==\"F\"):\n",
    "        F.append(1)\n",
    "    else:\n",
    "        F.append(0)\n",
    "    if (Label==\"f\"):\n",
    "        f.append(1)\n",
    "    else:\n",
    "        f.append(0)\n",
    "    if (Label==\"Q\"):\n",
    "        Q.append(1)\n",
    "    else:\n",
    "        Q.append(0)\n",
    "labels[\"ResultA\"]=A\n",
    "labels[\"Resulta\"]=a\n",
    "labels[\"ResultJ\"]=J\n",
    "labels[\"ResultS\"]=S\n",
    "labels[\"ResultN\"]=N\n",
    "labels[\"ResultL\"]=L\n",
    "labels[\"ResultR\"]=R\n",
    "labels[\"Resulte\"]=e\n",
    "labels[\"Resultj\"]=j\n",
    "labels[\"ResultV\"]=V\n",
    "labels[\"ResultE\"]=V\n",
    "labels[\"ResultF\"]=F\n",
    "labels[\"Resultf\"]=f\n",
    "labels[\"ResultQ\"]=Q\n",
    "print(\"DONE\")\n",
    "labels.head()\n",
    "labels.to_csv(\"MultipleLabels\")"
   ]
  },
  {
   "cell_type": "code",
   "execution_count": null,
   "id": "309c9b87",
   "metadata": {},
   "outputs": [],
   "source": [
    "x_train1, x_test1, y_train1, y_test1 = train_test_split(inputs, labels,test_size=0.3)"
   ]
  },
  {
   "cell_type": "code",
   "execution_count": null,
   "id": "7ead92f4",
   "metadata": {},
   "outputs": [],
   "source": []
  },
  {
   "cell_type": "code",
   "execution_count": null,
   "id": "3cbea416",
   "metadata": {},
   "outputs": [],
   "source": []
  },
  {
   "cell_type": "code",
   "execution_count": null,
   "id": "96f09bee",
   "metadata": {},
   "outputs": [],
   "source": []
  }
 ],
 "metadata": {
  "kernelspec": {
   "display_name": "Python 3",
   "language": "python",
   "name": "python3"
  },
  "language_info": {
   "codemirror_mode": {
    "name": "ipython",
    "version": 3
   },
   "file_extension": ".py",
   "mimetype": "text/x-python",
   "name": "python",
   "nbconvert_exporter": "python",
   "pygments_lexer": "ipython3",
   "version": "3.8.8"
  }
 },
 "nbformat": 4,
 "nbformat_minor": 5
}
