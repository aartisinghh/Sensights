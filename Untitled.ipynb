{
 "cells": [
  {
   "cell_type": "markdown",
   "id": "07015d2f",
   "metadata": {},
   "source": [
    "## Data Organization\n",
    "Here, the csv data will be taken and split into individual heartbeats. Then each beat will be appended into a csv chere we can train the model.\n",
    "\n",
    "The rows of the csv shall represent each individual heartbeat.\n",
    "The columns for each row will include the features and the last row will be the classification result."
   ]
  },
  {
   "cell_type": "code",
   "execution_count": 1,
   "id": "70a5cb6b",
   "metadata": {},
   "outputs": [],
   "source": [
    "import numpy as np\n",
    "import matplotlib.pyplot as plt\n",
    "import pandas as pd"
   ]
  },
  {
   "cell_type": "code",
   "execution_count": null,
   "id": "6c6d0576",
   "metadata": {},
   "outputs": [],
   "source": [
    "#step one is going to make a csv and add each hearbeat classification annotation \n",
    "for i in \n",
    "with open(\"data.csv\") as f:\n",
    "    \n",
    "\n",
    "\n",
    "close(data)"
   ]
  },
  {
   "cell_type": "code",
   "execution_count": null,
   "id": "975552f8",
   "metadata": {},
   "outputs": [],
   "source": []
  },
  {
   "cell_type": "code",
   "execution_count": null,
   "id": "9074bba7",
   "metadata": {},
   "outputs": [],
   "source": []
  },
  {
   "cell_type": "code",
   "execution_count": null,
   "id": "3b496fbb",
   "metadata": {},
   "outputs": [],
   "source": []
  }
 ],
 "metadata": {
  "kernelspec": {
   "display_name": "Python 3",
   "language": "python",
   "name": "python3"
  },
  "language_info": {
   "codemirror_mode": {
    "name": "ipython",
    "version": 3
   },
   "file_extension": ".py",
   "mimetype": "text/x-python",
   "name": "python",
   "nbconvert_exporter": "python",
   "pygments_lexer": "ipython3",
   "version": "3.8.8"
  }
 },
 "nbformat": 4,
 "nbformat_minor": 5
}
