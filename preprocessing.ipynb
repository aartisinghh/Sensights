{
 "cells": [
  {
   "cell_type": "code",
   "execution_count": 1,
   "id": "vocal-grass",
   "metadata": {},
   "outputs": [],
   "source": [
    "import numpy as np\n",
    "import matplotlib.pyplot as plt\n",
    "import pandas as pd\n",
    "import mlbeats # python file that include usful functions\n",
    "from biosppy.signals import ecg\n",
    "import tensorflow as tf\n",
    "import keras\n",
    "from scipy import signal #scipy.signal.argrelmin find local minimum"
   ]
  },
  {
   "cell_type": "code",
   "execution_count": 4,
   "id": "619dd0a4",
   "metadata": {},
   "outputs": [
    {
     "data": {
      "text/html": [
       "<div>\n",
       "<style scoped>\n",
       "    .dataframe tbody tr th:only-of-type {\n",
       "        vertical-align: middle;\n",
       "    }\n",
       "\n",
       "    .dataframe tbody tr th {\n",
       "        vertical-align: top;\n",
       "    }\n",
       "\n",
       "    .dataframe thead th {\n",
       "        text-align: right;\n",
       "    }\n",
       "</style>\n",
       "<table border=\"1\" class=\"dataframe\">\n",
       "  <thead>\n",
       "    <tr style=\"text-align: right;\">\n",
       "      <th></th>\n",
       "      <th>Time</th>\n",
       "      <th>Sample#</th>\n",
       "      <th>Result</th>\n",
       "    </tr>\n",
       "  </thead>\n",
       "  <tbody>\n",
       "    <tr>\n",
       "      <th>0</th>\n",
       "      <td>0:00.050</td>\n",
       "      <td>18</td>\n",
       "      <td>+</td>\n",
       "    </tr>\n",
       "    <tr>\n",
       "      <th>1</th>\n",
       "      <td>0:00.214</td>\n",
       "      <td>77</td>\n",
       "      <td>N</td>\n",
       "    </tr>\n",
       "    <tr>\n",
       "      <th>2</th>\n",
       "      <td>0:01.028</td>\n",
       "      <td>370</td>\n",
       "      <td>N</td>\n",
       "    </tr>\n",
       "    <tr>\n",
       "      <th>3</th>\n",
       "      <td>0:01.839</td>\n",
       "      <td>662</td>\n",
       "      <td>N</td>\n",
       "    </tr>\n",
       "    <tr>\n",
       "      <th>4</th>\n",
       "      <td>0:02.628</td>\n",
       "      <td>946</td>\n",
       "      <td>N</td>\n",
       "    </tr>\n",
       "  </tbody>\n",
       "</table>\n",
       "</div>"
      ],
      "text/plain": [
       "       Time Sample# Result\n",
       "0  0:00.050      18      +\n",
       "1  0:00.214      77      N\n",
       "2  0:01.028     370      N\n",
       "3  0:01.839     662      N\n",
       "4  0:02.628     946      N"
      ]
     },
     "execution_count": 4,
     "metadata": {},
     "output_type": "execute_result"
    }
   ],
   "source": [
    "#import dataset and annotations into a pandas dataframe\n",
    "df = pd.read_csv(\"mitbih_database/100.csv\")\n",
    "annotations = mlbeats.df_from_txt(\"mitbih_database/100annotations.txt\")\n",
    "\n",
    "#preview of how the dataframe looks\n",
    "annotations.head()"
   ]
  },
  {
   "cell_type": "code",
   "execution_count": 5,
   "id": "widespread-audit",
   "metadata": {
    "scrolled": false
   },
   "outputs": [
    {
     "data": {
      "text/plain": [
       "(0.0, 1000.0)"
      ]
     },
     "execution_count": 5,
     "metadata": {},
     "output_type": "execute_result"
    },
    {
     "data": {
      "image/png": "[encoded data removed]",
      "text/plain": [
       "<Figure size 432x288 with 1 Axes>"
      ]
     },
     "metadata": {
      "needs_background": "light"
     },
     "output_type": "display_data"
    }
   ],
   "source": [
    "#preview of how the plot looks\n",
    "plt.plot(df[\"\\'sample #\\'\"], df.iloc[:, 1])\n",
    "\n",
    "rpeak = []#the list that store the location of peaks\n",
    "for i in range(len(annotations['Sample#'])):\n",
    "    x = int(annotations['Sample#'][i])\n",
    "    plt.scatter(x, df.iloc[:, 1][x], color = 'red')\n",
    "    rpeak.append(x)\n",
    "#plt.xlim(320000, 330000)\n",
    "plt.xlim(0, 1000)"
   ]
  },
  {
   "cell_type": "code",
   "execution_count": 4,
   "id": "a55ebb08",
   "metadata": {},
   "outputs": [
    {
     "ename": "ValueError",
     "evalue": "Unexpected detail coefficient type: <class 'int'>. Detail coefficients must be arrays as returned by wavedec. If you are using pywt.array_to_coeffs or pywt.unravel_coeffs, please specify output_format='wavedec'",
     "output_type": "error",
     "traceback": [
      "\u001b[1;31m---------------------------------------------------------------------------\u001b[0m",
      "\u001b[1;31mValueError\u001b[0m                                Traceback (most recent call last)",
      "\u001b[1;32mC:\\Users\\JOYCEM~1\\AppData\\Local\\Temp/ipykernel_15932/2552096933.py\u001b[0m in \u001b[0;36m<module>\u001b[1;34m\u001b[0m\n\u001b[0;32m      7\u001b[0m \u001b[1;31m#data denoising\u001b[0m\u001b[1;33m\u001b[0m\u001b[1;33m\u001b[0m\u001b[0m\n\u001b[0;32m      8\u001b[0m \u001b[1;33m\u001b[0m\u001b[0m\n\u001b[1;32m----> 9\u001b[1;33m \u001b[0mdenoised_data\u001b[0m \u001b[1;33m=\u001b[0m \u001b[0mmlbeats\u001b[0m\u001b[1;33m.\u001b[0m\u001b[0mdenoising\u001b[0m\u001b[1;33m(\u001b[0m\u001b[0mnormalized_data\u001b[0m\u001b[1;33m)\u001b[0m\u001b[1;33m\u001b[0m\u001b[1;33m\u001b[0m\u001b[0m\n\u001b[0m",
      "\u001b[1;32m~\\Desktop\\Jingjing_mlbeats\\mlbeats.py\u001b[0m in \u001b[0;36mdenoising\u001b[1;34m(data)\u001b[0m\n\u001b[0;32m     68\u001b[0m             \u001b[0mcoeffs\u001b[0m\u001b[1;33m[\u001b[0m\u001b[0mj\u001b[0m\u001b[1;33m]\u001b[0m \u001b[1;33m=\u001b[0m \u001b[0mpywt\u001b[0m\u001b[1;33m.\u001b[0m\u001b[0mthreshold\u001b[0m\u001b[1;33m(\u001b[0m\u001b[0mcoeffs\u001b[0m\u001b[1;33m[\u001b[0m\u001b[0mj\u001b[0m\u001b[1;33m]\u001b[0m\u001b[1;33m,\u001b[0m \u001b[0mthreshold\u001b[0m\u001b[1;33m*\u001b[0m\u001b[0mmax\u001b[0m\u001b[1;33m(\u001b[0m\u001b[0mcoeffs\u001b[0m\u001b[1;33m[\u001b[0m\u001b[0mj\u001b[0m\u001b[1;33m]\u001b[0m\u001b[1;33m)\u001b[0m\u001b[1;33m)\u001b[0m\u001b[1;33m\u001b[0m\u001b[1;33m\u001b[0m\u001b[0m\n\u001b[0;32m     69\u001b[0m \u001b[1;33m\u001b[0m\u001b[0m\n\u001b[1;32m---> 70\u001b[1;33m     \u001b[0mdatarec\u001b[0m \u001b[1;33m=\u001b[0m \u001b[0mpywt\u001b[0m\u001b[1;33m.\u001b[0m\u001b[0mwaverec\u001b[0m\u001b[1;33m(\u001b[0m\u001b[0mcoeffs\u001b[0m\u001b[1;33m,\u001b[0m \u001b[0mmotherwave\u001b[0m\u001b[1;33m)\u001b[0m\u001b[1;33m\u001b[0m\u001b[1;33m\u001b[0m\u001b[0m\n\u001b[0m\u001b[0;32m     71\u001b[0m \u001b[1;33m\u001b[0m\u001b[0m\n\u001b[0;32m     72\u001b[0m \u001b[1;33m\u001b[0m\u001b[0m\n",
      "\u001b[1;32m~\\anaconda3\\lib\\site-packages\\pywt\\_multilevel.py\u001b[0m in \u001b[0;36mwaverec\u001b[1;34m(coeffs, wavelet, mode, axis)\u001b[0m\n\u001b[0;32m    159\u001b[0m     \u001b[1;32mfor\u001b[0m \u001b[0md\u001b[0m \u001b[1;32min\u001b[0m \u001b[0mds\u001b[0m\u001b[1;33m:\u001b[0m\u001b[1;33m\u001b[0m\u001b[1;33m\u001b[0m\u001b[0m\n\u001b[0;32m    160\u001b[0m         \u001b[1;32mif\u001b[0m \u001b[0md\u001b[0m \u001b[1;32mis\u001b[0m \u001b[1;32mnot\u001b[0m \u001b[1;32mNone\u001b[0m \u001b[1;32mand\u001b[0m \u001b[1;32mnot\u001b[0m \u001b[0misinstance\u001b[0m\u001b[1;33m(\u001b[0m\u001b[0md\u001b[0m\u001b[1;33m,\u001b[0m \u001b[0mnp\u001b[0m\u001b[1;33m.\u001b[0m\u001b[0mndarray\u001b[0m\u001b[1;33m)\u001b[0m\u001b[1;33m:\u001b[0m\u001b[1;33m\u001b[0m\u001b[1;33m\u001b[0m\u001b[0m\n\u001b[1;32m--> 161\u001b[1;33m             raise ValueError((\n\u001b[0m\u001b[0;32m    162\u001b[0m                 \u001b[1;34m\"Unexpected detail coefficient type: {}. Detail coefficients \"\u001b[0m\u001b[1;33m\u001b[0m\u001b[1;33m\u001b[0m\u001b[0m\n\u001b[0;32m    163\u001b[0m                 \u001b[1;34m\"must be arrays as returned by wavedec. If you are using \"\u001b[0m\u001b[1;33m\u001b[0m\u001b[1;33m\u001b[0m\u001b[0m\n",
      "\u001b[1;31mValueError\u001b[0m: Unexpected detail coefficient type: <class 'int'>. Detail coefficients must be arrays as returned by wavedec. If you are using pywt.array_to_coeffs or pywt.unravel_coeffs, please specify output_format='wavedec'"
     ]
    }
   ],
   "source": [
    "#data normalization\n",
    "mx = np.amax(df[\"\\'MLII\\'\"])\n",
    "mn = np.amin(df[\"\\'MLII\\'\"])\n",
    "\n",
    "normalized_data = (df[\"\\'MLII\\'\"] - mn)/(mx - mn)\n",
    "\n",
    "#data denoising\n",
    "\n",
    "denoised_data = mlbeats.denoising(normalized_data)\n"
   ]
  },
  {
   "cell_type": "code",
   "execution_count": null,
   "id": "559d403d",
   "metadata": {
    "scrolled": false
   },
   "outputs": [],
   "source": [
    "#ts, filtered, rpeaks, beats_ts, beats, heart_rate_ts, heart_rate = ecg.ecg(signal=denoised_data, sampling_rate=360, show=False)\n",
    "#ts1, filtered1, rpeaks1, beats_ts1, beats1, heart_rate_ts1, heart_rate1 = ecg.ecg(signal=normalized_data, sampling_rate=360, show=False)\n",
    "\n",
    "beats, rpeak = ecg.extract_heartbeats(signal=denoised_data, rpeaks=rpeak, sampling_rate=360, before=0.4, after=0.5)\n",
    "beats1, rpeak1 = ecg.extract_heartbeats(signal=normalized_data, rpeaks=rpeak, sampling_rate=360, before=0.4, after=0.5)"
   ]
  },
  {
   "cell_type": "code",
   "execution_count": null,
   "id": "547e26ef",
   "metadata": {},
   "outputs": [],
   "source": []
  },
  {
   "cell_type": "code",
   "execution_count": null,
   "id": "120456a8",
   "metadata": {
    "scrolled": false
   },
   "outputs": [],
   "source": [
    "plt.figure(figsize = [10, 10])\n",
    "x=345\n",
    "xaxis = np.arange(0, len(beats[x]), 1)\n",
    "y = beats[x]\n",
    "my_y = beats1[x]\n",
    "plt.plot(xaxis, my_y, label = \"raw\")\n",
    "plt.plot(xaxis, y, label = \"denoised\")\n",
    "plt.grid()\n",
    "plt.legend()\n",
    "plt.show() "
   ]
  },
  {
   "cell_type": "code",
   "execution_count": null,
   "id": "5249e1d2",
   "metadata": {},
   "outputs": [],
   "source": [
    "plt.figure(figsize = [10, 10])\n",
    "for x in range(len(beats)):\n",
    "    xaxis = np.arange(0, len(beats[x]), 1)\n",
    "    #y = beats[x]\n",
    "    my_y = beats[x]\n",
    "    #plt.plot(xaxis, y)\n",
    "    plt.plot(xaxis, my_y)\n",
    "plt.grid()\n",
    "plt.show() "
   ]
  },
  {
   "cell_type": "code",
   "execution_count": null,
   "id": "ceb4b57a",
   "metadata": {
    "scrolled": true
   },
   "outputs": [],
   "source": [
    "print(beats)"
   ]
  },
  {
   "cell_type": "code",
   "execution_count": null,
   "id": "3fbbd395",
   "metadata": {
    "scrolled": true
   },
   "outputs": [],
   "source": [
    "#make beat_annotation data frame\n",
    "beat_annotation = pd.DataFrame(beats)\n",
    "label = annotations['Result'].iloc[1:]\n",
    "beat_annotation.insert(0, \"Annotation\", label)"
   ]
  },
  {
   "cell_type": "code",
   "execution_count": null,
   "id": "8107127c",
   "metadata": {},
   "outputs": [],
   "source": [
    "beat_annotation.head()"
   ]
  },
  {
   "cell_type": "code",
   "execution_count": null,
   "id": "f1585d42",
   "metadata": {},
   "outputs": [],
   "source": []
  },
  {
   "cell_type": "code",
   "execution_count": null,
   "id": "6a30ed01",
   "metadata": {},
   "outputs": [],
   "source": []
  }
 ],
 "metadata": {
  "kernelspec": {
   "display_name": "Python 3 (ipykernel)",
   "language": "python",
   "name": "python3"
  },
  "language_info": {
   "codemirror_mode": {
    "name": "ipython",
    "version": 3
   },
   "file_extension": ".py",
   "mimetype": "text/x-python",
   "name": "python",
   "nbconvert_exporter": "python",
   "pygments_lexer": "ipython3",
   "version": "3.9.7"
  }
 },
 "nbformat": 4,
 "nbformat_minor": 5
}
