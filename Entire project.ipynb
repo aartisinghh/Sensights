{
 "cells": [
  {
   "cell_type": "markdown",
   "id": "7f907c35",
   "metadata": {},
   "source": [
    "# MIT BIH heart beat classification model for heartbeats\n"
   ]
  },
  {
   "cell_type": "markdown",
   "id": "b81f81ee",
   "metadata": {},
   "source": [
    "The libary used to collect features from raw ECG data is the neurokit.p library which is used in this project to find the locations of important parts of each ecg wave including r-peak, p-peak,q-peak,r-onset,p-onset,p-offset,q-onset,q-offset. Being as this library does not come with python it must be installed to use this model."
   ]
  },
  {
   "cell_type": "code",
   "execution_count": null,
   "id": "6e9b8037",
   "metadata": {},
   "outputs": [],
   "source": [
    "pip install neurokit.py"
   ]
  },
  {
   "cell_type": "code",
   "execution_count": 11,
   "id": "8922b604",
   "metadata": {},
   "outputs": [
    {
     "name": "stdout",
     "output_type": "stream",
     "text": [
      "loaded functions\n"
     ]
    }
   ],
   "source": [
    "import numpy as np\n",
    "import pandas as pd\n",
    "import csv\n",
    "import sklearn as sk\n",
    "from sklearn.model_selection import train_test_split\n",
    "from sklearn import tree\n",
    "%run Functions.ipynb\n",
    "%run FeaturesFunctions.ipynb\n",
    "import matplotlib.pyplot as plt\n",
    "from sklearn.metrics import roc_auc_score"
   ]
  },
  {
   "cell_type": "markdown",
   "id": "70150025",
   "metadata": {},
   "source": [
    "First we need to create a training file with all of the annotated files in order. the files range from 100-235 not inclusive, the file 113 does not work with the Neurokit library so it was excluded from the model training.\n",
    "File name: 1 csv for feature extraction"
   ]
  },
  {
   "cell_type": "code",
   "execution_count": 12,
   "id": "ec032095",
   "metadata": {},
   "outputs": [],
   "source": [
    "\n",
    "AnnotatedFileNames=[*range(100,125)]+[*range(200,235)]\n",
    "remove=[110,113,120,204,206,211,216,218,224,225,226,227,229]\n",
    "for i in remove:\n",
    "    AnnotatedFileNames.remove(i)\n",
    "Training = pd.DataFrame(columns = ['File','Result', 'Sample#'] )\n",
    "\n",
    "for i in AnnotatedFileNames:\n",
    "    temp= pd.DataFrame(columns = Training.columns)\n",
    "\n",
    "    FileName =\"mitbih_database/\" + str(i)+'annotations.txt'\n",
    "    annotations = mlbeats.df_from_txt(FileName)\n",
    "    temp['Sample#']=annotations['Sample#']\n",
    "    temp['Result']=annotations['Result']\n",
    "    temp['File']= i\n",
    "    \n",
    "    Training = pd.concat([Training, temp], axis=0)\n",
    "    "
   ]
  },
  {
   "cell_type": "code",
   "execution_count": 22,
   "id": "42459253",
   "metadata": {},
   "outputs": [
    {
     "name": "stdout",
     "output_type": "stream",
     "text": [
      "92462\n"
     ]
    },
    {
     "data": {
      "text/html": [
       "<div>\n",
       "<style scoped>\n",
       "    .dataframe tbody tr th:only-of-type {\n",
       "        vertical-align: middle;\n",
       "    }\n",
       "\n",
       "    .dataframe tbody tr th {\n",
       "        vertical-align: top;\n",
       "    }\n",
       "\n",
       "    .dataframe thead th {\n",
       "        text-align: right;\n",
       "    }\n",
       "</style>\n",
       "<table border=\"1\" class=\"dataframe\">\n",
       "  <thead>\n",
       "    <tr style=\"text-align: right;\">\n",
       "      <th></th>\n",
       "      <th>index</th>\n",
       "      <th>File</th>\n",
       "      <th>Result</th>\n",
       "      <th>Sample#</th>\n",
       "      <th>beat_number</th>\n",
       "      <th>ECG_R_Peaks</th>\n",
       "      <th>ECG_Q_Peaks</th>\n",
       "      <th>ECG_S_Peaks</th>\n",
       "      <th>ECG_P_Peaks</th>\n",
       "      <th>ECG_P_Onsets</th>\n",
       "      <th>ECG_P_Offsets</th>\n",
       "      <th>ECG_R_Onsets</th>\n",
       "    </tr>\n",
       "  </thead>\n",
       "  <tbody>\n",
       "    <tr>\n",
       "      <th>2</th>\n",
       "      <td>2</td>\n",
       "      <td>100</td>\n",
       "      <td>N</td>\n",
       "      <td>370</td>\n",
       "      <td>2</td>\n",
       "      <td>370.0</td>\n",
       "      <td>359.0</td>\n",
       "      <td>472.0</td>\n",
       "      <td>309.0</td>\n",
       "      <td>294.0</td>\n",
       "      <td>338.0</td>\n",
       "      <td>350.0</td>\n",
       "    </tr>\n",
       "    <tr>\n",
       "      <th>3</th>\n",
       "      <td>3</td>\n",
       "      <td>100</td>\n",
       "      <td>N</td>\n",
       "      <td>662</td>\n",
       "      <td>3</td>\n",
       "      <td>662.0</td>\n",
       "      <td>652.0</td>\n",
       "      <td>757.0</td>\n",
       "      <td>603.0</td>\n",
       "      <td>586.0</td>\n",
       "      <td>610.0</td>\n",
       "      <td>644.0</td>\n",
       "    </tr>\n",
       "    <tr>\n",
       "      <th>4</th>\n",
       "      <td>4</td>\n",
       "      <td>100</td>\n",
       "      <td>N</td>\n",
       "      <td>946</td>\n",
       "      <td>4</td>\n",
       "      <td>946.0</td>\n",
       "      <td>936.0</td>\n",
       "      <td>958.0</td>\n",
       "      <td>884.0</td>\n",
       "      <td>863.0</td>\n",
       "      <td>890.0</td>\n",
       "      <td>925.0</td>\n",
       "    </tr>\n",
       "    <tr>\n",
       "      <th>5</th>\n",
       "      <td>5</td>\n",
       "      <td>100</td>\n",
       "      <td>N</td>\n",
       "      <td>1231</td>\n",
       "      <td>5</td>\n",
       "      <td>1231.0</td>\n",
       "      <td>1221.0</td>\n",
       "      <td>1323.0</td>\n",
       "      <td>1168.0</td>\n",
       "      <td>1141.0</td>\n",
       "      <td>1202.0</td>\n",
       "      <td>1213.0</td>\n",
       "    </tr>\n",
       "    <tr>\n",
       "      <th>6</th>\n",
       "      <td>6</td>\n",
       "      <td>100</td>\n",
       "      <td>N</td>\n",
       "      <td>1515</td>\n",
       "      <td>6</td>\n",
       "      <td>1515.0</td>\n",
       "      <td>1505.0</td>\n",
       "      <td>1614.0</td>\n",
       "      <td>1462.0</td>\n",
       "      <td>1458.0</td>\n",
       "      <td>1476.0</td>\n",
       "      <td>1495.0</td>\n",
       "    </tr>\n",
       "  </tbody>\n",
       "</table>\n",
       "</div>"
      ],
      "text/plain": [
       "   index File Result Sample# beat_number  ECG_R_Peaks  ECG_Q_Peaks  \\\n",
       "2      2  100      N     370           2        370.0        359.0   \n",
       "3      3  100      N     662           3        662.0        652.0   \n",
       "4      4  100      N     946           4        946.0        936.0   \n",
       "5      5  100      N    1231           5       1231.0       1221.0   \n",
       "6      6  100      N    1515           6       1515.0       1505.0   \n",
       "\n",
       "   ECG_S_Peaks  ECG_P_Peaks  ECG_P_Onsets  ECG_P_Offsets  ECG_R_Onsets  \n",
       "2        472.0        309.0         294.0          338.0         350.0  \n",
       "3        757.0        603.0         586.0          610.0         644.0  \n",
       "4        958.0        884.0         863.0          890.0         925.0  \n",
       "5       1323.0       1168.0        1141.0         1202.0        1213.0  \n",
       "6       1614.0       1462.0        1458.0         1476.0        1495.0  "
      ]
     },
     "execution_count": 22,
     "metadata": {},
     "output_type": "execute_result"
    }
   ],
   "source": [
    "print(len(Training))\n",
    "Training.head()"
   ]
  },
  {
   "cell_type": "markdown",
   "id": "1ef4eda0",
   "metadata": {},
   "source": [
    "Adding neurokit data and aux data to training file.ipynbThen using the nerokit library we can add feature locations to set features in the data, Filename: Adding neurokit data and aux data to training file.ipynb"
   ]
  },
  {
   "cell_type": "code",
   "execution_count": 14,
   "id": "820c0209",
   "metadata": {},
   "outputs": [
    {
     "name": "stdout",
     "output_type": "stream",
     "text": [
      "extracting File 100\n"
     ]
    },
    {
     "name": "stderr",
     "output_type": "stream",
     "text": [
      "C:\\Users\\bryso\\anaconda3\\lib\\site-packages\\neurokit2\\epochs\\eventrelated_utils.py:81: NeuroKitWarning: Input does not have an `ECG_Rate` column. Will skip all rate-related features.\n",
      "  warn(\n",
      "C:\\Users\\bryso\\anaconda3\\lib\\site-packages\\neurokit2\\ecg\\ecg_eventrelated.py:147: NeuroKitWarning: Input does not have an `ECG_Phase_Artrial` or `ECG_Phase_Ventricular` column. Will not indicate whether event onset concurs with cardiac phase.\n",
      "  warn(\n",
      "C:\\Users\\bryso\\anaconda3\\lib\\site-packages\\neurokit2\\ecg\\ecg_eventrelated.py:170: NeuroKitWarning: Input does not have an `ECG_Quality` column. Quality of the signal is not computed.\n",
      "  warn(\n",
      "C:\\Users\\bryso\\anaconda3\\lib\\site-packages\\numpy\\core\\fromnumeric.py:3419: RuntimeWarning: Mean of empty slice.\n",
      "  return _methods._mean(a, axis=axis, dtype=dtype,\n",
      "C:\\Users\\bryso\\anaconda3\\lib\\site-packages\\numpy\\core\\_methods.py:188: RuntimeWarning: invalid value encountered in double_scalars\n",
      "  ret = ret.dtype.type(ret / rcount)\n"
     ]
    },
    {
     "name": "stdout",
     "output_type": "stream",
     "text": [
      "extraction complete\n",
      "extracting File 101\n"
     ]
    },
    {
     "name": "stderr",
     "output_type": "stream",
     "text": [
      "C:\\Users\\bryso\\anaconda3\\lib\\site-packages\\neurokit2\\epochs\\eventrelated_utils.py:81: NeuroKitWarning: Input does not have an `ECG_Rate` column. Will skip all rate-related features.\n",
      "  warn(\n",
      "C:\\Users\\bryso\\anaconda3\\lib\\site-packages\\neurokit2\\ecg\\ecg_eventrelated.py:147: NeuroKitWarning: Input does not have an `ECG_Phase_Artrial` or `ECG_Phase_Ventricular` column. Will not indicate whether event onset concurs with cardiac phase.\n",
      "  warn(\n",
      "C:\\Users\\bryso\\anaconda3\\lib\\site-packages\\neurokit2\\ecg\\ecg_eventrelated.py:170: NeuroKitWarning: Input does not have an `ECG_Quality` column. Quality of the signal is not computed.\n",
      "  warn(\n",
      "C:\\Users\\bryso\\anaconda3\\lib\\site-packages\\numpy\\core\\fromnumeric.py:3419: RuntimeWarning: Mean of empty slice.\n",
      "  return _methods._mean(a, axis=axis, dtype=dtype,\n",
      "C:\\Users\\bryso\\anaconda3\\lib\\site-packages\\numpy\\core\\_methods.py:188: RuntimeWarning: invalid value encountered in double_scalars\n",
      "  ret = ret.dtype.type(ret / rcount)\n"
     ]
    },
    {
     "name": "stdout",
     "output_type": "stream",
     "text": [
      "extraction complete\n",
      "extracting File 102\n"
     ]
    },
    {
     "name": "stderr",
     "output_type": "stream",
     "text": [
      "C:\\Users\\bryso\\anaconda3\\lib\\site-packages\\neurokit2\\epochs\\eventrelated_utils.py:81: NeuroKitWarning: Input does not have an `ECG_Rate` column. Will skip all rate-related features.\n",
      "  warn(\n",
      "C:\\Users\\bryso\\anaconda3\\lib\\site-packages\\neurokit2\\ecg\\ecg_eventrelated.py:147: NeuroKitWarning: Input does not have an `ECG_Phase_Artrial` or `ECG_Phase_Ventricular` column. Will not indicate whether event onset concurs with cardiac phase.\n",
      "  warn(\n",
      "C:\\Users\\bryso\\anaconda3\\lib\\site-packages\\neurokit2\\ecg\\ecg_eventrelated.py:170: NeuroKitWarning: Input does not have an `ECG_Quality` column. Quality of the signal is not computed.\n",
      "  warn(\n"
     ]
    },
    {
     "name": "stdout",
     "output_type": "stream",
     "text": [
      "extraction complete\n",
      "extracting File 103\n"
     ]
    },
    {
     "name": "stderr",
     "output_type": "stream",
     "text": [
      "C:\\Users\\bryso\\anaconda3\\lib\\site-packages\\neurokit2\\epochs\\eventrelated_utils.py:81: NeuroKitWarning: Input does not have an `ECG_Rate` column. Will skip all rate-related features.\n",
      "  warn(\n",
      "C:\\Users\\bryso\\anaconda3\\lib\\site-packages\\neurokit2\\ecg\\ecg_eventrelated.py:147: NeuroKitWarning: Input does not have an `ECG_Phase_Artrial` or `ECG_Phase_Ventricular` column. Will not indicate whether event onset concurs with cardiac phase.\n",
      "  warn(\n",
      "C:\\Users\\bryso\\anaconda3\\lib\\site-packages\\neurokit2\\ecg\\ecg_eventrelated.py:170: NeuroKitWarning: Input does not have an `ECG_Quality` column. Quality of the signal is not computed.\n",
      "  warn(\n"
     ]
    },
    {
     "name": "stdout",
     "output_type": "stream",
     "text": [
      "extraction complete\n",
      "extracting File 104\n"
     ]
    },
    {
     "name": "stderr",
     "output_type": "stream",
     "text": [
      "C:\\Users\\bryso\\anaconda3\\lib\\site-packages\\neurokit2\\epochs\\eventrelated_utils.py:81: NeuroKitWarning: Input does not have an `ECG_Rate` column. Will skip all rate-related features.\n",
      "  warn(\n",
      "C:\\Users\\bryso\\anaconda3\\lib\\site-packages\\neurokit2\\ecg\\ecg_eventrelated.py:147: NeuroKitWarning: Input does not have an `ECG_Phase_Artrial` or `ECG_Phase_Ventricular` column. Will not indicate whether event onset concurs with cardiac phase.\n",
      "  warn(\n",
      "C:\\Users\\bryso\\anaconda3\\lib\\site-packages\\neurokit2\\ecg\\ecg_eventrelated.py:170: NeuroKitWarning: Input does not have an `ECG_Quality` column. Quality of the signal is not computed.\n",
      "  warn(\n",
      "C:\\Users\\bryso\\anaconda3\\lib\\site-packages\\numpy\\core\\fromnumeric.py:3419: RuntimeWarning: Mean of empty slice.\n",
      "  return _methods._mean(a, axis=axis, dtype=dtype,\n",
      "C:\\Users\\bryso\\anaconda3\\lib\\site-packages\\numpy\\core\\_methods.py:188: RuntimeWarning: invalid value encountered in double_scalars\n",
      "  ret = ret.dtype.type(ret / rcount)\n"
     ]
    },
    {
     "name": "stdout",
     "output_type": "stream",
     "text": [
      "extraction complete\n",
      "extracting File 105\n"
     ]
    },
    {
     "name": "stderr",
     "output_type": "stream",
     "text": [
      "C:\\Users\\bryso\\anaconda3\\lib\\site-packages\\neurokit2\\epochs\\eventrelated_utils.py:81: NeuroKitWarning: Input does not have an `ECG_Rate` column. Will skip all rate-related features.\n",
      "  warn(\n",
      "C:\\Users\\bryso\\anaconda3\\lib\\site-packages\\neurokit2\\ecg\\ecg_eventrelated.py:147: NeuroKitWarning: Input does not have an `ECG_Phase_Artrial` or `ECG_Phase_Ventricular` column. Will not indicate whether event onset concurs with cardiac phase.\n",
      "  warn(\n",
      "C:\\Users\\bryso\\anaconda3\\lib\\site-packages\\neurokit2\\ecg\\ecg_eventrelated.py:170: NeuroKitWarning: Input does not have an `ECG_Quality` column. Quality of the signal is not computed.\n",
      "  warn(\n"
     ]
    },
    {
     "name": "stdout",
     "output_type": "stream",
     "text": [
      "extraction complete\n",
      "extracting File 106\n"
     ]
    },
    {
     "name": "stderr",
     "output_type": "stream",
     "text": [
      "C:\\Users\\bryso\\anaconda3\\lib\\site-packages\\neurokit2\\epochs\\eventrelated_utils.py:81: NeuroKitWarning: Input does not have an `ECG_Rate` column. Will skip all rate-related features.\n",
      "  warn(\n",
      "C:\\Users\\bryso\\anaconda3\\lib\\site-packages\\neurokit2\\ecg\\ecg_eventrelated.py:147: NeuroKitWarning: Input does not have an `ECG_Phase_Artrial` or `ECG_Phase_Ventricular` column. Will not indicate whether event onset concurs with cardiac phase.\n",
      "  warn(\n",
      "C:\\Users\\bryso\\anaconda3\\lib\\site-packages\\neurokit2\\ecg\\ecg_eventrelated.py:170: NeuroKitWarning: Input does not have an `ECG_Quality` column. Quality of the signal is not computed.\n",
      "  warn(\n"
     ]
    },
    {
     "name": "stdout",
     "output_type": "stream",
     "text": [
      "extraction complete\n",
      "extracting File 107\n"
     ]
    },
    {
     "name": "stderr",
     "output_type": "stream",
     "text": [
      "C:\\Users\\bryso\\anaconda3\\lib\\site-packages\\neurokit2\\epochs\\eventrelated_utils.py:81: NeuroKitWarning: Input does not have an `ECG_Rate` column. Will skip all rate-related features.\n",
      "  warn(\n",
      "C:\\Users\\bryso\\anaconda3\\lib\\site-packages\\neurokit2\\ecg\\ecg_eventrelated.py:147: NeuroKitWarning: Input does not have an `ECG_Phase_Artrial` or `ECG_Phase_Ventricular` column. Will not indicate whether event onset concurs with cardiac phase.\n",
      "  warn(\n",
      "C:\\Users\\bryso\\anaconda3\\lib\\site-packages\\neurokit2\\ecg\\ecg_eventrelated.py:170: NeuroKitWarning: Input does not have an `ECG_Quality` column. Quality of the signal is not computed.\n",
      "  warn(\n",
      "C:\\Users\\bryso\\anaconda3\\lib\\site-packages\\numpy\\core\\fromnumeric.py:3419: RuntimeWarning: Mean of empty slice.\n",
      "  return _methods._mean(a, axis=axis, dtype=dtype,\n",
      "C:\\Users\\bryso\\anaconda3\\lib\\site-packages\\numpy\\core\\_methods.py:188: RuntimeWarning: invalid value encountered in double_scalars\n",
      "  ret = ret.dtype.type(ret / rcount)\n"
     ]
    },
    {
     "name": "stdout",
     "output_type": "stream",
     "text": [
      "extraction complete\n",
      "extracting File 108\n"
     ]
    },
    {
     "name": "stderr",
     "output_type": "stream",
     "text": [
      "C:\\Users\\bryso\\anaconda3\\lib\\site-packages\\neurokit2\\epochs\\eventrelated_utils.py:81: NeuroKitWarning: Input does not have an `ECG_Rate` column. Will skip all rate-related features.\n",
      "  warn(\n",
      "C:\\Users\\bryso\\anaconda3\\lib\\site-packages\\neurokit2\\ecg\\ecg_eventrelated.py:147: NeuroKitWarning: Input does not have an `ECG_Phase_Artrial` or `ECG_Phase_Ventricular` column. Will not indicate whether event onset concurs with cardiac phase.\n",
      "  warn(\n",
      "C:\\Users\\bryso\\anaconda3\\lib\\site-packages\\neurokit2\\ecg\\ecg_eventrelated.py:170: NeuroKitWarning: Input does not have an `ECG_Quality` column. Quality of the signal is not computed.\n",
      "  warn(\n",
      "C:\\Users\\bryso\\anaconda3\\lib\\site-packages\\numpy\\core\\fromnumeric.py:3419: RuntimeWarning: Mean of empty slice.\n",
      "  return _methods._mean(a, axis=axis, dtype=dtype,\n",
      "C:\\Users\\bryso\\anaconda3\\lib\\site-packages\\numpy\\core\\_methods.py:188: RuntimeWarning: invalid value encountered in double_scalars\n",
      "  ret = ret.dtype.type(ret / rcount)\n"
     ]
    },
    {
     "name": "stdout",
     "output_type": "stream",
     "text": [
      "extraction complete\n",
      "extracting File 109\n"
     ]
    },
    {
     "name": "stderr",
     "output_type": "stream",
     "text": [
      "C:\\Users\\bryso\\anaconda3\\lib\\site-packages\\neurokit2\\epochs\\eventrelated_utils.py:81: NeuroKitWarning: Input does not have an `ECG_Rate` column. Will skip all rate-related features.\n",
      "  warn(\n",
      "C:\\Users\\bryso\\anaconda3\\lib\\site-packages\\neurokit2\\ecg\\ecg_eventrelated.py:147: NeuroKitWarning: Input does not have an `ECG_Phase_Artrial` or `ECG_Phase_Ventricular` column. Will not indicate whether event onset concurs with cardiac phase.\n",
      "  warn(\n",
      "C:\\Users\\bryso\\anaconda3\\lib\\site-packages\\neurokit2\\ecg\\ecg_eventrelated.py:170: NeuroKitWarning: Input does not have an `ECG_Quality` column. Quality of the signal is not computed.\n",
      "  warn(\n"
     ]
    },
    {
     "name": "stdout",
     "output_type": "stream",
     "text": [
      "extraction complete\n",
      "extracting File 111\n"
     ]
    },
    {
     "name": "stderr",
     "output_type": "stream",
     "text": [
      "C:\\Users\\bryso\\anaconda3\\lib\\site-packages\\neurokit2\\epochs\\eventrelated_utils.py:81: NeuroKitWarning: Input does not have an `ECG_Rate` column. Will skip all rate-related features.\n",
      "  warn(\n",
      "C:\\Users\\bryso\\anaconda3\\lib\\site-packages\\neurokit2\\ecg\\ecg_eventrelated.py:147: NeuroKitWarning: Input does not have an `ECG_Phase_Artrial` or `ECG_Phase_Ventricular` column. Will not indicate whether event onset concurs with cardiac phase.\n",
      "  warn(\n",
      "C:\\Users\\bryso\\anaconda3\\lib\\site-packages\\neurokit2\\ecg\\ecg_eventrelated.py:170: NeuroKitWarning: Input does not have an `ECG_Quality` column. Quality of the signal is not computed.\n",
      "  warn(\n"
     ]
    },
    {
     "name": "stdout",
     "output_type": "stream",
     "text": [
      "extraction complete\n",
      "extracting File 112\n"
     ]
    },
    {
     "name": "stderr",
     "output_type": "stream",
     "text": [
      "C:\\Users\\bryso\\anaconda3\\lib\\site-packages\\neurokit2\\epochs\\eventrelated_utils.py:81: NeuroKitWarning: Input does not have an `ECG_Rate` column. Will skip all rate-related features.\n",
      "  warn(\n",
      "C:\\Users\\bryso\\anaconda3\\lib\\site-packages\\neurokit2\\ecg\\ecg_eventrelated.py:147: NeuroKitWarning: Input does not have an `ECG_Phase_Artrial` or `ECG_Phase_Ventricular` column. Will not indicate whether event onset concurs with cardiac phase.\n",
      "  warn(\n",
      "C:\\Users\\bryso\\anaconda3\\lib\\site-packages\\neurokit2\\ecg\\ecg_eventrelated.py:170: NeuroKitWarning: Input does not have an `ECG_Quality` column. Quality of the signal is not computed.\n",
      "  warn(\n"
     ]
    },
    {
     "name": "stdout",
     "output_type": "stream",
     "text": [
      "extraction complete\n",
      "extracting File 114\n"
     ]
    },
    {
     "name": "stderr",
     "output_type": "stream",
     "text": [
      "C:\\Users\\bryso\\anaconda3\\lib\\site-packages\\neurokit2\\epochs\\eventrelated_utils.py:81: NeuroKitWarning: Input does not have an `ECG_Rate` column. Will skip all rate-related features.\n",
      "  warn(\n",
      "C:\\Users\\bryso\\anaconda3\\lib\\site-packages\\neurokit2\\ecg\\ecg_eventrelated.py:147: NeuroKitWarning: Input does not have an `ECG_Phase_Artrial` or `ECG_Phase_Ventricular` column. Will not indicate whether event onset concurs with cardiac phase.\n",
      "  warn(\n",
      "C:\\Users\\bryso\\anaconda3\\lib\\site-packages\\neurokit2\\ecg\\ecg_eventrelated.py:170: NeuroKitWarning: Input does not have an `ECG_Quality` column. Quality of the signal is not computed.\n",
      "  warn(\n"
     ]
    },
    {
     "name": "stdout",
     "output_type": "stream",
     "text": [
      "extraction complete\n",
      "extracting File 115\n"
     ]
    },
    {
     "name": "stderr",
     "output_type": "stream",
     "text": [
      "C:\\Users\\bryso\\anaconda3\\lib\\site-packages\\neurokit2\\epochs\\eventrelated_utils.py:81: NeuroKitWarning: Input does not have an `ECG_Rate` column. Will skip all rate-related features.\n",
      "  warn(\n",
      "C:\\Users\\bryso\\anaconda3\\lib\\site-packages\\neurokit2\\ecg\\ecg_eventrelated.py:147: NeuroKitWarning: Input does not have an `ECG_Phase_Artrial` or `ECG_Phase_Ventricular` column. Will not indicate whether event onset concurs with cardiac phase.\n",
      "  warn(\n",
      "C:\\Users\\bryso\\anaconda3\\lib\\site-packages\\neurokit2\\ecg\\ecg_eventrelated.py:170: NeuroKitWarning: Input does not have an `ECG_Quality` column. Quality of the signal is not computed.\n",
      "  warn(\n"
     ]
    },
    {
     "name": "stdout",
     "output_type": "stream",
     "text": [
      "extraction complete\n",
      "extracting File 116\n"
     ]
    },
    {
     "name": "stderr",
     "output_type": "stream",
     "text": [
      "C:\\Users\\bryso\\anaconda3\\lib\\site-packages\\neurokit2\\epochs\\eventrelated_utils.py:81: NeuroKitWarning: Input does not have an `ECG_Rate` column. Will skip all rate-related features.\n",
      "  warn(\n",
      "C:\\Users\\bryso\\anaconda3\\lib\\site-packages\\neurokit2\\ecg\\ecg_eventrelated.py:147: NeuroKitWarning: Input does not have an `ECG_Phase_Artrial` or `ECG_Phase_Ventricular` column. Will not indicate whether event onset concurs with cardiac phase.\n",
      "  warn(\n",
      "C:\\Users\\bryso\\anaconda3\\lib\\site-packages\\neurokit2\\ecg\\ecg_eventrelated.py:170: NeuroKitWarning: Input does not have an `ECG_Quality` column. Quality of the signal is not computed.\n",
      "  warn(\n"
     ]
    },
    {
     "name": "stdout",
     "output_type": "stream",
     "text": [
      "extraction complete\n",
      "extracting File 117\n"
     ]
    },
    {
     "name": "stderr",
     "output_type": "stream",
     "text": [
      "C:\\Users\\bryso\\anaconda3\\lib\\site-packages\\neurokit2\\epochs\\eventrelated_utils.py:81: NeuroKitWarning: Input does not have an `ECG_Rate` column. Will skip all rate-related features.\n",
      "  warn(\n",
      "C:\\Users\\bryso\\anaconda3\\lib\\site-packages\\neurokit2\\ecg\\ecg_eventrelated.py:147: NeuroKitWarning: Input does not have an `ECG_Phase_Artrial` or `ECG_Phase_Ventricular` column. Will not indicate whether event onset concurs with cardiac phase.\n",
      "  warn(\n",
      "C:\\Users\\bryso\\anaconda3\\lib\\site-packages\\neurokit2\\ecg\\ecg_eventrelated.py:170: NeuroKitWarning: Input does not have an `ECG_Quality` column. Quality of the signal is not computed.\n",
      "  warn(\n"
     ]
    },
    {
     "name": "stdout",
     "output_type": "stream",
     "text": [
      "extraction complete\n",
      "extracting File 118\n"
     ]
    },
    {
     "name": "stderr",
     "output_type": "stream",
     "text": [
      "C:\\Users\\bryso\\anaconda3\\lib\\site-packages\\neurokit2\\epochs\\eventrelated_utils.py:81: NeuroKitWarning: Input does not have an `ECG_Rate` column. Will skip all rate-related features.\n",
      "  warn(\n",
      "C:\\Users\\bryso\\anaconda3\\lib\\site-packages\\neurokit2\\ecg\\ecg_eventrelated.py:147: NeuroKitWarning: Input does not have an `ECG_Phase_Artrial` or `ECG_Phase_Ventricular` column. Will not indicate whether event onset concurs with cardiac phase.\n",
      "  warn(\n",
      "C:\\Users\\bryso\\anaconda3\\lib\\site-packages\\neurokit2\\ecg\\ecg_eventrelated.py:170: NeuroKitWarning: Input does not have an `ECG_Quality` column. Quality of the signal is not computed.\n",
      "  warn(\n",
      "C:\\Users\\bryso\\anaconda3\\lib\\site-packages\\numpy\\core\\fromnumeric.py:3419: RuntimeWarning: Mean of empty slice.\n",
      "  return _methods._mean(a, axis=axis, dtype=dtype,\n",
      "C:\\Users\\bryso\\anaconda3\\lib\\site-packages\\numpy\\core\\_methods.py:188: RuntimeWarning: invalid value encountered in double_scalars\n",
      "  ret = ret.dtype.type(ret / rcount)\n"
     ]
    },
    {
     "name": "stdout",
     "output_type": "stream",
     "text": [
      "extraction complete\n",
      "extracting File 119\n"
     ]
    },
    {
     "name": "stderr",
     "output_type": "stream",
     "text": [
      "C:\\Users\\bryso\\anaconda3\\lib\\site-packages\\neurokit2\\epochs\\eventrelated_utils.py:81: NeuroKitWarning: Input does not have an `ECG_Rate` column. Will skip all rate-related features.\n",
      "  warn(\n",
      "C:\\Users\\bryso\\anaconda3\\lib\\site-packages\\neurokit2\\ecg\\ecg_eventrelated.py:147: NeuroKitWarning: Input does not have an `ECG_Phase_Artrial` or `ECG_Phase_Ventricular` column. Will not indicate whether event onset concurs with cardiac phase.\n",
      "  warn(\n",
      "C:\\Users\\bryso\\anaconda3\\lib\\site-packages\\neurokit2\\ecg\\ecg_eventrelated.py:170: NeuroKitWarning: Input does not have an `ECG_Quality` column. Quality of the signal is not computed.\n",
      "  warn(\n"
     ]
    },
    {
     "name": "stdout",
     "output_type": "stream",
     "text": [
      "extraction complete\n",
      "extracting File 121\n"
     ]
    },
    {
     "name": "stderr",
     "output_type": "stream",
     "text": [
      "C:\\Users\\bryso\\anaconda3\\lib\\site-packages\\neurokit2\\epochs\\eventrelated_utils.py:81: NeuroKitWarning: Input does not have an `ECG_Rate` column. Will skip all rate-related features.\n",
      "  warn(\n",
      "C:\\Users\\bryso\\anaconda3\\lib\\site-packages\\neurokit2\\ecg\\ecg_eventrelated.py:147: NeuroKitWarning: Input does not have an `ECG_Phase_Artrial` or `ECG_Phase_Ventricular` column. Will not indicate whether event onset concurs with cardiac phase.\n",
      "  warn(\n",
      "C:\\Users\\bryso\\anaconda3\\lib\\site-packages\\neurokit2\\ecg\\ecg_eventrelated.py:170: NeuroKitWarning: Input does not have an `ECG_Quality` column. Quality of the signal is not computed.\n",
      "  warn(\n"
     ]
    },
    {
     "name": "stdout",
     "output_type": "stream",
     "text": [
      "extraction complete\n",
      "extracting File 122\n"
     ]
    },
    {
     "name": "stderr",
     "output_type": "stream",
     "text": [
      "C:\\Users\\bryso\\anaconda3\\lib\\site-packages\\neurokit2\\epochs\\eventrelated_utils.py:81: NeuroKitWarning: Input does not have an `ECG_Rate` column. Will skip all rate-related features.\n",
      "  warn(\n",
      "C:\\Users\\bryso\\anaconda3\\lib\\site-packages\\neurokit2\\ecg\\ecg_eventrelated.py:147: NeuroKitWarning: Input does not have an `ECG_Phase_Artrial` or `ECG_Phase_Ventricular` column. Will not indicate whether event onset concurs with cardiac phase.\n",
      "  warn(\n",
      "C:\\Users\\bryso\\anaconda3\\lib\\site-packages\\neurokit2\\ecg\\ecg_eventrelated.py:170: NeuroKitWarning: Input does not have an `ECG_Quality` column. Quality of the signal is not computed.\n",
      "  warn(\n",
      "C:\\Users\\bryso\\anaconda3\\lib\\site-packages\\numpy\\core\\fromnumeric.py:3419: RuntimeWarning: Mean of empty slice.\n",
      "  return _methods._mean(a, axis=axis, dtype=dtype,\n",
      "C:\\Users\\bryso\\anaconda3\\lib\\site-packages\\numpy\\core\\_methods.py:188: RuntimeWarning: invalid value encountered in double_scalars\n",
      "  ret = ret.dtype.type(ret / rcount)\n"
     ]
    },
    {
     "name": "stdout",
     "output_type": "stream",
     "text": [
      "extraction complete\n",
      "extracting File 123\n"
     ]
    },
    {
     "name": "stderr",
     "output_type": "stream",
     "text": [
      "C:\\Users\\bryso\\anaconda3\\lib\\site-packages\\neurokit2\\epochs\\eventrelated_utils.py:81: NeuroKitWarning: Input does not have an `ECG_Rate` column. Will skip all rate-related features.\n",
      "  warn(\n",
      "C:\\Users\\bryso\\anaconda3\\lib\\site-packages\\neurokit2\\ecg\\ecg_eventrelated.py:147: NeuroKitWarning: Input does not have an `ECG_Phase_Artrial` or `ECG_Phase_Ventricular` column. Will not indicate whether event onset concurs with cardiac phase.\n",
      "  warn(\n",
      "C:\\Users\\bryso\\anaconda3\\lib\\site-packages\\neurokit2\\ecg\\ecg_eventrelated.py:170: NeuroKitWarning: Input does not have an `ECG_Quality` column. Quality of the signal is not computed.\n",
      "  warn(\n",
      "C:\\Users\\bryso\\anaconda3\\lib\\site-packages\\numpy\\core\\fromnumeric.py:3419: RuntimeWarning: Mean of empty slice.\n",
      "  return _methods._mean(a, axis=axis, dtype=dtype,\n",
      "C:\\Users\\bryso\\anaconda3\\lib\\site-packages\\numpy\\core\\_methods.py:188: RuntimeWarning: invalid value encountered in double_scalars\n",
      "  ret = ret.dtype.type(ret / rcount)\n"
     ]
    },
    {
     "name": "stdout",
     "output_type": "stream",
     "text": [
      "extraction complete\n",
      "extracting File 124\n"
     ]
    },
    {
     "name": "stderr",
     "output_type": "stream",
     "text": [
      "C:\\Users\\bryso\\anaconda3\\lib\\site-packages\\neurokit2\\epochs\\eventrelated_utils.py:81: NeuroKitWarning: Input does not have an `ECG_Rate` column. Will skip all rate-related features.\n",
      "  warn(\n",
      "C:\\Users\\bryso\\anaconda3\\lib\\site-packages\\neurokit2\\ecg\\ecg_eventrelated.py:147: NeuroKitWarning: Input does not have an `ECG_Phase_Artrial` or `ECG_Phase_Ventricular` column. Will not indicate whether event onset concurs with cardiac phase.\n",
      "  warn(\n",
      "C:\\Users\\bryso\\anaconda3\\lib\\site-packages\\neurokit2\\ecg\\ecg_eventrelated.py:170: NeuroKitWarning: Input does not have an `ECG_Quality` column. Quality of the signal is not computed.\n",
      "  warn(\n"
     ]
    },
    {
     "name": "stdout",
     "output_type": "stream",
     "text": [
      "extraction complete\n",
      "extracting File 200\n"
     ]
    },
    {
     "name": "stderr",
     "output_type": "stream",
     "text": [
      "C:\\Users\\bryso\\anaconda3\\lib\\site-packages\\neurokit2\\epochs\\eventrelated_utils.py:81: NeuroKitWarning: Input does not have an `ECG_Rate` column. Will skip all rate-related features.\n",
      "  warn(\n",
      "C:\\Users\\bryso\\anaconda3\\lib\\site-packages\\neurokit2\\ecg\\ecg_eventrelated.py:147: NeuroKitWarning: Input does not have an `ECG_Phase_Artrial` or `ECG_Phase_Ventricular` column. Will not indicate whether event onset concurs with cardiac phase.\n",
      "  warn(\n",
      "C:\\Users\\bryso\\anaconda3\\lib\\site-packages\\neurokit2\\ecg\\ecg_eventrelated.py:170: NeuroKitWarning: Input does not have an `ECG_Quality` column. Quality of the signal is not computed.\n",
      "  warn(\n"
     ]
    },
    {
     "name": "stdout",
     "output_type": "stream",
     "text": [
      "extraction complete\n",
      "extracting File 201\n"
     ]
    },
    {
     "name": "stderr",
     "output_type": "stream",
     "text": [
      "C:\\Users\\bryso\\anaconda3\\lib\\site-packages\\neurokit2\\epochs\\eventrelated_utils.py:81: NeuroKitWarning: Input does not have an `ECG_Rate` column. Will skip all rate-related features.\n",
      "  warn(\n",
      "C:\\Users\\bryso\\anaconda3\\lib\\site-packages\\neurokit2\\ecg\\ecg_eventrelated.py:147: NeuroKitWarning: Input does not have an `ECG_Phase_Artrial` or `ECG_Phase_Ventricular` column. Will not indicate whether event onset concurs with cardiac phase.\n",
      "  warn(\n",
      "C:\\Users\\bryso\\anaconda3\\lib\\site-packages\\neurokit2\\ecg\\ecg_eventrelated.py:170: NeuroKitWarning: Input does not have an `ECG_Quality` column. Quality of the signal is not computed.\n",
      "  warn(\n"
     ]
    },
    {
     "name": "stdout",
     "output_type": "stream",
     "text": [
      "extraction complete\n",
      "extracting File 202\n"
     ]
    },
    {
     "name": "stderr",
     "output_type": "stream",
     "text": [
      "C:\\Users\\bryso\\anaconda3\\lib\\site-packages\\neurokit2\\epochs\\eventrelated_utils.py:81: NeuroKitWarning: Input does not have an `ECG_Rate` column. Will skip all rate-related features.\n",
      "  warn(\n",
      "C:\\Users\\bryso\\anaconda3\\lib\\site-packages\\neurokit2\\ecg\\ecg_eventrelated.py:147: NeuroKitWarning: Input does not have an `ECG_Phase_Artrial` or `ECG_Phase_Ventricular` column. Will not indicate whether event onset concurs with cardiac phase.\n",
      "  warn(\n",
      "C:\\Users\\bryso\\anaconda3\\lib\\site-packages\\neurokit2\\ecg\\ecg_eventrelated.py:170: NeuroKitWarning: Input does not have an `ECG_Quality` column. Quality of the signal is not computed.\n",
      "  warn(\n"
     ]
    },
    {
     "name": "stdout",
     "output_type": "stream",
     "text": [
      "extraction complete\n",
      "extracting File 203\n"
     ]
    },
    {
     "name": "stderr",
     "output_type": "stream",
     "text": [
      "C:\\Users\\bryso\\anaconda3\\lib\\site-packages\\neurokit2\\epochs\\eventrelated_utils.py:81: NeuroKitWarning: Input does not have an `ECG_Rate` column. Will skip all rate-related features.\n",
      "  warn(\n",
      "C:\\Users\\bryso\\anaconda3\\lib\\site-packages\\neurokit2\\ecg\\ecg_eventrelated.py:147: NeuroKitWarning: Input does not have an `ECG_Phase_Artrial` or `ECG_Phase_Ventricular` column. Will not indicate whether event onset concurs with cardiac phase.\n",
      "  warn(\n",
      "C:\\Users\\bryso\\anaconda3\\lib\\site-packages\\neurokit2\\ecg\\ecg_eventrelated.py:170: NeuroKitWarning: Input does not have an `ECG_Quality` column. Quality of the signal is not computed.\n",
      "  warn(\n",
      "C:\\Users\\bryso\\anaconda3\\lib\\site-packages\\numpy\\core\\fromnumeric.py:3419: RuntimeWarning: Mean of empty slice.\n",
      "  return _methods._mean(a, axis=axis, dtype=dtype,\n",
      "C:\\Users\\bryso\\anaconda3\\lib\\site-packages\\numpy\\core\\_methods.py:188: RuntimeWarning: invalid value encountered in double_scalars\n",
      "  ret = ret.dtype.type(ret / rcount)\n"
     ]
    },
    {
     "name": "stdout",
     "output_type": "stream",
     "text": [
      "extraction complete\n",
      "extracting File 205\n"
     ]
    },
    {
     "name": "stderr",
     "output_type": "stream",
     "text": [
      "C:\\Users\\bryso\\anaconda3\\lib\\site-packages\\neurokit2\\epochs\\eventrelated_utils.py:81: NeuroKitWarning: Input does not have an `ECG_Rate` column. Will skip all rate-related features.\n",
      "  warn(\n",
      "C:\\Users\\bryso\\anaconda3\\lib\\site-packages\\neurokit2\\ecg\\ecg_eventrelated.py:147: NeuroKitWarning: Input does not have an `ECG_Phase_Artrial` or `ECG_Phase_Ventricular` column. Will not indicate whether event onset concurs with cardiac phase.\n",
      "  warn(\n",
      "C:\\Users\\bryso\\anaconda3\\lib\\site-packages\\neurokit2\\ecg\\ecg_eventrelated.py:170: NeuroKitWarning: Input does not have an `ECG_Quality` column. Quality of the signal is not computed.\n",
      "  warn(\n"
     ]
    },
    {
     "name": "stdout",
     "output_type": "stream",
     "text": [
      "extraction complete\n",
      "extracting File 207\n"
     ]
    },
    {
     "name": "stderr",
     "output_type": "stream",
     "text": [
      "C:\\Users\\bryso\\anaconda3\\lib\\site-packages\\neurokit2\\epochs\\eventrelated_utils.py:81: NeuroKitWarning: Input does not have an `ECG_Rate` column. Will skip all rate-related features.\n",
      "  warn(\n",
      "C:\\Users\\bryso\\anaconda3\\lib\\site-packages\\neurokit2\\ecg\\ecg_eventrelated.py:147: NeuroKitWarning: Input does not have an `ECG_Phase_Artrial` or `ECG_Phase_Ventricular` column. Will not indicate whether event onset concurs with cardiac phase.\n",
      "  warn(\n",
      "C:\\Users\\bryso\\anaconda3\\lib\\site-packages\\neurokit2\\ecg\\ecg_eventrelated.py:170: NeuroKitWarning: Input does not have an `ECG_Quality` column. Quality of the signal is not computed.\n",
      "  warn(\n",
      "C:\\Users\\bryso\\anaconda3\\lib\\site-packages\\numpy\\core\\fromnumeric.py:3419: RuntimeWarning: Mean of empty slice.\n",
      "  return _methods._mean(a, axis=axis, dtype=dtype,\n",
      "C:\\Users\\bryso\\anaconda3\\lib\\site-packages\\numpy\\core\\_methods.py:188: RuntimeWarning: invalid value encountered in double_scalars\n",
      "  ret = ret.dtype.type(ret / rcount)\n"
     ]
    },
    {
     "name": "stdout",
     "output_type": "stream",
     "text": [
      "extraction complete\n",
      "extracting File 208\n"
     ]
    },
    {
     "name": "stderr",
     "output_type": "stream",
     "text": [
      "C:\\Users\\bryso\\anaconda3\\lib\\site-packages\\neurokit2\\epochs\\eventrelated_utils.py:81: NeuroKitWarning: Input does not have an `ECG_Rate` column. Will skip all rate-related features.\n",
      "  warn(\n",
      "C:\\Users\\bryso\\anaconda3\\lib\\site-packages\\neurokit2\\ecg\\ecg_eventrelated.py:147: NeuroKitWarning: Input does not have an `ECG_Phase_Artrial` or `ECG_Phase_Ventricular` column. Will not indicate whether event onset concurs with cardiac phase.\n",
      "  warn(\n",
      "C:\\Users\\bryso\\anaconda3\\lib\\site-packages\\neurokit2\\ecg\\ecg_eventrelated.py:170: NeuroKitWarning: Input does not have an `ECG_Quality` column. Quality of the signal is not computed.\n",
      "  warn(\n",
      "C:\\Users\\bryso\\anaconda3\\lib\\site-packages\\numpy\\core\\fromnumeric.py:3419: RuntimeWarning: Mean of empty slice.\n",
      "  return _methods._mean(a, axis=axis, dtype=dtype,\n",
      "C:\\Users\\bryso\\anaconda3\\lib\\site-packages\\numpy\\core\\_methods.py:188: RuntimeWarning: invalid value encountered in double_scalars\n",
      "  ret = ret.dtype.type(ret / rcount)\n"
     ]
    },
    {
     "name": "stdout",
     "output_type": "stream",
     "text": [
      "extraction complete\n",
      "extracting File 209\n"
     ]
    },
    {
     "name": "stderr",
     "output_type": "stream",
     "text": [
      "C:\\Users\\bryso\\anaconda3\\lib\\site-packages\\neurokit2\\epochs\\eventrelated_utils.py:81: NeuroKitWarning: Input does not have an `ECG_Rate` column. Will skip all rate-related features.\n",
      "  warn(\n",
      "C:\\Users\\bryso\\anaconda3\\lib\\site-packages\\neurokit2\\ecg\\ecg_eventrelated.py:147: NeuroKitWarning: Input does not have an `ECG_Phase_Artrial` or `ECG_Phase_Ventricular` column. Will not indicate whether event onset concurs with cardiac phase.\n",
      "  warn(\n",
      "C:\\Users\\bryso\\anaconda3\\lib\\site-packages\\neurokit2\\ecg\\ecg_eventrelated.py:170: NeuroKitWarning: Input does not have an `ECG_Quality` column. Quality of the signal is not computed.\n",
      "  warn(\n"
     ]
    },
    {
     "name": "stdout",
     "output_type": "stream",
     "text": [
      "extraction complete\n",
      "extracting File 210\n"
     ]
    },
    {
     "name": "stderr",
     "output_type": "stream",
     "text": [
      "C:\\Users\\bryso\\anaconda3\\lib\\site-packages\\neurokit2\\epochs\\eventrelated_utils.py:81: NeuroKitWarning: Input does not have an `ECG_Rate` column. Will skip all rate-related features.\n",
      "  warn(\n",
      "C:\\Users\\bryso\\anaconda3\\lib\\site-packages\\neurokit2\\ecg\\ecg_eventrelated.py:147: NeuroKitWarning: Input does not have an `ECG_Phase_Artrial` or `ECG_Phase_Ventricular` column. Will not indicate whether event onset concurs with cardiac phase.\n",
      "  warn(\n",
      "C:\\Users\\bryso\\anaconda3\\lib\\site-packages\\neurokit2\\ecg\\ecg_eventrelated.py:170: NeuroKitWarning: Input does not have an `ECG_Quality` column. Quality of the signal is not computed.\n",
      "  warn(\n",
      "C:\\Users\\bryso\\anaconda3\\lib\\site-packages\\numpy\\core\\fromnumeric.py:3419: RuntimeWarning: Mean of empty slice.\n",
      "  return _methods._mean(a, axis=axis, dtype=dtype,\n",
      "C:\\Users\\bryso\\anaconda3\\lib\\site-packages\\numpy\\core\\_methods.py:188: RuntimeWarning: invalid value encountered in double_scalars\n",
      "  ret = ret.dtype.type(ret / rcount)\n"
     ]
    },
    {
     "name": "stdout",
     "output_type": "stream",
     "text": [
      "extraction complete\n",
      "extracting File 212\n"
     ]
    },
    {
     "name": "stderr",
     "output_type": "stream",
     "text": [
      "C:\\Users\\bryso\\anaconda3\\lib\\site-packages\\neurokit2\\epochs\\eventrelated_utils.py:81: NeuroKitWarning: Input does not have an `ECG_Rate` column. Will skip all rate-related features.\n",
      "  warn(\n",
      "C:\\Users\\bryso\\anaconda3\\lib\\site-packages\\neurokit2\\ecg\\ecg_eventrelated.py:147: NeuroKitWarning: Input does not have an `ECG_Phase_Artrial` or `ECG_Phase_Ventricular` column. Will not indicate whether event onset concurs with cardiac phase.\n",
      "  warn(\n",
      "C:\\Users\\bryso\\anaconda3\\lib\\site-packages\\neurokit2\\ecg\\ecg_eventrelated.py:170: NeuroKitWarning: Input does not have an `ECG_Quality` column. Quality of the signal is not computed.\n",
      "  warn(\n"
     ]
    },
    {
     "name": "stdout",
     "output_type": "stream",
     "text": [
      "extraction complete\n",
      "extracting File 213\n"
     ]
    },
    {
     "name": "stderr",
     "output_type": "stream",
     "text": [
      "C:\\Users\\bryso\\anaconda3\\lib\\site-packages\\neurokit2\\epochs\\eventrelated_utils.py:81: NeuroKitWarning: Input does not have an `ECG_Rate` column. Will skip all rate-related features.\n",
      "  warn(\n",
      "C:\\Users\\bryso\\anaconda3\\lib\\site-packages\\neurokit2\\ecg\\ecg_eventrelated.py:147: NeuroKitWarning: Input does not have an `ECG_Phase_Artrial` or `ECG_Phase_Ventricular` column. Will not indicate whether event onset concurs with cardiac phase.\n",
      "  warn(\n",
      "C:\\Users\\bryso\\anaconda3\\lib\\site-packages\\neurokit2\\ecg\\ecg_eventrelated.py:170: NeuroKitWarning: Input does not have an `ECG_Quality` column. Quality of the signal is not computed.\n",
      "  warn(\n",
      "C:\\Users\\bryso\\anaconda3\\lib\\site-packages\\numpy\\core\\fromnumeric.py:3419: RuntimeWarning: Mean of empty slice.\n",
      "  return _methods._mean(a, axis=axis, dtype=dtype,\n",
      "C:\\Users\\bryso\\anaconda3\\lib\\site-packages\\numpy\\core\\_methods.py:188: RuntimeWarning: invalid value encountered in double_scalars\n",
      "  ret = ret.dtype.type(ret / rcount)\n"
     ]
    },
    {
     "name": "stdout",
     "output_type": "stream",
     "text": [
      "extraction complete\n",
      "extracting File 214\n"
     ]
    },
    {
     "name": "stderr",
     "output_type": "stream",
     "text": [
      "C:\\Users\\bryso\\anaconda3\\lib\\site-packages\\neurokit2\\epochs\\eventrelated_utils.py:81: NeuroKitWarning: Input does not have an `ECG_Rate` column. Will skip all rate-related features.\n",
      "  warn(\n",
      "C:\\Users\\bryso\\anaconda3\\lib\\site-packages\\neurokit2\\ecg\\ecg_eventrelated.py:147: NeuroKitWarning: Input does not have an `ECG_Phase_Artrial` or `ECG_Phase_Ventricular` column. Will not indicate whether event onset concurs with cardiac phase.\n",
      "  warn(\n",
      "C:\\Users\\bryso\\anaconda3\\lib\\site-packages\\neurokit2\\ecg\\ecg_eventrelated.py:170: NeuroKitWarning: Input does not have an `ECG_Quality` column. Quality of the signal is not computed.\n",
      "  warn(\n",
      "C:\\Users\\bryso\\anaconda3\\lib\\site-packages\\numpy\\core\\fromnumeric.py:3419: RuntimeWarning: Mean of empty slice.\n",
      "  return _methods._mean(a, axis=axis, dtype=dtype,\n",
      "C:\\Users\\bryso\\anaconda3\\lib\\site-packages\\numpy\\core\\_methods.py:188: RuntimeWarning: invalid value encountered in double_scalars\n",
      "  ret = ret.dtype.type(ret / rcount)\n"
     ]
    },
    {
     "name": "stdout",
     "output_type": "stream",
     "text": [
      "extraction complete\n",
      "extracting File 215\n"
     ]
    },
    {
     "name": "stderr",
     "output_type": "stream",
     "text": [
      "C:\\Users\\bryso\\anaconda3\\lib\\site-packages\\neurokit2\\epochs\\eventrelated_utils.py:81: NeuroKitWarning: Input does not have an `ECG_Rate` column. Will skip all rate-related features.\n",
      "  warn(\n",
      "C:\\Users\\bryso\\anaconda3\\lib\\site-packages\\neurokit2\\ecg\\ecg_eventrelated.py:147: NeuroKitWarning: Input does not have an `ECG_Phase_Artrial` or `ECG_Phase_Ventricular` column. Will not indicate whether event onset concurs with cardiac phase.\n",
      "  warn(\n",
      "C:\\Users\\bryso\\anaconda3\\lib\\site-packages\\neurokit2\\ecg\\ecg_eventrelated.py:170: NeuroKitWarning: Input does not have an `ECG_Quality` column. Quality of the signal is not computed.\n",
      "  warn(\n"
     ]
    },
    {
     "name": "stdout",
     "output_type": "stream",
     "text": [
      "extraction complete\n",
      "extracting File 217\n"
     ]
    },
    {
     "name": "stderr",
     "output_type": "stream",
     "text": [
      "C:\\Users\\bryso\\anaconda3\\lib\\site-packages\\neurokit2\\epochs\\eventrelated_utils.py:81: NeuroKitWarning: Input does not have an `ECG_Rate` column. Will skip all rate-related features.\n",
      "  warn(\n",
      "C:\\Users\\bryso\\anaconda3\\lib\\site-packages\\neurokit2\\ecg\\ecg_eventrelated.py:147: NeuroKitWarning: Input does not have an `ECG_Phase_Artrial` or `ECG_Phase_Ventricular` column. Will not indicate whether event onset concurs with cardiac phase.\n",
      "  warn(\n",
      "C:\\Users\\bryso\\anaconda3\\lib\\site-packages\\neurokit2\\ecg\\ecg_eventrelated.py:170: NeuroKitWarning: Input does not have an `ECG_Quality` column. Quality of the signal is not computed.\n",
      "  warn(\n"
     ]
    },
    {
     "name": "stdout",
     "output_type": "stream",
     "text": [
      "extraction complete\n",
      "extracting File 219\n"
     ]
    },
    {
     "name": "stderr",
     "output_type": "stream",
     "text": [
      "C:\\Users\\bryso\\anaconda3\\lib\\site-packages\\neurokit2\\epochs\\eventrelated_utils.py:81: NeuroKitWarning: Input does not have an `ECG_Rate` column. Will skip all rate-related features.\n",
      "  warn(\n",
      "C:\\Users\\bryso\\anaconda3\\lib\\site-packages\\neurokit2\\ecg\\ecg_eventrelated.py:147: NeuroKitWarning: Input does not have an `ECG_Phase_Artrial` or `ECG_Phase_Ventricular` column. Will not indicate whether event onset concurs with cardiac phase.\n",
      "  warn(\n",
      "C:\\Users\\bryso\\anaconda3\\lib\\site-packages\\neurokit2\\ecg\\ecg_eventrelated.py:170: NeuroKitWarning: Input does not have an `ECG_Quality` column. Quality of the signal is not computed.\n",
      "  warn(\n"
     ]
    },
    {
     "name": "stdout",
     "output_type": "stream",
     "text": [
      "extraction complete\n",
      "extracting File 220\n"
     ]
    },
    {
     "name": "stderr",
     "output_type": "stream",
     "text": [
      "C:\\Users\\bryso\\anaconda3\\lib\\site-packages\\neurokit2\\epochs\\eventrelated_utils.py:81: NeuroKitWarning: Input does not have an `ECG_Rate` column. Will skip all rate-related features.\n",
      "  warn(\n",
      "C:\\Users\\bryso\\anaconda3\\lib\\site-packages\\neurokit2\\ecg\\ecg_eventrelated.py:147: NeuroKitWarning: Input does not have an `ECG_Phase_Artrial` or `ECG_Phase_Ventricular` column. Will not indicate whether event onset concurs with cardiac phase.\n",
      "  warn(\n",
      "C:\\Users\\bryso\\anaconda3\\lib\\site-packages\\neurokit2\\ecg\\ecg_eventrelated.py:170: NeuroKitWarning: Input does not have an `ECG_Quality` column. Quality of the signal is not computed.\n",
      "  warn(\n",
      "C:\\Users\\bryso\\anaconda3\\lib\\site-packages\\numpy\\core\\fromnumeric.py:3419: RuntimeWarning: Mean of empty slice.\n",
      "  return _methods._mean(a, axis=axis, dtype=dtype,\n",
      "C:\\Users\\bryso\\anaconda3\\lib\\site-packages\\numpy\\core\\_methods.py:188: RuntimeWarning: invalid value encountered in double_scalars\n",
      "  ret = ret.dtype.type(ret / rcount)\n"
     ]
    },
    {
     "name": "stdout",
     "output_type": "stream",
     "text": [
      "extraction complete\n",
      "extracting File 221\n"
     ]
    },
    {
     "name": "stderr",
     "output_type": "stream",
     "text": [
      "C:\\Users\\bryso\\anaconda3\\lib\\site-packages\\neurokit2\\epochs\\eventrelated_utils.py:81: NeuroKitWarning: Input does not have an `ECG_Rate` column. Will skip all rate-related features.\n",
      "  warn(\n",
      "C:\\Users\\bryso\\anaconda3\\lib\\site-packages\\neurokit2\\ecg\\ecg_eventrelated.py:147: NeuroKitWarning: Input does not have an `ECG_Phase_Artrial` or `ECG_Phase_Ventricular` column. Will not indicate whether event onset concurs with cardiac phase.\n",
      "  warn(\n",
      "C:\\Users\\bryso\\anaconda3\\lib\\site-packages\\neurokit2\\ecg\\ecg_eventrelated.py:170: NeuroKitWarning: Input does not have an `ECG_Quality` column. Quality of the signal is not computed.\n",
      "  warn(\n"
     ]
    },
    {
     "name": "stdout",
     "output_type": "stream",
     "text": [
      "extraction complete\n",
      "extracting File 222\n"
     ]
    },
    {
     "name": "stderr",
     "output_type": "stream",
     "text": [
      "C:\\Users\\bryso\\anaconda3\\lib\\site-packages\\neurokit2\\epochs\\eventrelated_utils.py:81: NeuroKitWarning: Input does not have an `ECG_Rate` column. Will skip all rate-related features.\n",
      "  warn(\n",
      "C:\\Users\\bryso\\anaconda3\\lib\\site-packages\\neurokit2\\ecg\\ecg_eventrelated.py:147: NeuroKitWarning: Input does not have an `ECG_Phase_Artrial` or `ECG_Phase_Ventricular` column. Will not indicate whether event onset concurs with cardiac phase.\n",
      "  warn(\n",
      "C:\\Users\\bryso\\anaconda3\\lib\\site-packages\\neurokit2\\ecg\\ecg_eventrelated.py:170: NeuroKitWarning: Input does not have an `ECG_Quality` column. Quality of the signal is not computed.\n",
      "  warn(\n",
      "C:\\Users\\bryso\\anaconda3\\lib\\site-packages\\numpy\\core\\fromnumeric.py:3419: RuntimeWarning: Mean of empty slice.\n",
      "  return _methods._mean(a, axis=axis, dtype=dtype,\n",
      "C:\\Users\\bryso\\anaconda3\\lib\\site-packages\\numpy\\core\\_methods.py:188: RuntimeWarning: invalid value encountered in double_scalars\n",
      "  ret = ret.dtype.type(ret / rcount)\n"
     ]
    },
    {
     "name": "stdout",
     "output_type": "stream",
     "text": [
      "extraction complete\n",
      "extracting File 223\n"
     ]
    },
    {
     "name": "stderr",
     "output_type": "stream",
     "text": [
      "C:\\Users\\bryso\\anaconda3\\lib\\site-packages\\neurokit2\\epochs\\eventrelated_utils.py:81: NeuroKitWarning: Input does not have an `ECG_Rate` column. Will skip all rate-related features.\n",
      "  warn(\n",
      "C:\\Users\\bryso\\anaconda3\\lib\\site-packages\\neurokit2\\ecg\\ecg_eventrelated.py:147: NeuroKitWarning: Input does not have an `ECG_Phase_Artrial` or `ECG_Phase_Ventricular` column. Will not indicate whether event onset concurs with cardiac phase.\n",
      "  warn(\n",
      "C:\\Users\\bryso\\anaconda3\\lib\\site-packages\\neurokit2\\ecg\\ecg_eventrelated.py:170: NeuroKitWarning: Input does not have an `ECG_Quality` column. Quality of the signal is not computed.\n",
      "  warn(\n"
     ]
    },
    {
     "name": "stdout",
     "output_type": "stream",
     "text": [
      "extraction complete\n",
      "extracting File 228\n"
     ]
    },
    {
     "name": "stderr",
     "output_type": "stream",
     "text": [
      "C:\\Users\\bryso\\anaconda3\\lib\\site-packages\\neurokit2\\epochs\\eventrelated_utils.py:81: NeuroKitWarning: Input does not have an `ECG_Rate` column. Will skip all rate-related features.\n",
      "  warn(\n",
      "C:\\Users\\bryso\\anaconda3\\lib\\site-packages\\neurokit2\\ecg\\ecg_eventrelated.py:147: NeuroKitWarning: Input does not have an `ECG_Phase_Artrial` or `ECG_Phase_Ventricular` column. Will not indicate whether event onset concurs with cardiac phase.\n",
      "  warn(\n",
      "C:\\Users\\bryso\\anaconda3\\lib\\site-packages\\neurokit2\\ecg\\ecg_eventrelated.py:170: NeuroKitWarning: Input does not have an `ECG_Quality` column. Quality of the signal is not computed.\n",
      "  warn(\n"
     ]
    },
    {
     "name": "stdout",
     "output_type": "stream",
     "text": [
      "extraction complete\n",
      "extracting File 230\n"
     ]
    },
    {
     "name": "stderr",
     "output_type": "stream",
     "text": [
      "C:\\Users\\bryso\\anaconda3\\lib\\site-packages\\neurokit2\\epochs\\eventrelated_utils.py:81: NeuroKitWarning: Input does not have an `ECG_Rate` column. Will skip all rate-related features.\n",
      "  warn(\n",
      "C:\\Users\\bryso\\anaconda3\\lib\\site-packages\\neurokit2\\ecg\\ecg_eventrelated.py:147: NeuroKitWarning: Input does not have an `ECG_Phase_Artrial` or `ECG_Phase_Ventricular` column. Will not indicate whether event onset concurs with cardiac phase.\n",
      "  warn(\n",
      "C:\\Users\\bryso\\anaconda3\\lib\\site-packages\\neurokit2\\ecg\\ecg_eventrelated.py:170: NeuroKitWarning: Input does not have an `ECG_Quality` column. Quality of the signal is not computed.\n",
      "  warn(\n",
      "C:\\Users\\bryso\\anaconda3\\lib\\site-packages\\numpy\\core\\fromnumeric.py:3419: RuntimeWarning: Mean of empty slice.\n",
      "  return _methods._mean(a, axis=axis, dtype=dtype,\n",
      "C:\\Users\\bryso\\anaconda3\\lib\\site-packages\\numpy\\core\\_methods.py:188: RuntimeWarning: invalid value encountered in double_scalars\n",
      "  ret = ret.dtype.type(ret / rcount)\n"
     ]
    },
    {
     "name": "stdout",
     "output_type": "stream",
     "text": [
      "extraction complete\n",
      "extracting File 231\n"
     ]
    },
    {
     "name": "stderr",
     "output_type": "stream",
     "text": [
      "C:\\Users\\bryso\\anaconda3\\lib\\site-packages\\neurokit2\\epochs\\eventrelated_utils.py:81: NeuroKitWarning: Input does not have an `ECG_Rate` column. Will skip all rate-related features.\n",
      "  warn(\n",
      "C:\\Users\\bryso\\anaconda3\\lib\\site-packages\\neurokit2\\ecg\\ecg_eventrelated.py:147: NeuroKitWarning: Input does not have an `ECG_Phase_Artrial` or `ECG_Phase_Ventricular` column. Will not indicate whether event onset concurs with cardiac phase.\n",
      "  warn(\n",
      "C:\\Users\\bryso\\anaconda3\\lib\\site-packages\\neurokit2\\ecg\\ecg_eventrelated.py:170: NeuroKitWarning: Input does not have an `ECG_Quality` column. Quality of the signal is not computed.\n",
      "  warn(\n"
     ]
    },
    {
     "name": "stdout",
     "output_type": "stream",
     "text": [
      "extraction complete\n",
      "extracting File 232\n"
     ]
    },
    {
     "name": "stderr",
     "output_type": "stream",
     "text": [
      "C:\\Users\\bryso\\anaconda3\\lib\\site-packages\\neurokit2\\epochs\\eventrelated_utils.py:81: NeuroKitWarning: Input does not have an `ECG_Rate` column. Will skip all rate-related features.\n",
      "  warn(\n",
      "C:\\Users\\bryso\\anaconda3\\lib\\site-packages\\neurokit2\\ecg\\ecg_eventrelated.py:147: NeuroKitWarning: Input does not have an `ECG_Phase_Artrial` or `ECG_Phase_Ventricular` column. Will not indicate whether event onset concurs with cardiac phase.\n",
      "  warn(\n",
      "C:\\Users\\bryso\\anaconda3\\lib\\site-packages\\neurokit2\\ecg\\ecg_eventrelated.py:170: NeuroKitWarning: Input does not have an `ECG_Quality` column. Quality of the signal is not computed.\n",
      "  warn(\n"
     ]
    },
    {
     "name": "stdout",
     "output_type": "stream",
     "text": [
      "extraction complete\n",
      "extracting File 233\n"
     ]
    },
    {
     "name": "stderr",
     "output_type": "stream",
     "text": [
      "C:\\Users\\bryso\\anaconda3\\lib\\site-packages\\neurokit2\\epochs\\eventrelated_utils.py:81: NeuroKitWarning: Input does not have an `ECG_Rate` column. Will skip all rate-related features.\n",
      "  warn(\n",
      "C:\\Users\\bryso\\anaconda3\\lib\\site-packages\\neurokit2\\ecg\\ecg_eventrelated.py:147: NeuroKitWarning: Input does not have an `ECG_Phase_Artrial` or `ECG_Phase_Ventricular` column. Will not indicate whether event onset concurs with cardiac phase.\n",
      "  warn(\n",
      "C:\\Users\\bryso\\anaconda3\\lib\\site-packages\\neurokit2\\ecg\\ecg_eventrelated.py:170: NeuroKitWarning: Input does not have an `ECG_Quality` column. Quality of the signal is not computed.\n",
      "  warn(\n",
      "C:\\Users\\bryso\\anaconda3\\lib\\site-packages\\numpy\\core\\fromnumeric.py:3419: RuntimeWarning: Mean of empty slice.\n",
      "  return _methods._mean(a, axis=axis, dtype=dtype,\n",
      "C:\\Users\\bryso\\anaconda3\\lib\\site-packages\\numpy\\core\\_methods.py:188: RuntimeWarning: invalid value encountered in double_scalars\n",
      "  ret = ret.dtype.type(ret / rcount)\n"
     ]
    },
    {
     "name": "stdout",
     "output_type": "stream",
     "text": [
      "extraction complete\n",
      "extracting File 234\n"
     ]
    },
    {
     "name": "stderr",
     "output_type": "stream",
     "text": [
      "C:\\Users\\bryso\\anaconda3\\lib\\site-packages\\neurokit2\\epochs\\eventrelated_utils.py:81: NeuroKitWarning: Input does not have an `ECG_Rate` column. Will skip all rate-related features.\n",
      "  warn(\n",
      "C:\\Users\\bryso\\anaconda3\\lib\\site-packages\\neurokit2\\ecg\\ecg_eventrelated.py:147: NeuroKitWarning: Input does not have an `ECG_Phase_Artrial` or `ECG_Phase_Ventricular` column. Will not indicate whether event onset concurs with cardiac phase.\n",
      "  warn(\n",
      "C:\\Users\\bryso\\anaconda3\\lib\\site-packages\\neurokit2\\ecg\\ecg_eventrelated.py:170: NeuroKitWarning: Input does not have an `ECG_Quality` column. Quality of the signal is not computed.\n",
      "  warn(\n"
     ]
    },
    {
     "name": "stdout",
     "output_type": "stream",
     "text": [
      "extraction complete\n"
     ]
    }
   ],
   "source": [
    "testFeatures=pd.DataFrame()\n",
    "for file in AnnotatedFileNames:\n",
    "    DATA= pd.DataFrame(np.nan, index=range(1), columns=testFeatures.columns)\n",
    "    testFeatures=pd.concat([testFeatures,DATA])\n",
    "    testFeatures=pd.concat([testFeatures,Bryson.NerokitExtraction(file)])\n"
   ]
  },
  {
   "cell_type": "markdown",
   "id": "731ea986",
   "metadata": {},
   "source": [
    "We must then add the test features to the previously created training file."
   ]
  },
  {
   "cell_type": "code",
   "execution_count": 15,
   "id": "8320ab73",
   "metadata": {},
   "outputs": [
    {
     "data": {
      "text/html": [
       "<div>\n",
       "<style scoped>\n",
       "    .dataframe tbody tr th:only-of-type {\n",
       "        vertical-align: middle;\n",
       "    }\n",
       "\n",
       "    .dataframe tbody tr th {\n",
       "        vertical-align: top;\n",
       "    }\n",
       "\n",
       "    .dataframe thead th {\n",
       "        text-align: right;\n",
       "    }\n",
       "</style>\n",
       "<table border=\"1\" class=\"dataframe\">\n",
       "  <thead>\n",
       "    <tr style=\"text-align: right;\">\n",
       "      <th></th>\n",
       "      <th>index</th>\n",
       "      <th>File</th>\n",
       "      <th>Result</th>\n",
       "      <th>Sample#</th>\n",
       "      <th>beat_number</th>\n",
       "      <th>ECG_R_Peaks</th>\n",
       "      <th>ECG_Q_Peaks</th>\n",
       "      <th>ECG_S_Peaks</th>\n",
       "      <th>ECG_P_Peaks</th>\n",
       "      <th>ECG_P_Onsets</th>\n",
       "      <th>ECG_P_Offsets</th>\n",
       "      <th>ECG_T_Peaks</th>\n",
       "      <th>ECG_T_Onsets</th>\n",
       "      <th>ECG_T_Offsets</th>\n",
       "      <th>ECG_R_Onsets</th>\n",
       "      <th>ECG_R_Offsets</th>\n",
       "    </tr>\n",
       "  </thead>\n",
       "  <tbody>\n",
       "    <tr>\n",
       "      <th>0</th>\n",
       "      <td>0</td>\n",
       "      <td>100</td>\n",
       "      <td>+</td>\n",
       "      <td>18</td>\n",
       "      <td>NaN</td>\n",
       "      <td>NaN</td>\n",
       "      <td>NaN</td>\n",
       "      <td>NaN</td>\n",
       "      <td>NaN</td>\n",
       "      <td>NaN</td>\n",
       "      <td>NaN</td>\n",
       "      <td>NaN</td>\n",
       "      <td>NaN</td>\n",
       "      <td>NaN</td>\n",
       "      <td>NaN</td>\n",
       "      <td>NaN</td>\n",
       "    </tr>\n",
       "    <tr>\n",
       "      <th>1</th>\n",
       "      <td>1</td>\n",
       "      <td>100</td>\n",
       "      <td>N</td>\n",
       "      <td>77</td>\n",
       "      <td>1</td>\n",
       "      <td>77.0</td>\n",
       "      <td>66.0</td>\n",
       "      <td>88.0</td>\n",
       "      <td>NaN</td>\n",
       "      <td>NaN</td>\n",
       "      <td>NaN</td>\n",
       "      <td>144.0</td>\n",
       "      <td>NaN</td>\n",
       "      <td>147.0</td>\n",
       "      <td>NaN</td>\n",
       "      <td>91.0</td>\n",
       "    </tr>\n",
       "    <tr>\n",
       "      <th>2</th>\n",
       "      <td>2</td>\n",
       "      <td>100</td>\n",
       "      <td>N</td>\n",
       "      <td>370</td>\n",
       "      <td>2</td>\n",
       "      <td>370.0</td>\n",
       "      <td>359.0</td>\n",
       "      <td>472.0</td>\n",
       "      <td>309.0</td>\n",
       "      <td>294.0</td>\n",
       "      <td>338.0</td>\n",
       "      <td>432.0</td>\n",
       "      <td>418.0</td>\n",
       "      <td>468.0</td>\n",
       "      <td>350.0</td>\n",
       "      <td>387.0</td>\n",
       "    </tr>\n",
       "    <tr>\n",
       "      <th>3</th>\n",
       "      <td>3</td>\n",
       "      <td>100</td>\n",
       "      <td>N</td>\n",
       "      <td>662</td>\n",
       "      <td>3</td>\n",
       "      <td>662.0</td>\n",
       "      <td>652.0</td>\n",
       "      <td>757.0</td>\n",
       "      <td>603.0</td>\n",
       "      <td>586.0</td>\n",
       "      <td>610.0</td>\n",
       "      <td>783.0</td>\n",
       "      <td>761.0</td>\n",
       "      <td>791.0</td>\n",
       "      <td>644.0</td>\n",
       "      <td>676.0</td>\n",
       "    </tr>\n",
       "    <tr>\n",
       "      <th>4</th>\n",
       "      <td>4</td>\n",
       "      <td>100</td>\n",
       "      <td>N</td>\n",
       "      <td>946</td>\n",
       "      <td>4</td>\n",
       "      <td>946.0</td>\n",
       "      <td>936.0</td>\n",
       "      <td>958.0</td>\n",
       "      <td>884.0</td>\n",
       "      <td>863.0</td>\n",
       "      <td>890.0</td>\n",
       "      <td>1064.0</td>\n",
       "      <td>1045.0</td>\n",
       "      <td>1070.0</td>\n",
       "      <td>925.0</td>\n",
       "      <td>961.0</td>\n",
       "    </tr>\n",
       "  </tbody>\n",
       "</table>\n",
       "</div>"
      ],
      "text/plain": [
       "   index File Result Sample# beat_number  ECG_R_Peaks  ECG_Q_Peaks  \\\n",
       "0      0  100      +      18         NaN          NaN          NaN   \n",
       "1      1  100      N      77           1         77.0         66.0   \n",
       "2      2  100      N     370           2        370.0        359.0   \n",
       "3      3  100      N     662           3        662.0        652.0   \n",
       "4      4  100      N     946           4        946.0        936.0   \n",
       "\n",
       "   ECG_S_Peaks  ECG_P_Peaks  ECG_P_Onsets  ECG_P_Offsets  ECG_T_Peaks  \\\n",
       "0          NaN          NaN           NaN            NaN          NaN   \n",
       "1         88.0          NaN           NaN            NaN        144.0   \n",
       "2        472.0        309.0         294.0          338.0        432.0   \n",
       "3        757.0        603.0         586.0          610.0        783.0   \n",
       "4        958.0        884.0         863.0          890.0       1064.0   \n",
       "\n",
       "   ECG_T_Onsets  ECG_T_Offsets  ECG_R_Onsets  ECG_R_Offsets  \n",
       "0           NaN            NaN           NaN            NaN  \n",
       "1           NaN          147.0           NaN           91.0  \n",
       "2         418.0          468.0         350.0          387.0  \n",
       "3         761.0          791.0         644.0          676.0  \n",
       "4        1045.0         1070.0         925.0          961.0  "
      ]
     },
     "execution_count": 15,
     "metadata": {},
     "output_type": "execute_result"
    }
   ],
   "source": [
    "#NewTraining=pd.concat([NewTraining,NewFeatures],axis=1)\n",
    "Training = Training.reset_index(drop=True)\n",
    "testFeatures=testFeatures.reset_index(drop=True)\n",
    "Training=pd.concat([Training,testFeatures],axis=1)\n",
    "Training = Training.reset_index()\n",
    "Training.head()"
   ]
  },
  {
   "cell_type": "markdown",
   "id": "b86679d3",
   "metadata": {},
   "source": [
    "Due to the large amount of NaN values in the ECG_T_Peaks, ECG_T_Onsets ,ECG_T_Offsets ,and ECG_R_Offsets columns they are removed from the data."
   ]
  },
  {
   "cell_type": "code",
   "execution_count": 16,
   "id": "376edea6",
   "metadata": {},
   "outputs": [
    {
     "name": "stdout",
     "output_type": "stream",
     "text": [
      "110851\n",
      "92462\n"
     ]
    }
   ],
   "source": [
    "\n",
    "Training = Training.drop([\"ECG_T_Peaks\",\"ECG_T_Onsets\",\"ECG_T_Offsets\",\"ECG_R_Offsets\"],axis='columns')\n",
    "print(len(Training))\n",
    "Training.dropna(inplace=True)\n",
    "print(len(Training))"
   ]
  },
  {
   "cell_type": "markdown",
   "id": "f33f5fc3",
   "metadata": {},
   "source": [
    "Now, Interval data is collected from the time data to get useful information to build the model on."
   ]
  },
  {
   "cell_type": "code",
   "execution_count": 17,
   "id": "8faca6cf",
   "metadata": {},
   "outputs": [],
   "source": [
    "Interval = pd.DataFrame(columns=[\"File\",\"Abnormal\",\"Result\",\"R-R Interval\",\"R Height\",\"R_Onset-Rpeak\",\"Q-Q Interval\",\"Q Height\",\"P_Onset-P_Offset\",\"P Height\",\"P-P Interval\",\"P_Onset-Ppeak\"])\n",
    "RRLIST=np.array([])\n",
    "QQLIST=np.array([])\n",
    "R_Height=np.array([])\n",
    "Q_Height=np.array([]) \n",
    "P_Height=np.array([])\n",
    "Ron_RP=np.array([])\n",
    "Pon_PP=np.array([])\n",
    "Pon_Poff=np.array([])\n",
    "PPLIST=np.array([])\n",
    "Abnormal=np.array([])\n",
    "Result=np.array([])\n",
    "FILES=np.array([])\n",
    "y=2\n",
    "FileNumber=Training[\"File\"][y]\n",
    "RAWFile= pd.read_csv(\"mitbih_database/\"+str(FileNumber)+\".csv\")\n",
    "\n"
   ]
  },
  {
   "cell_type": "code",
   "execution_count": 18,
   "id": "ed27c0d2",
   "metadata": {
    "scrolled": false
   },
   "outputs": [
    {
     "name": "stdout",
     "output_type": "stream",
     "text": [
      "Reading File 100\n",
      "Reading File 101\n",
      "Reading File 102\n",
      "Reading File 103\n",
      "Reading File 104\n",
      "Reading File 105\n",
      "Reading File 106\n",
      "Reading File 107\n",
      "Reading File 108\n",
      "Reading File 109\n",
      "Reading File 111\n",
      "Reading File 112\n",
      "Reading File 114\n",
      "Reading File 115\n",
      "Reading File 116\n",
      "Reading File 117\n",
      "Reading File 118\n",
      "Reading File 119\n",
      "Reading File 121\n",
      "Reading File 122\n",
      "Reading File 123\n",
      "Reading File 124\n",
      "Reading File 200\n",
      "Reading File 201\n",
      "Reading File 202\n",
      "Reading File 203\n",
      "Reading File 205\n",
      "Reading File 207\n",
      "Reading File 208\n",
      "Reading File 209\n",
      "Reading File 210\n",
      "Reading File 212\n",
      "Reading File 213\n",
      "Reading File 214\n",
      "Reading File 215\n",
      "Reading File 217\n",
      "Reading File 219\n",
      "Reading File 220\n",
      "Reading File 221\n",
      "Reading File 222\n",
      "Reading File 223\n",
      "Reading File 228\n",
      "Reading File 230\n",
      "Reading File 231\n",
      "Reading File 232\n",
      "Reading File 233\n",
      "Length of DataFrame 83283\n"
     ]
    },
    {
     "data": {
      "text/html": [
       "<div>\n",
       "<style scoped>\n",
       "    .dataframe tbody tr th:only-of-type {\n",
       "        vertical-align: middle;\n",
       "    }\n",
       "\n",
       "    .dataframe tbody tr th {\n",
       "        vertical-align: top;\n",
       "    }\n",
       "\n",
       "    .dataframe thead th {\n",
       "        text-align: right;\n",
       "    }\n",
       "</style>\n",
       "<table border=\"1\" class=\"dataframe\">\n",
       "  <thead>\n",
       "    <tr style=\"text-align: right;\">\n",
       "      <th></th>\n",
       "      <th>File</th>\n",
       "      <th>Abnormal</th>\n",
       "      <th>Result</th>\n",
       "      <th>R-R Interval</th>\n",
       "      <th>R Height</th>\n",
       "      <th>R_Onset-Rpeak</th>\n",
       "      <th>Q-Q Interval</th>\n",
       "      <th>Q Height</th>\n",
       "      <th>P_Onset-P_Offset</th>\n",
       "      <th>P Height</th>\n",
       "      <th>P-P Interval</th>\n",
       "      <th>P_Onset-Ppeak</th>\n",
       "    </tr>\n",
       "  </thead>\n",
       "  <tbody>\n",
       "    <tr>\n",
       "      <th>0</th>\n",
       "      <td>100.0</td>\n",
       "      <td>0.0</td>\n",
       "      <td>N</td>\n",
       "      <td>0.0</td>\n",
       "      <td>1212.0</td>\n",
       "      <td>20.0</td>\n",
       "      <td>0.0</td>\n",
       "      <td>922.0</td>\n",
       "      <td>44.0</td>\n",
       "      <td>983.0</td>\n",
       "      <td>0.0</td>\n",
       "      <td>15.0</td>\n",
       "    </tr>\n",
       "    <tr>\n",
       "      <th>1</th>\n",
       "      <td>100.0</td>\n",
       "      <td>0.0</td>\n",
       "      <td>N</td>\n",
       "      <td>292.0</td>\n",
       "      <td>1201.0</td>\n",
       "      <td>18.0</td>\n",
       "      <td>293.0</td>\n",
       "      <td>920.0</td>\n",
       "      <td>24.0</td>\n",
       "      <td>981.0</td>\n",
       "      <td>294.0</td>\n",
       "      <td>17.0</td>\n",
       "    </tr>\n",
       "    <tr>\n",
       "      <th>2</th>\n",
       "      <td>100.0</td>\n",
       "      <td>0.0</td>\n",
       "      <td>N</td>\n",
       "      <td>284.0</td>\n",
       "      <td>1186.0</td>\n",
       "      <td>21.0</td>\n",
       "      <td>284.0</td>\n",
       "      <td>895.0</td>\n",
       "      <td>27.0</td>\n",
       "      <td>975.0</td>\n",
       "      <td>281.0</td>\n",
       "      <td>21.0</td>\n",
       "    </tr>\n",
       "    <tr>\n",
       "      <th>3</th>\n",
       "      <td>100.0</td>\n",
       "      <td>0.0</td>\n",
       "      <td>N</td>\n",
       "      <td>285.0</td>\n",
       "      <td>1188.0</td>\n",
       "      <td>18.0</td>\n",
       "      <td>285.0</td>\n",
       "      <td>921.0</td>\n",
       "      <td>61.0</td>\n",
       "      <td>973.0</td>\n",
       "      <td>284.0</td>\n",
       "      <td>27.0</td>\n",
       "    </tr>\n",
       "    <tr>\n",
       "      <th>4</th>\n",
       "      <td>100.0</td>\n",
       "      <td>0.0</td>\n",
       "      <td>N</td>\n",
       "      <td>284.0</td>\n",
       "      <td>1201.0</td>\n",
       "      <td>20.0</td>\n",
       "      <td>284.0</td>\n",
       "      <td>915.0</td>\n",
       "      <td>18.0</td>\n",
       "      <td>974.0</td>\n",
       "      <td>294.0</td>\n",
       "      <td>4.0</td>\n",
       "    </tr>\n",
       "    <tr>\n",
       "      <th>5</th>\n",
       "      <td>100.0</td>\n",
       "      <td>0.0</td>\n",
       "      <td>N</td>\n",
       "      <td>294.0</td>\n",
       "      <td>1213.0</td>\n",
       "      <td>19.0</td>\n",
       "      <td>294.0</td>\n",
       "      <td>920.0</td>\n",
       "      <td>27.0</td>\n",
       "      <td>984.0</td>\n",
       "      <td>284.0</td>\n",
       "      <td>20.0</td>\n",
       "    </tr>\n",
       "    <tr>\n",
       "      <th>6</th>\n",
       "      <td>100.0</td>\n",
       "      <td>1.0</td>\n",
       "      <td>A</td>\n",
       "      <td>235.0</td>\n",
       "      <td>1193.0</td>\n",
       "      <td>19.0</td>\n",
       "      <td>235.0</td>\n",
       "      <td>914.0</td>\n",
       "      <td>42.0</td>\n",
       "      <td>978.0</td>\n",
       "      <td>238.0</td>\n",
       "      <td>23.0</td>\n",
       "    </tr>\n",
       "    <tr>\n",
       "      <th>7</th>\n",
       "      <td>100.0</td>\n",
       "      <td>0.0</td>\n",
       "      <td>N</td>\n",
       "      <td>358.0</td>\n",
       "      <td>1193.0</td>\n",
       "      <td>20.0</td>\n",
       "      <td>357.0</td>\n",
       "      <td>920.0</td>\n",
       "      <td>30.0</td>\n",
       "      <td>972.0</td>\n",
       "      <td>354.0</td>\n",
       "      <td>19.0</td>\n",
       "    </tr>\n",
       "    <tr>\n",
       "      <th>8</th>\n",
       "      <td>100.0</td>\n",
       "      <td>0.0</td>\n",
       "      <td>N</td>\n",
       "      <td>304.0</td>\n",
       "      <td>1202.0</td>\n",
       "      <td>20.0</td>\n",
       "      <td>304.0</td>\n",
       "      <td>918.0</td>\n",
       "      <td>25.0</td>\n",
       "      <td>975.0</td>\n",
       "      <td>304.0</td>\n",
       "      <td>18.0</td>\n",
       "    </tr>\n",
       "    <tr>\n",
       "      <th>9</th>\n",
       "      <td>100.0</td>\n",
       "      <td>0.0</td>\n",
       "      <td>N</td>\n",
       "      <td>292.0</td>\n",
       "      <td>1209.0</td>\n",
       "      <td>19.0</td>\n",
       "      <td>293.0</td>\n",
       "      <td>919.0</td>\n",
       "      <td>23.0</td>\n",
       "      <td>981.0</td>\n",
       "      <td>295.0</td>\n",
       "      <td>17.0</td>\n",
       "    </tr>\n",
       "  </tbody>\n",
       "</table>\n",
       "</div>"
      ],
      "text/plain": [
       "    File  Abnormal Result  R-R Interval  R Height  R_Onset-Rpeak  \\\n",
       "0  100.0       0.0      N           0.0    1212.0           20.0   \n",
       "1  100.0       0.0      N         292.0    1201.0           18.0   \n",
       "2  100.0       0.0      N         284.0    1186.0           21.0   \n",
       "3  100.0       0.0      N         285.0    1188.0           18.0   \n",
       "4  100.0       0.0      N         284.0    1201.0           20.0   \n",
       "5  100.0       0.0      N         294.0    1213.0           19.0   \n",
       "6  100.0       1.0      A         235.0    1193.0           19.0   \n",
       "7  100.0       0.0      N         358.0    1193.0           20.0   \n",
       "8  100.0       0.0      N         304.0    1202.0           20.0   \n",
       "9  100.0       0.0      N         292.0    1209.0           19.0   \n",
       "\n",
       "   Q-Q Interval  Q Height  P_Onset-P_Offset  P Height  P-P Interval  \\\n",
       "0           0.0     922.0              44.0     983.0           0.0   \n",
       "1         293.0     920.0              24.0     981.0         294.0   \n",
       "2         284.0     895.0              27.0     975.0         281.0   \n",
       "3         285.0     921.0              61.0     973.0         284.0   \n",
       "4         284.0     915.0              18.0     974.0         294.0   \n",
       "5         294.0     920.0              27.0     984.0         284.0   \n",
       "6         235.0     914.0              42.0     978.0         238.0   \n",
       "7         357.0     920.0              30.0     972.0         354.0   \n",
       "8         304.0     918.0              25.0     975.0         304.0   \n",
       "9         293.0     919.0              23.0     981.0         295.0   \n",
       "\n",
       "   P_Onset-Ppeak  \n",
       "0           15.0  \n",
       "1           17.0  \n",
       "2           21.0  \n",
       "3           27.0  \n",
       "4            4.0  \n",
       "5           20.0  \n",
       "6           23.0  \n",
       "7           19.0  \n",
       "8           18.0  \n",
       "9           17.0  "
      ]
     },
     "execution_count": 18,
     "metadata": {},
     "output_type": "execute_result"
    }
   ],
   "source": [
    "\n",
    "\n",
    "for i in Training[\"index\"][:-1]:\n",
    "    if (i-y>1):\n",
    "        y=i\n",
    "        continue\n",
    "    if Training[\"Result\"][i]=='N':\n",
    "        Abnormal=np.append(Abnormal,0)\n",
    "    else:\n",
    "        Abnormal=np.append(Abnormal,1)\n",
    "    if (Training[\"File\"][i] != FileNumber):\n",
    "        print(\"Reading File\",FileNumber)\n",
    "        FileNumber=Training[\"File\"][i]\n",
    "        RAWFile= pd.read_csv(\"mitbih_database/\"+str(FileNumber)+\".csv\")\n",
    "        \n",
    "    RRLIST=np.append(RRLIST,Training[\"ECG_R_Peaks\"][i]-Training[\"ECG_R_Peaks\"][y])\n",
    "    QQLIST=np.append(QQLIST,Training[\"ECG_Q_Peaks\"][i]-Training[\"ECG_Q_Peaks\"][y])\n",
    "    PPLIST=np.append(PPLIST,Training[\"ECG_P_Peaks\"][i]-Training[\"ECG_P_Peaks\"][y])\n",
    "    R_Height=np.append(R_Height,RAWFile[RAWFile.columns[1]][Training[\"ECG_R_Peaks\"][i]])#\n",
    "    Q_Height=np.append(Q_Height,RAWFile[RAWFile.columns[1]][Training[\"ECG_Q_Peaks\"][i]])#\n",
    "    P_Height=np.append(P_Height,RAWFile[RAWFile.columns[1]][Training[\"ECG_P_Peaks\"][i]])#\n",
    "    Ron_RP=np.append(Ron_RP,Training[\"ECG_R_Peaks\"][i]-Training[\"ECG_R_Onsets\"][i])\n",
    "    Pon_PP=np.append(Pon_PP,Training[\"ECG_P_Peaks\"][i]-Training[\"ECG_P_Onsets\"][i])\n",
    "    Pon_Poff=np.append(Pon_Poff,Training[\"ECG_P_Offsets\"][i]-Training[\"ECG_P_Onsets\"][i])\n",
    "    Result=np.append(Result,Training[\"Result\"][i])\n",
    "    FILES=np.append(FILES,FileNumber)\n",
    "    \n",
    "    y=i\n",
    "\n",
    "Interval[\"R-R Interval\"]=RRLIST\n",
    "Interval[\"Q-Q Interval\"]=QQLIST\n",
    "Interval[\"P-P Interval\"]=PPLIST\n",
    "Interval[\"R_Onset-Rpeak\"]=Ron_RP\n",
    "Interval[\"P_Onset-Ppeak\"]=Pon_PP\n",
    "Interval[\"P_Onset-P_Offset\"]=Pon_Poff\n",
    "Interval[\"R Height\"]=R_Height#\n",
    "Interval[\"Q Height\"]=Q_Height#\n",
    "Interval[\"P Height\"]=P_Height#\n",
    "Interval[\"File\"]=FILES\n",
    "Interval[\"Abnormal\"]=Abnormal\n",
    "Interval[\"Result\"]=Result\n",
    "\n",
    "print(\"Length of DataFrame\",len(Interval))\n",
    "Interval.head(10)\n",
    "\n",
    "\n",
    "\n"
   ]
  },
  {
   "cell_type": "markdown",
   "id": "fc4ba936",
   "metadata": {},
   "source": [
    "Now a decision Tree classification model is created to descern between normal and abrnormal heartbeats, the model is then scored using regular scoring techniques along with the AUC score "
   ]
  },
  {
   "cell_type": "code",
   "execution_count": 19,
   "id": "0e7bc64d",
   "metadata": {},
   "outputs": [
    {
     "name": "stdout",
     "output_type": "stream",
     "text": [
      "0.9631378827296377 Regular\n",
      "0.9542624683426774 AUC1\n",
      "\n"
     ]
    }
   ],
   "source": [
    "#creatin\n",
    "model1 = tree.DecisionTreeClassifier()\n",
    "\n",
    "inputs = Interval.drop([\"Result\",\"Abnormal\"],axis='columns')\n",
    "Target = Interval[[\"Abnormal\"]]\n",
    "\n",
    "\n",
    "\n",
    "x_train1, x_test1, y_train1, y_test1 = train_test_split(inputs, Target,test_size=0.3)\n",
    "\n",
    "model1.fit(X=x_train1,y=y_train1)\n",
    "print(model1.score(x_test1,y_test1),\"Regular\")\n",
    "print(roc_auc_score(y_test1, model1.predict(x_test1)),\"AUC1\\n\")\n",
    "\n",
    "\n",
    "\n"
   ]
  },
  {
   "cell_type": "code",
   "execution_count": 20,
   "id": "f1ac99a6",
   "metadata": {},
   "outputs": [],
   "source": [
    "#With sampling rate of 1000\n",
    "#0.9683361313187838 Regular\n",
    "#0.9562155004639009 AUC1\n",
    "\n",
    "#sampling rate of   360 \n",
    "#0.9631378827296377 Regular\n",
    "#0.9542624683426774 AUC1"
   ]
  },
  {
   "cell_type": "code",
   "execution_count": null,
   "id": "c43750e8",
   "metadata": {},
   "outputs": [],
   "source": []
  },
  {
   "cell_type": "code",
   "execution_count": null,
   "id": "ec746a2a",
   "metadata": {},
   "outputs": [],
   "source": []
  },
  {
   "cell_type": "code",
   "execution_count": null,
   "id": "ba9a9fae",
   "metadata": {},
   "outputs": [],
   "source": []
  }
 ],
 "metadata": {
  "kernelspec": {
   "display_name": "Python 3",
   "language": "python",
   "name": "python3"
  },
  "language_info": {
   "codemirror_mode": {
    "name": "ipython",
    "version": 3
   },
   "file_extension": ".py",
   "mimetype": "text/x-python",
   "name": "python",
   "nbconvert_exporter": "python",
   "pygments_lexer": "ipython3",
   "version": "3.8.8"
  }
 },
 "nbformat": 4,
 "nbformat_minor": 5
}
