{
 "cells": [
  {
   "cell_type": "code",
   "execution_count": 46,
   "id": "1c291a04",
   "metadata": {},
   "outputs": [
    {
     "name": "stdout",
     "output_type": "stream",
     "text": [
      "Features functions has run successfully\n"
     ]
    }
   ],
   "source": [
    "import numpy as np\n",
    "import pandas as pd\n",
    "import csv\n",
    "%run TestingFunctions.ipynb\n",
    "%run Functions.ipynb\n",
    "%run FeaturesFunctions.ipynb\n",
    "\n"
   ]
  },
  {
   "cell_type": "markdown",
   "id": "b174d533",
   "metadata": {},
   "source": [
    "Read in the Training file"
   ]
  },
  {
   "cell_type": "code",
   "execution_count": 47,
   "id": "e954e188",
   "metadata": {},
   "outputs": [],
   "source": [
    "AnnotatedFileNames=[*range(100,125)]+[*range(200,235)]\n",
    "remove=[110,120,204,206,211,216,218,224,225,226,227,229]\n",
    "for i in remove:\n",
    "    AnnotatedFileNames.remove(i)"
   ]
  },
  {
   "cell_type": "markdown",
   "id": "c7f0d19c",
   "metadata": {},
   "source": [
    "loop through the files\n"
   ]
  },
  {
   "cell_type": "code",
   "execution_count": 53,
   "id": "57e716a1",
   "metadata": {},
   "outputs": [
    {
     "name": "stdout",
     "output_type": "stream",
     "text": [
      "100\n",
      "1\n",
      "101\n",
      "2\n",
      "102\n",
      "3\n",
      "103\n",
      "4\n",
      "104\n",
      "5\n",
      "105\n",
      "6\n",
      "106\n",
      "7\n",
      "107\n",
      "8\n",
      "108\n",
      "9\n",
      "109\n",
      "10\n",
      "111\n",
      "11\n",
      "112\n",
      "12\n",
      "113\n",
      "13\n",
      "114\n",
      "14\n",
      "115\n",
      "15\n",
      "116\n",
      "16\n",
      "117\n",
      "17\n",
      "118\n",
      "18\n",
      "119\n",
      "19\n",
      "121\n",
      "20\n",
      "122\n",
      "21\n",
      "123\n",
      "22\n",
      "124\n",
      "23\n",
      "200\n",
      "24\n",
      "201\n",
      "25\n",
      "202\n",
      "26\n",
      "203\n",
      "27\n",
      "205\n",
      "28\n",
      "207\n",
      "29\n",
      "208\n",
      "30\n",
      "209\n",
      "31\n",
      "210\n",
      "32\n",
      "212\n",
      "33\n",
      "213\n",
      "34\n",
      "214\n",
      "35\n",
      "215\n",
      "36\n",
      "217\n",
      "37\n",
      "219\n",
      "38\n",
      "220\n",
      "39\n",
      "221\n",
      "40\n",
      "222\n",
      "41\n",
      "223\n",
      "42\n",
      "228\n",
      "43\n",
      "230\n",
      "44\n",
      "231\n",
      "45\n",
      "232\n",
      "46\n",
      "233\n",
      "47\n",
      "234\n",
      "48\n",
      "480\n"
     ]
    }
   ],
   "source": [
    "Training=pd.read_csv(\"training.csv\")\n",
    "temp = pd.DataFrame()\n",
    "for file in AnnotatedFileNames:\n",
    "    temp=pd.concat([temp,Bryson.test(100)],axis=0)\n",
    "print(len(temp))"
   ]
  },
  {
   "cell_type": "code",
   "execution_count": null,
   "id": "9d9a8972",
   "metadata": {},
   "outputs": [],
   "source": []
  },
  {
   "cell_type": "code",
   "execution_count": null,
   "id": "a85c1ae9",
   "metadata": {},
   "outputs": [],
   "source": []
  },
  {
   "cell_type": "code",
   "execution_count": null,
   "id": "aa3037fa",
   "metadata": {},
   "outputs": [],
   "source": []
  }
 ],
 "metadata": {
  "kernelspec": {
   "display_name": "Python 3",
   "language": "python",
   "name": "python3"
  },
  "language_info": {
   "codemirror_mode": {
    "name": "ipython",
    "version": 3
   },
   "file_extension": ".py",
   "mimetype": "text/x-python",
   "name": "python",
   "nbconvert_exporter": "python",
   "pygments_lexer": "ipython3",
   "version": "3.8.8"
  }
 },
 "nbformat": 4,
 "nbformat_minor": 5
}
