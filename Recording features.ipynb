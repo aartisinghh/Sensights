{
 "cells": [
  {
   "cell_type": "code",
   "execution_count": 42,
   "id": "1c291a04",
   "metadata": {},
   "outputs": [
    {
     "name": "stdout",
     "output_type": "stream",
     "text": [
      "HI\n",
      "   FileAgain\n",
      "0        100\n",
      "0        100\n",
      "0        100\n",
      "0        100\n",
      "0        100\n",
      "0        100\n",
      "0        100\n",
      "0        100\n",
      "0        100\n",
      "0        100\n",
      "HI\n"
     ]
    }
   ],
   "source": [
    "import numpy as np\n",
    "import pandas as pd\n",
    "import csv\n",
    "%run TestingFunctions.ipynb\n",
    "%run Functions.ipynb\n",
    "%run FeaturesFunctions.ipynb\n",
    "\n"
   ]
  },
  {
   "cell_type": "markdown",
   "id": "b174d533",
   "metadata": {},
   "source": [
    "Read in the Training file"
   ]
  },
  {
   "cell_type": "code",
   "execution_count": 40,
   "id": "e954e188",
   "metadata": {},
   "outputs": [],
   "source": [
    "AnnotatedFileNames=[*range(100,125)]+[*range(200,235)]\n",
    "remove=[110,120,204,206,211,216,218,224,225,226,227,229]\n",
    "for i in remove:\n",
    "    AnnotatedFileNames.remove(i)"
   ]
  },
  {
   "cell_type": "markdown",
   "id": "c7f0d19c",
   "metadata": {},
   "source": [
    "loop through the files\n"
   ]
  },
  {
   "cell_type": "code",
   "execution_count": 43,
   "id": "979f7657",
   "metadata": {},
   "outputs": [
    {
     "name": "stdout",
     "output_type": "stream",
     "text": [
      "Sample#\n",
      "Sample#\n",
      "Sample#\n",
      "Sample#\n",
      "Sample#\n",
      "Sample#\n",
      "Sample#\n",
      "Sample#\n",
      "Sample#\n",
      "Sample#\n",
      "Sample#\n",
      "Sample#\n",
      "Sample#\n",
      "Sample#\n",
      "Sample#\n",
      "Sample#\n",
      "Sample#\n",
      "Sample#\n",
      "Sample#\n",
      "Sample#\n",
      "Sample#\n",
      "Sample#\n",
      "Sample#\n",
      "Sample#\n",
      "Sample#\n",
      "Sample#\n",
      "Sample#\n",
      "Sample#\n",
      "Sample#\n",
      "Sample#\n",
      "Sample#\n",
      "Sample#\n",
      "Sample#\n",
      "Sample#\n",
      "Sample#\n",
      "Sample#\n",
      "Sample#\n",
      "Sample#\n",
      "Sample#\n",
      "Sample#\n",
      "Sample#\n",
      "Sample#\n",
      "Sample#\n",
      "Sample#\n",
      "Sample#\n",
      "Sample#\n",
      "Sample#\n",
      "Sample#\n",
      "\n"
     ]
    }
   ],
   "source": [
    "Training=pd.read_csv(\"training.csv\")\n",
    "temp = pd.DataFrame()\n",
    "for file in AnnotatedFileNames:\n",
    "    temp=pd.concat([temp,Bryson.test(100)],axis=0)\n",
    "print()"
   ]
  },
  {
   "cell_type": "code",
   "execution_count": null,
   "id": "99b1dfc6",
   "metadata": {},
   "outputs": [],
   "source": []
  },
  {
   "cell_type": "code",
   "execution_count": null,
   "id": "fc7490a4",
   "metadata": {},
   "outputs": [],
   "source": []
  },
  {
   "cell_type": "code",
   "execution_count": null,
   "id": "57be81f9",
   "metadata": {},
   "outputs": [],
   "source": []
  }
 ],
 "metadata": {
  "kernelspec": {
   "display_name": "Python 3",
   "language": "python",
   "name": "python3"
  },
  "language_info": {
   "codemirror_mode": {
    "name": "ipython",
    "version": 3
   },
   "file_extension": ".py",
   "mimetype": "text/x-python",
   "name": "python",
   "nbconvert_exporter": "python",
   "pygments_lexer": "ipython3",
   "version": "3.8.8"
  }
 },
 "nbformat": 4,
 "nbformat_minor": 5
}
