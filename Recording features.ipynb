{
 "cells": [
  {
   "cell_type": "code",
   "execution_count": 3,
   "id": "1c291a04",
   "metadata": {},
   "outputs": [],
   "source": [
    "import numpy as np\n",
    "import pandas as pd\n",
    "import csv\n",
    "%run Functions.ipynb FeaturesFunctions.ipynb\n",
    "\n"
   ]
  },
  {
   "cell_type": "markdown",
   "id": "b174d533",
   "metadata": {},
   "source": [
    "Read in the Training file"
   ]
  },
  {
   "cell_type": "code",
   "execution_count": null,
   "id": "e954e188",
   "metadata": {},
   "outputs": [],
   "source": []
  },
  {
   "cell_type": "markdown",
   "id": "c7f0d19c",
   "metadata": {},
   "source": [
    "loop through the files\n"
   ]
  }
 ],
 "metadata": {
  "kernelspec": {
   "display_name": "Python 3",
   "language": "python",
   "name": "python3"
  },
  "language_info": {
   "codemirror_mode": {
    "name": "ipython",
    "version": 3
   },
   "file_extension": ".py",
   "mimetype": "text/x-python",
   "name": "python",
   "nbconvert_exporter": "python",
   "pygments_lexer": "ipython3",
   "version": "3.8.8"
  }
 },
 "nbformat": 4,
 "nbformat_minor": 5
}
