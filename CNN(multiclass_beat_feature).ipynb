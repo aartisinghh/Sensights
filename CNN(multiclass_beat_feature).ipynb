{
 "cells": [
  {
   "cell_type": "code",
   "execution_count": 1,
   "id": "1af4ec06",
   "metadata": {},
   "outputs": [],
   "source": [
    "#from numpy.random import seed\n",
    "#seed(1)\n",
    "#from tensorflow import random\n",
    "#random.set_seed(2)"
   ]
  },
  {
   "cell_type": "code",
   "execution_count": 2,
   "id": "f9e561f2",
   "metadata": {},
   "outputs": [],
   "source": [
    "import tensorflow as tf\n",
    "import numpy as np\n",
    "import pandas as pd\n",
    "import matplotlib.pyplot as plt\n",
    "import keras\n",
    "from tensorflow.keras import layers\n",
    "from tensorflow.keras import Sequential\n",
    "from tensorflow.keras.layers import MaxPooling1D,AveragePooling1D,Conv1D,MaxPool1D,add,Flatten,Dense,Concatenate,Activation\n",
    "from sklearn.model_selection import train_test_split\n",
    "from sklearn.preprocessing import LabelEncoder\n",
    "from tensorflow.keras import optimizers\n",
    "from sklearn.metrics import confusion_matrix\n",
    "from sklearn.metrics import roc_auc_score"
   ]
  },
  {
   "cell_type": "code",
   "execution_count": 3,
   "id": "58237820",
   "metadata": {},
   "outputs": [
    {
     "data": {
      "text/html": [
       "<div>\n",
       "<style scoped>\n",
       "    .dataframe tbody tr th:only-of-type {\n",
       "        vertical-align: middle;\n",
       "    }\n",
       "\n",
       "    .dataframe tbody tr th {\n",
       "        vertical-align: top;\n",
       "    }\n",
       "\n",
       "    .dataframe thead th {\n",
       "        text-align: right;\n",
       "    }\n",
       "</style>\n",
       "<table border=\"1\" class=\"dataframe\">\n",
       "  <thead>\n",
       "    <tr style=\"text-align: right;\">\n",
       "      <th></th>\n",
       "      <th>Unnamed: 0</th>\n",
       "      <th>File</th>\n",
       "      <th>Abnormal</th>\n",
       "      <th>Result</th>\n",
       "      <th>R-R Interval</th>\n",
       "      <th>R Height</th>\n",
       "      <th>R_Onset-Rpeak</th>\n",
       "      <th>Q-Q Interval</th>\n",
       "      <th>Q Height</th>\n",
       "      <th>P_Onset-P_Offset</th>\n",
       "      <th>P Height</th>\n",
       "      <th>P-P Interval</th>\n",
       "      <th>P_Onset-Ppeak</th>\n",
       "    </tr>\n",
       "  </thead>\n",
       "  <tbody>\n",
       "    <tr>\n",
       "      <th>0</th>\n",
       "      <td>34469</td>\n",
       "      <td>121</td>\n",
       "      <td>0</td>\n",
       "      <td>N</td>\n",
       "      <td>373</td>\n",
       "      <td>990</td>\n",
       "      <td>40</td>\n",
       "      <td>371</td>\n",
       "      <td>827</td>\n",
       "      <td>23</td>\n",
       "      <td>840</td>\n",
       "      <td>373</td>\n",
       "      <td>17</td>\n",
       "    </tr>\n",
       "    <tr>\n",
       "      <th>1</th>\n",
       "      <td>64511</td>\n",
       "      <td>220</td>\n",
       "      <td>0</td>\n",
       "      <td>N</td>\n",
       "      <td>309</td>\n",
       "      <td>1225</td>\n",
       "      <td>33</td>\n",
       "      <td>311</td>\n",
       "      <td>906</td>\n",
       "      <td>33</td>\n",
       "      <td>929</td>\n",
       "      <td>312</td>\n",
       "      <td>17</td>\n",
       "    </tr>\n",
       "    <tr>\n",
       "      <th>2</th>\n",
       "      <td>34062</td>\n",
       "      <td>121</td>\n",
       "      <td>0</td>\n",
       "      <td>N</td>\n",
       "      <td>362</td>\n",
       "      <td>1041</td>\n",
       "      <td>22</td>\n",
       "      <td>362</td>\n",
       "      <td>856</td>\n",
       "      <td>24</td>\n",
       "      <td>868</td>\n",
       "      <td>369</td>\n",
       "      <td>3</td>\n",
       "    </tr>\n",
       "    <tr>\n",
       "      <th>3</th>\n",
       "      <td>55156</td>\n",
       "      <td>212</td>\n",
       "      <td>1</td>\n",
       "      <td>N</td>\n",
       "      <td>227</td>\n",
       "      <td>1275</td>\n",
       "      <td>47</td>\n",
       "      <td>229</td>\n",
       "      <td>931</td>\n",
       "      <td>33</td>\n",
       "      <td>1000</td>\n",
       "      <td>225</td>\n",
       "      <td>17</td>\n",
       "    </tr>\n",
       "    <tr>\n",
       "      <th>4</th>\n",
       "      <td>46828</td>\n",
       "      <td>205</td>\n",
       "      <td>0</td>\n",
       "      <td>N</td>\n",
       "      <td>267</td>\n",
       "      <td>1193</td>\n",
       "      <td>17</td>\n",
       "      <td>266</td>\n",
       "      <td>948</td>\n",
       "      <td>38</td>\n",
       "      <td>970</td>\n",
       "      <td>266</td>\n",
       "      <td>15</td>\n",
       "    </tr>\n",
       "  </tbody>\n",
       "</table>\n",
       "</div>"
      ],
      "text/plain": [
       "   Unnamed: 0  File  Abnormal Result  R-R Interval  R Height  R_Onset-Rpeak  \\\n",
       "0       34469   121         0      N           373       990             40   \n",
       "1       64511   220         0      N           309      1225             33   \n",
       "2       34062   121         0      N           362      1041             22   \n",
       "3       55156   212         1      N           227      1275             47   \n",
       "4       46828   205         0      N           267      1193             17   \n",
       "\n",
       "   Q-Q Interval  Q Height  P_Onset-P_Offset  P Height  P-P Interval  \\\n",
       "0           371       827                23       840           373   \n",
       "1           311       906                33       929           312   \n",
       "2           362       856                24       868           369   \n",
       "3           229       931                33      1000           225   \n",
       "4           266       948                38       970           266   \n",
       "\n",
       "   P_Onset-Ppeak  \n",
       "0             17  \n",
       "1             17  \n",
       "2              3  \n",
       "3             17  \n",
       "4             15  "
      ]
     },
     "execution_count": 3,
     "metadata": {},
     "output_type": "execute_result"
    }
   ],
   "source": [
    "#load the data\n",
    "df = pd.read_csv('interval_features.csv')\n",
    "df.head()"
   ]
  },
  {
   "cell_type": "code",
   "execution_count": 4,
   "id": "04927e74",
   "metadata": {},
   "outputs": [],
   "source": [
    "#seperate input and output\n",
    "X,y = df.iloc[:, [4, 5, 7, 8, 9, 10]], df.iloc[:, 3]\n",
    "#m\\change outputs into numbers\n",
    "le = LabelEncoder()\n",
    "le.fit(y)\n",
    "y = le.transform(y)\n",
    "\n",
    "#seperate training and testing sets\n",
    "X_train, X_test, y_train, y_test = train_test_split(X, y, test_size=0.2)"
   ]
  },
  {
   "cell_type": "code",
   "execution_count": 5,
   "id": "42ab2dd4",
   "metadata": {},
   "outputs": [],
   "source": [
    "#create model\n",
    "model = Sequential()\n",
    "#add model layers\n",
    "model.add(Conv1D(8, kernel_size=4, strides=1, padding=\"same\", input_shape=(6, 1)))\n",
    "model.add(Activation(\"relu\"))\n",
    "model.add(Conv1D(16, kernel_size=6, strides=1, padding=\"same\"))\n",
    "model.add(Activation(\"relu\"))\n",
    "\n",
    "model.add(MaxPool1D(pool_size=2, strides=1, padding=\"same\"))\n",
    "\n",
    "model.add(Conv1D(8, kernel_size=6, strides=1, padding=\"same\"))\n",
    "model.add(Activation(\"relu\"))\n",
    "model.add(Conv1D(16, kernel_size=8, strides=1, padding=\"same\"))\n",
    "model.add(Activation(\"relu\"))\n",
    "\n",
    "model.add(MaxPool1D(pool_size=2, strides=1, padding=\"same\"))\n",
    "\n",
    "model.add(Conv1D(8, kernel_size=8, strides=1, padding=\"same\"))\n",
    "model.add(Activation(\"relu\"))\n",
    "model.add(Conv1D(16, kernel_size=10, strides=1, padding=\"same\"))\n",
    "model.add(Activation(\"relu\"))\n",
    "\n",
    "model.add(MaxPool1D(pool_size=2, strides=1, padding=\"same\"))\n",
    "\n",
    "model.add(Flatten())\n",
    "model.add(Dense(5, activation=\"softmax\"))\n"
   ]
  },
  {
   "cell_type": "code",
   "execution_count": 6,
   "id": "02e8130e",
   "metadata": {},
   "outputs": [],
   "source": [
    "#complie\n",
    "opt = optimizers.SGD(learning_rate=0.0001, momentum = 0.8)\n",
    "#opt = optimizers.RMSprop(learning_rate=0.01, momentum = 0.8)\n",
    "model.compile(opt, loss='sparse_categorical_crossentropy', metrics=['Accuracy'])"
   ]
  },
  {
   "cell_type": "code",
   "execution_count": 7,
   "id": "611a0678",
   "metadata": {},
   "outputs": [
    {
     "name": "stdout",
     "output_type": "stream",
     "text": [
      "Epoch 1/100\n",
      "199/199 - 1s - loss: 1.2606 - Accuracy: 0.7380 - val_loss: 1.5678 - val_Accuracy: 0.2695 - 995ms/epoch - 5ms/step\n",
      "Epoch 2/100\n",
      "199/199 - 0s - loss: 0.6641 - Accuracy: 0.7602 - val_loss: 2.3026 - val_Accuracy: 0.0311 - 470ms/epoch - 2ms/step\n",
      "Epoch 3/100\n",
      "199/199 - 0s - loss: 0.6013 - Accuracy: 0.7714 - val_loss: 1.5772 - val_Accuracy: 0.2015 - 478ms/epoch - 2ms/step\n",
      "Epoch 4/100\n",
      "199/199 - 0s - loss: 0.5761 - Accuracy: 0.7832 - val_loss: 1.8745 - val_Accuracy: 0.0695 - 455ms/epoch - 2ms/step\n",
      "Epoch 5/100\n",
      "199/199 - 0s - loss: 0.5605 - Accuracy: 0.7915 - val_loss: 1.7646 - val_Accuracy: 0.1458 - 453ms/epoch - 2ms/step\n",
      "Epoch 6/100\n",
      "199/199 - 0s - loss: 0.5518 - Accuracy: 0.7981 - val_loss: 1.9970 - val_Accuracy: 0.1870 - 461ms/epoch - 2ms/step\n",
      "Epoch 7/100\n",
      "199/199 - 0s - loss: 0.5514 - Accuracy: 0.8020 - val_loss: 1.2197 - val_Accuracy: 0.5558 - 450ms/epoch - 2ms/step\n",
      "Epoch 8/100\n",
      "199/199 - 0s - loss: 0.5269 - Accuracy: 0.8141 - val_loss: 1.2697 - val_Accuracy: 0.5379 - 456ms/epoch - 2ms/step\n",
      "Epoch 9/100\n",
      "199/199 - 0s - loss: 0.5212 - Accuracy: 0.8190 - val_loss: 1.3949 - val_Accuracy: 0.4379 - 451ms/epoch - 2ms/step\n",
      "Epoch 10/100\n",
      "199/199 - 0s - loss: 0.5137 - Accuracy: 0.8211 - val_loss: 2.5943 - val_Accuracy: 0.0842 - 450ms/epoch - 2ms/step\n",
      "Epoch 11/100\n",
      "199/199 - 0s - loss: 0.5041 - Accuracy: 0.8281 - val_loss: 1.9738 - val_Accuracy: 0.1547 - 454ms/epoch - 2ms/step\n",
      "Epoch 12/100\n",
      "199/199 - 0s - loss: 0.4960 - Accuracy: 0.8309 - val_loss: 1.0008 - val_Accuracy: 0.6118 - 452ms/epoch - 2ms/step\n",
      "Epoch 13/100\n",
      "199/199 - 0s - loss: 0.4875 - Accuracy: 0.8353 - val_loss: 1.6247 - val_Accuracy: 0.3598 - 447ms/epoch - 2ms/step\n",
      "Epoch 14/100\n",
      "199/199 - 0s - loss: 0.4893 - Accuracy: 0.8347 - val_loss: 1.2707 - val_Accuracy: 0.5429 - 459ms/epoch - 2ms/step\n",
      "Epoch 15/100\n",
      "199/199 - 0s - loss: 0.4825 - Accuracy: 0.8371 - val_loss: 1.7274 - val_Accuracy: 0.2673 - 445ms/epoch - 2ms/step\n",
      "Epoch 16/100\n",
      "199/199 - 0s - loss: 0.4753 - Accuracy: 0.8418 - val_loss: 1.9952 - val_Accuracy: 0.2816 - 449ms/epoch - 2ms/step\n",
      "Epoch 17/100\n",
      "199/199 - 0s - loss: 0.4711 - Accuracy: 0.8415 - val_loss: 1.6626 - val_Accuracy: 0.3305 - 455ms/epoch - 2ms/step\n",
      "Epoch 18/100\n",
      "199/199 - 0s - loss: 0.4675 - Accuracy: 0.8441 - val_loss: 1.3841 - val_Accuracy: 0.4842 - 446ms/epoch - 2ms/step\n",
      "Epoch 19/100\n",
      "199/199 - 0s - loss: 0.4634 - Accuracy: 0.8458 - val_loss: 1.6310 - val_Accuracy: 0.3957 - 454ms/epoch - 2ms/step\n",
      "Epoch 20/100\n",
      "199/199 - 0s - loss: 0.4596 - Accuracy: 0.8481 - val_loss: 1.0625 - val_Accuracy: 0.5655 - 458ms/epoch - 2ms/step\n",
      "Epoch 21/100\n",
      "199/199 - 0s - loss: 0.4622 - Accuracy: 0.8457 - val_loss: 1.2734 - val_Accuracy: 0.5324 - 474ms/epoch - 2ms/step\n",
      "Epoch 22/100\n",
      "199/199 - 0s - loss: 0.4542 - Accuracy: 0.8468 - val_loss: 1.6387 - val_Accuracy: 0.3396 - 470ms/epoch - 2ms/step\n",
      "Epoch 23/100\n",
      "199/199 - 1s - loss: 0.4504 - Accuracy: 0.8493 - val_loss: 1.4470 - val_Accuracy: 0.4523 - 514ms/epoch - 3ms/step\n",
      "Epoch 24/100\n",
      "199/199 - 0s - loss: 0.4399 - Accuracy: 0.8544 - val_loss: 1.9102 - val_Accuracy: 0.2903 - 454ms/epoch - 2ms/step\n",
      "Epoch 25/100\n",
      "199/199 - 0s - loss: 0.4424 - Accuracy: 0.8520 - val_loss: 1.2853 - val_Accuracy: 0.5338 - 451ms/epoch - 2ms/step\n",
      "Epoch 26/100\n",
      "199/199 - 0s - loss: 0.4377 - Accuracy: 0.8536 - val_loss: 1.2695 - val_Accuracy: 0.4951 - 450ms/epoch - 2ms/step\n",
      "Epoch 27/100\n",
      "199/199 - 0s - loss: 0.4313 - Accuracy: 0.8549 - val_loss: 1.9557 - val_Accuracy: 0.2639 - 480ms/epoch - 2ms/step\n",
      "Epoch 28/100\n",
      "199/199 - 0s - loss: 0.4313 - Accuracy: 0.8551 - val_loss: 1.5588 - val_Accuracy: 0.3925 - 480ms/epoch - 2ms/step\n",
      "Epoch 29/100\n",
      "199/199 - 1s - loss: 0.4241 - Accuracy: 0.8565 - val_loss: 1.3994 - val_Accuracy: 0.4787 - 508ms/epoch - 3ms/step\n",
      "Epoch 30/100\n",
      "199/199 - 0s - loss: 0.4246 - Accuracy: 0.8576 - val_loss: 1.2873 - val_Accuracy: 0.5179 - 466ms/epoch - 2ms/step\n",
      "Epoch 31/100\n",
      "199/199 - 0s - loss: 0.4238 - Accuracy: 0.8560 - val_loss: 1.2543 - val_Accuracy: 0.5261 - 474ms/epoch - 2ms/step\n",
      "Epoch 32/100\n",
      "199/199 - 0s - loss: 0.4246 - Accuracy: 0.8567 - val_loss: 1.9364 - val_Accuracy: 0.2891 - 484ms/epoch - 2ms/step\n",
      "Epoch 33/100\n",
      "199/199 - 0s - loss: 0.4210 - Accuracy: 0.8572 - val_loss: 1.1531 - val_Accuracy: 0.5679 - 485ms/epoch - 2ms/step\n",
      "Epoch 34/100\n",
      "199/199 - 0s - loss: 0.4188 - Accuracy: 0.8565 - val_loss: 1.0330 - val_Accuracy: 0.6031 - 463ms/epoch - 2ms/step\n",
      "Epoch 35/100\n",
      "199/199 - 0s - loss: 0.4152 - Accuracy: 0.8604 - val_loss: 0.8767 - val_Accuracy: 0.6749 - 458ms/epoch - 2ms/step\n",
      "Epoch 36/100\n",
      "199/199 - 0s - loss: 0.4096 - Accuracy: 0.8618 - val_loss: 0.9077 - val_Accuracy: 0.6552 - 454ms/epoch - 2ms/step\n",
      "Epoch 37/100\n",
      "199/199 - 0s - loss: 0.4130 - Accuracy: 0.8582 - val_loss: 1.4028 - val_Accuracy: 0.4690 - 453ms/epoch - 2ms/step\n",
      "Epoch 38/100\n",
      "199/199 - 0s - loss: 0.4027 - Accuracy: 0.8634 - val_loss: 1.3066 - val_Accuracy: 0.5138 - 467ms/epoch - 2ms/step\n",
      "Epoch 39/100\n",
      "199/199 - 0s - loss: 0.4108 - Accuracy: 0.8612 - val_loss: 1.4666 - val_Accuracy: 0.4656 - 456ms/epoch - 2ms/step\n",
      "Epoch 40/100\n",
      "199/199 - 0s - loss: 0.4058 - Accuracy: 0.8628 - val_loss: 1.6643 - val_Accuracy: 0.3753 - 454ms/epoch - 2ms/step\n",
      "Epoch 41/100\n",
      "199/199 - 0s - loss: 0.4043 - Accuracy: 0.8623 - val_loss: 1.4119 - val_Accuracy: 0.4902 - 474ms/epoch - 2ms/step\n",
      "Epoch 42/100\n",
      "199/199 - 0s - loss: 0.3973 - Accuracy: 0.8667 - val_loss: 1.1072 - val_Accuracy: 0.5732 - 462ms/epoch - 2ms/step\n",
      "Epoch 43/100\n",
      "199/199 - 0s - loss: 0.4033 - Accuracy: 0.8618 - val_loss: 1.3548 - val_Accuracy: 0.4963 - 451ms/epoch - 2ms/step\n",
      "Epoch 44/100\n",
      "199/199 - 0s - loss: 0.3947 - Accuracy: 0.8666 - val_loss: 1.4526 - val_Accuracy: 0.4535 - 467ms/epoch - 2ms/step\n",
      "Epoch 45/100\n",
      "199/199 - 0s - loss: 0.3949 - Accuracy: 0.8666 - val_loss: 1.3242 - val_Accuracy: 0.5108 - 451ms/epoch - 2ms/step\n",
      "Epoch 46/100\n",
      "199/199 - 0s - loss: 0.3927 - Accuracy: 0.8661 - val_loss: 1.0384 - val_Accuracy: 0.5609 - 463ms/epoch - 2ms/step\n",
      "Epoch 47/100\n",
      "199/199 - 0s - loss: 0.3940 - Accuracy: 0.8662 - val_loss: 1.3044 - val_Accuracy: 0.5120 - 452ms/epoch - 2ms/step\n",
      "Epoch 48/100\n",
      "199/199 - 0s - loss: 0.3927 - Accuracy: 0.8656 - val_loss: 0.9638 - val_Accuracy: 0.6384 - 461ms/epoch - 2ms/step\n",
      "Epoch 49/100\n",
      "199/199 - 0s - loss: 0.3950 - Accuracy: 0.8654 - val_loss: 1.5542 - val_Accuracy: 0.4204 - 463ms/epoch - 2ms/step\n",
      "Epoch 50/100\n",
      "199/199 - 0s - loss: 0.3915 - Accuracy: 0.8660 - val_loss: 0.9938 - val_Accuracy: 0.6269 - 474ms/epoch - 2ms/step\n",
      "Epoch 51/100\n",
      "199/199 - 0s - loss: 0.3886 - Accuracy: 0.8685 - val_loss: 1.0522 - val_Accuracy: 0.6031 - 458ms/epoch - 2ms/step\n",
      "Epoch 52/100\n",
      "199/199 - 0s - loss: 0.3847 - Accuracy: 0.8691 - val_loss: 1.1122 - val_Accuracy: 0.5758 - 476ms/epoch - 2ms/step\n",
      "Epoch 53/100\n",
      "199/199 - 0s - loss: 0.3848 - Accuracy: 0.8675 - val_loss: 1.1559 - val_Accuracy: 0.5548 - 475ms/epoch - 2ms/step\n",
      "Epoch 54/100\n",
      "199/199 - 0s - loss: 0.3845 - Accuracy: 0.8689 - val_loss: 1.3099 - val_Accuracy: 0.5221 - 454ms/epoch - 2ms/step\n",
      "Epoch 55/100\n",
      "199/199 - 0s - loss: 0.3830 - Accuracy: 0.8701 - val_loss: 1.7833 - val_Accuracy: 0.3822 - 461ms/epoch - 2ms/step\n",
      "Epoch 56/100\n",
      "199/199 - 0s - loss: 0.3782 - Accuracy: 0.8718 - val_loss: 0.9988 - val_Accuracy: 0.6216 - 453ms/epoch - 2ms/step\n",
      "Epoch 57/100\n",
      "199/199 - 0s - loss: 0.3773 - Accuracy: 0.8710 - val_loss: 0.9801 - val_Accuracy: 0.6295 - 467ms/epoch - 2ms/step\n",
      "Epoch 58/100\n",
      "199/199 - 0s - loss: 0.3744 - Accuracy: 0.8731 - val_loss: 1.3755 - val_Accuracy: 0.4900 - 463ms/epoch - 2ms/step\n",
      "Epoch 59/100\n",
      "199/199 - 0s - loss: 0.3744 - Accuracy: 0.8717 - val_loss: 1.1289 - val_Accuracy: 0.5801 - 458ms/epoch - 2ms/step\n",
      "Epoch 60/100\n",
      "199/199 - 0s - loss: 0.3719 - Accuracy: 0.8744 - val_loss: 1.6938 - val_Accuracy: 0.3856 - 466ms/epoch - 2ms/step\n",
      "Epoch 61/100\n",
      "199/199 - 0s - loss: 0.3681 - Accuracy: 0.8758 - val_loss: 1.2390 - val_Accuracy: 0.5484 - 449ms/epoch - 2ms/step\n",
      "Epoch 62/100\n",
      "199/199 - 0s - loss: 0.3768 - Accuracy: 0.8724 - val_loss: 1.1661 - val_Accuracy: 0.5578 - 448ms/epoch - 2ms/step\n",
      "Epoch 63/100\n",
      "199/199 - 0s - loss: 0.3682 - Accuracy: 0.8752 - val_loss: 0.8240 - val_Accuracy: 0.6729 - 475ms/epoch - 2ms/step\n",
      "Epoch 64/100\n",
      "199/199 - 0s - loss: 0.3677 - Accuracy: 0.8754 - val_loss: 1.4208 - val_Accuracy: 0.4732 - 465ms/epoch - 2ms/step\n",
      "Epoch 65/100\n",
      "199/199 - 0s - loss: 0.3625 - Accuracy: 0.8768 - val_loss: 1.1296 - val_Accuracy: 0.5574 - 451ms/epoch - 2ms/step\n"
     ]
    },
    {
     "name": "stdout",
     "output_type": "stream",
     "text": [
      "Epoch 66/100\n",
      "199/199 - 0s - loss: 0.3636 - Accuracy: 0.8754 - val_loss: 1.4823 - val_Accuracy: 0.4690 - 467ms/epoch - 2ms/step\n",
      "Epoch 67/100\n",
      "199/199 - 0s - loss: 0.3639 - Accuracy: 0.8745 - val_loss: 0.9456 - val_Accuracy: 0.6241 - 460ms/epoch - 2ms/step\n",
      "Epoch 68/100\n",
      "199/199 - 0s - loss: 0.3632 - Accuracy: 0.8737 - val_loss: 1.0034 - val_Accuracy: 0.6138 - 451ms/epoch - 2ms/step\n",
      "Epoch 69/100\n",
      "199/199 - 0s - loss: 0.3610 - Accuracy: 0.8759 - val_loss: 1.1011 - val_Accuracy: 0.5857 - 489ms/epoch - 2ms/step\n",
      "Epoch 70/100\n",
      "199/199 - 0s - loss: 0.3616 - Accuracy: 0.8762 - val_loss: 0.9485 - val_Accuracy: 0.6366 - 474ms/epoch - 2ms/step\n",
      "Epoch 71/100\n",
      "199/199 - 0s - loss: 0.3656 - Accuracy: 0.8742 - val_loss: 1.0816 - val_Accuracy: 0.5950 - 454ms/epoch - 2ms/step\n",
      "Epoch 72/100\n",
      "199/199 - 0s - loss: 0.3580 - Accuracy: 0.8766 - val_loss: 1.1759 - val_Accuracy: 0.5597 - 482ms/epoch - 2ms/step\n",
      "Epoch 73/100\n",
      "199/199 - 0s - loss: 0.3544 - Accuracy: 0.8790 - val_loss: 0.8290 - val_Accuracy: 0.6800 - 462ms/epoch - 2ms/step\n",
      "Epoch 74/100\n",
      "199/199 - 0s - loss: 0.3562 - Accuracy: 0.8771 - val_loss: 1.0899 - val_Accuracy: 0.5865 - 475ms/epoch - 2ms/step\n",
      "Epoch 75/100\n",
      "199/199 - 0s - loss: 0.3548 - Accuracy: 0.8780 - val_loss: 1.4136 - val_Accuracy: 0.4894 - 498ms/epoch - 3ms/step\n",
      "Epoch 76/100\n",
      "199/199 - 0s - loss: 0.3503 - Accuracy: 0.8807 - val_loss: 0.8371 - val_Accuracy: 0.6677 - 459ms/epoch - 2ms/step\n",
      "Epoch 77/100\n",
      "199/199 - 0s - loss: 0.3542 - Accuracy: 0.8794 - val_loss: 1.2764 - val_Accuracy: 0.5391 - 474ms/epoch - 2ms/step\n",
      "Epoch 78/100\n",
      "199/199 - 0s - loss: 0.3572 - Accuracy: 0.8771 - val_loss: 1.0127 - val_Accuracy: 0.6186 - 468ms/epoch - 2ms/step\n",
      "Epoch 79/100\n",
      "199/199 - 0s - loss: 0.3448 - Accuracy: 0.8811 - val_loss: 1.2442 - val_Accuracy: 0.5314 - 467ms/epoch - 2ms/step\n",
      "Epoch 80/100\n",
      "199/199 - 0s - loss: 0.3480 - Accuracy: 0.8787 - val_loss: 0.8454 - val_Accuracy: 0.6723 - 455ms/epoch - 2ms/step\n",
      "Epoch 81/100\n",
      "199/199 - 0s - loss: 0.3494 - Accuracy: 0.8804 - val_loss: 1.1412 - val_Accuracy: 0.5742 - 455ms/epoch - 2ms/step\n",
      "Epoch 82/100\n",
      "199/199 - 0s - loss: 0.3440 - Accuracy: 0.8831 - val_loss: 0.8799 - val_Accuracy: 0.6529 - 448ms/epoch - 2ms/step\n",
      "Epoch 83/100\n",
      "199/199 - 0s - loss: 0.3388 - Accuracy: 0.8835 - val_loss: 0.9772 - val_Accuracy: 0.6305 - 446ms/epoch - 2ms/step\n",
      "Epoch 84/100\n",
      "199/199 - 0s - loss: 0.3387 - Accuracy: 0.8833 - val_loss: 0.8510 - val_Accuracy: 0.6723 - 455ms/epoch - 2ms/step\n",
      "Epoch 85/100\n",
      "199/199 - 0s - loss: 0.3385 - Accuracy: 0.8835 - val_loss: 1.8084 - val_Accuracy: 0.3537 - 446ms/epoch - 2ms/step\n",
      "Epoch 86/100\n",
      "199/199 - 0s - loss: 0.3428 - Accuracy: 0.8837 - val_loss: 0.9660 - val_Accuracy: 0.6350 - 442ms/epoch - 2ms/step\n",
      "Epoch 87/100\n",
      "199/199 - 0s - loss: 0.3403 - Accuracy: 0.8830 - val_loss: 0.9270 - val_Accuracy: 0.6410 - 457ms/epoch - 2ms/step\n",
      "Epoch 88/100\n",
      "199/199 - 0s - loss: 0.3362 - Accuracy: 0.8854 - val_loss: 1.1093 - val_Accuracy: 0.5702 - 446ms/epoch - 2ms/step\n",
      "Epoch 89/100\n",
      "199/199 - 0s - loss: 0.3383 - Accuracy: 0.8834 - val_loss: 0.8730 - val_Accuracy: 0.6719 - 465ms/epoch - 2ms/step\n",
      "Epoch 90/100\n",
      "199/199 - 0s - loss: 0.3327 - Accuracy: 0.8868 - val_loss: 0.9257 - val_Accuracy: 0.6392 - 493ms/epoch - 2ms/step\n",
      "Epoch 91/100\n",
      "199/199 - 0s - loss: 0.3356 - Accuracy: 0.8847 - val_loss: 1.0856 - val_Accuracy: 0.6027 - 471ms/epoch - 2ms/step\n",
      "Epoch 92/100\n",
      "199/199 - 0s - loss: 0.3361 - Accuracy: 0.8850 - val_loss: 1.2478 - val_Accuracy: 0.5413 - 484ms/epoch - 2ms/step\n",
      "Epoch 93/100\n",
      "199/199 - 1s - loss: 0.3325 - Accuracy: 0.8867 - val_loss: 0.9682 - val_Accuracy: 0.6283 - 551ms/epoch - 3ms/step\n",
      "Epoch 94/100\n",
      "199/199 - 1s - loss: 0.3331 - Accuracy: 0.8860 - val_loss: 1.1017 - val_Accuracy: 0.5718 - 508ms/epoch - 3ms/step\n",
      "Epoch 95/100\n",
      "199/199 - 1s - loss: 0.3273 - Accuracy: 0.8885 - val_loss: 1.2036 - val_Accuracy: 0.5433 - 530ms/epoch - 3ms/step\n",
      "Epoch 96/100\n",
      "199/199 - 1s - loss: 0.3333 - Accuracy: 0.8853 - val_loss: 0.7884 - val_Accuracy: 0.7026 - 505ms/epoch - 3ms/step\n",
      "Epoch 97/100\n",
      "199/199 - 1s - loss: 0.3350 - Accuracy: 0.8841 - val_loss: 0.8643 - val_Accuracy: 0.6808 - 519ms/epoch - 3ms/step\n",
      "Epoch 98/100\n",
      "199/199 - 1s - loss: 0.3291 - Accuracy: 0.8878 - val_loss: 0.9402 - val_Accuracy: 0.6523 - 504ms/epoch - 3ms/step\n",
      "Epoch 99/100\n",
      "199/199 - 0s - loss: 0.3247 - Accuracy: 0.8902 - val_loss: 1.3437 - val_Accuracy: 0.4987 - 492ms/epoch - 2ms/step\n",
      "Epoch 100/100\n",
      "199/199 - 0s - loss: 0.3277 - Accuracy: 0.8881 - val_loss: 0.8869 - val_Accuracy: 0.6576 - 469ms/epoch - 2ms/step\n"
     ]
    }
   ],
   "source": [
    "#fit the model\n",
    "history = model.fit(X, y, epochs=100, validation_split = 0.2, batch_size=100, verbose=2)"
   ]
  },
  {
   "cell_type": "code",
   "execution_count": 8,
   "id": "92755c38",
   "metadata": {},
   "outputs": [
    {
     "name": "stdout",
     "output_type": "stream",
     "text": [
      "774/774 [==============================] - 1s 688us/step - loss: 0.4302 - Accuracy: 0.8446\n"
     ]
    }
   ],
   "source": [
    "# evaluate the model\n",
    "loss = model.evaluate(X, y, verbose=True)"
   ]
  },
  {
   "cell_type": "code",
   "execution_count": 9,
   "id": "894f8392",
   "metadata": {},
   "outputs": [
    {
     "name": "stdout",
     "output_type": "stream",
     "text": [
      "[[7.2534232e-07 9.9742955e-01 1.4710499e-05 4.3315184e-05 2.5117365e-03]\n",
      " [8.5451283e-02 4.6945161e-01 3.1114490e-05 6.7128710e-02 3.7793729e-01]\n",
      " [5.6803829e-06 9.9122030e-01 2.8815388e-03 1.0572627e-04 5.7867398e-03]\n",
      " ...\n",
      " [6.2767783e-04 3.1633076e-01 1.6995365e-02 3.5378236e-01 3.1226382e-01]\n",
      " [4.7044556e-05 9.5570773e-02 5.5204048e-03 3.1259630e-02 8.6760211e-01]\n",
      " [2.4082515e-04 2.8474912e-01 2.5079434e-03 5.6513178e-01 1.4737031e-01]]\n"
     ]
    }
   ],
   "source": [
    "prediction = model.predict(X_test)\n",
    "print(prediction)"
   ]
  },
  {
   "cell_type": "code",
   "execution_count": 10,
   "id": "36e930f2",
   "metadata": {
    "scrolled": true
   },
   "outputs": [
    {
     "name": "stdout",
     "output_type": "stream",
     "text": [
      "[[  15  110    0    1   29]\n",
      " [   4 2838   61   24   52]\n",
      " [   0  174  568   12    2]\n",
      " [   0  104   15  277   77]\n",
      " [  11  120    8   16  435]]\n"
     ]
    }
   ],
   "source": [
    "y_pred=np.argmax(prediction, axis=1)\n",
    "cm=confusion_matrix(y_test, y_pred)\n",
    "print(cm)"
   ]
  },
  {
   "cell_type": "code",
   "execution_count": 11,
   "id": "ed36ab35",
   "metadata": {},
   "outputs": [
    {
     "name": "stdout",
     "output_type": "stream",
     "text": [
      "dict_keys(['loss', 'Accuracy', 'val_loss', 'val_Accuracy'])\n"
     ]
    }
   ],
   "source": [
    "print(history.history.keys())"
   ]
  },
  {
   "cell_type": "code",
   "execution_count": 12,
   "id": "435db677",
   "metadata": {},
   "outputs": [
    {
     "data": {
      "image/png": "[encoded data removed]",
      "text/plain": [
       "<Figure size 432x288 with 1 Axes>"
      ]
     },
     "metadata": {
      "needs_background": "light"
     },
     "output_type": "display_data"
    }
   ],
   "source": [
    "plt.plot(history.history['Accuracy'])\n",
    "plt.plot(history.history['val_Accuracy'])\n",
    "plt.title('model accuracy')\n",
    "plt.ylabel('accuracy')\n",
    "plt.xlabel('epoch')\n",
    "plt.legend(['train', 'test'], loc='upper left')\n",
    "plt.show()"
   ]
  },
  {
   "cell_type": "code",
   "execution_count": 13,
   "id": "2b2d455e",
   "metadata": {},
   "outputs": [
    {
     "data": {
      "image/png": "[encoded data removed]",
      "text/plain": [
       "<Figure size 432x288 with 1 Axes>"
      ]
     },
     "metadata": {
      "needs_background": "light"
     },
     "output_type": "display_data"
    }
   ],
   "source": [
    "plt.plot(history.history['loss'])\n",
    "plt.plot(history.history['val_loss'])\n",
    "plt.title('model loss')\n",
    "plt.ylabel('loss')\n",
    "plt.xlabel('epoch')\n",
    "plt.legend(['train', 'test'], loc='upper left')\n",
    "plt.show()"
   ]
  },
  {
   "cell_type": "code",
   "execution_count": null,
   "id": "5414d644",
   "metadata": {},
   "outputs": [],
   "source": []
  }
 ],
 "metadata": {
  "kernelspec": {
   "display_name": "Python 3 (ipykernel)",
   "language": "python",
   "name": "python3"
  },
  "language_info": {
   "codemirror_mode": {
    "name": "ipython",
    "version": 3
   },
   "file_extension": ".py",
   "mimetype": "text/x-python",
   "name": "python",
   "nbconvert_exporter": "python",
   "pygments_lexer": "ipython3",
   "version": "3.9.7"
  }
 },
 "nbformat": 4,
 "nbformat_minor": 5
}
