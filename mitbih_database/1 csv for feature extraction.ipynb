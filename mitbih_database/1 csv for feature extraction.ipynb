{
 "cells": [
  {
   "cell_type": "code",
   "execution_count": 155,
   "id": "86daaf4c",
   "metadata": {},
   "outputs": [],
   "source": [
    "#imports\n",
    "import numpy as np\n",
    "import pandas as pd\n",
    "import csv\n",
    "%run Functions.ipynb"
   ]
  },
  {
   "cell_type": "code",
   "execution_count": 156,
   "id": "fc3472de",
   "metadata": {},
   "outputs": [],
   "source": [
    "#create list with file numbers\n",
    "AnnotatedFileNames=[*range(100,110)]+[*range(111,120)]+[*range(121,125)]+[*range(200,204)]+[205]+[*range(207,211)]+[*range(212,235)]"
   ]
  },
  {
   "cell_type": "code",
   "execution_count": 157,
   "id": "5b4a430d",
   "metadata": {},
   "outputs": [],
   "source": [
    "AnnotatedFileNames=[*range(100,125)]+[*range(200,235)]\n",
    "remove=[110,120,204,206,211,216,218,224,225,226,227,229]\n",
    "for i in remove:\n",
    "    AnnotatedFileNames.remove(i)"
   ]
  },
  {
   "cell_type": "code",
   "execution_count": 158,
   "id": "a2bb77ca",
   "metadata": {},
   "outputs": [],
   "source": [
    "training = pd.DataFrame(columns = ['File','Result', 'Sample#', 'Feature1', 'Feature2', 'More Features'] )\n",
    "\n",
    "\n",
    "for i in AnnotatedFileNames:\n",
    "    temp= pd.DataFrame(columns = ['File','Result', 'Sample#', 'Feature1', 'Feature2', 'More Features'] )\n",
    "\n",
    "    FileName = str(i)+'annotations.txt'\n",
    "    df = pd.read_csv(FileName)\n",
    "    annotations = mlbeats.df_from_txt(FileName)\n",
    "    temp['Sample#']=annotations['Sample#']\n",
    "    temp['Result']=annotations['Result']\n",
    "    temp['File']=FileName\n",
    "    training = pd.concat([training, temp], axis=0)\n",
    "\n",
    "\n",
    "training.to_csv('training')"
   ]
  },
  {
   "cell_type": "code",
   "execution_count": null,
   "id": "772825f8",
   "metadata": {},
   "outputs": [],
   "source": []
  }
 ],
 "metadata": {
  "kernelspec": {
   "display_name": "Python 3",
   "language": "python",
   "name": "python3"
  },
  "language_info": {
   "codemirror_mode": {
    "name": "ipython",
    "version": 3
   },
   "file_extension": ".py",
   "mimetype": "text/x-python",
   "name": "python",
   "nbconvert_exporter": "python",
   "pygments_lexer": "ipython3",
   "version": "3.8.8"
  }
 },
 "nbformat": 4,
 "nbformat_minor": 5
}
