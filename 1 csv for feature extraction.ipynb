{
 "cells": [
  {
   "cell_type": "code",
   "execution_count": 6,
   "id": "86daaf4c",
   "metadata": {},
   "outputs": [],
   "source": [
    "#imports\n",
    "import numpy as np\n",
    "import pandas as pd\n",
    "import csv\n",
    "%run Functions.ipynb"
   ]
  },
  {
   "cell_type": "code",
   "execution_count": 7,
   "id": "fc3472de",
   "metadata": {},
   "outputs": [],
   "source": [
    "#create list with file numbers\n",
    "AnnotatedFileNames=[*range(100,110)]+[*range(111,120)]+[*range(121,125)]+[*range(200,204)]+[205]+[*range(207,211)]+[*range(212,235)]"
   ]
  },
  {
   "cell_type": "code",
   "execution_count": 8,
   "id": "3bc8ac64",
   "metadata": {},
   "outputs": [],
   "source": [
    "AnnotatedFileNames=[*range(100,125)]+[*range(200,235)]\n",
    "remove=[110,120,204,206,211,216,218,224,225,226,227,229]\n",
    "for i in remove:\n",
    "    AnnotatedFileNames.remove(i)"
   ]
  },
  {
   "cell_type": "code",
   "execution_count": 11,
   "id": "a2bb77ca",
   "metadata": {
    "scrolled": true
   },
   "outputs": [],
   "source": [
    "training = pd.DataFrame(columns = ['File','Result', 'Sample#', 'R wave height', 'Feature2', 'More Features'] )\n",
    "\n",
    "\n",
    "for i in AnnotatedFileNames:\n",
    "    \n",
    "    temp= pd.DataFrame(columns = ['File','Result', 'Sample#', 'R wave height', 'Feature2', 'More Features'] )\n",
    "\n",
    "    FileName =\"mitbih_database/\" + str(i)+'annotations.txt'\n",
    "    annotations = mlbeats.df_from_txt(FileName)\n",
    "    temp['Sample#']=annotations['Sample#']\n",
    "    temp['Result']=annotations['Result']\n",
    "    temp['File']= i\n",
    "    \n",
    "    ECG = pd.read_csv(\"mitbih_database/\"+str(i)+\".csv\")\n",
    "    #heart beat heights\n",
    "    Samples= np.array(annotations['Sample#']).astype(int)\n",
    "    \n",
    "    d= np.array(ECG.columns[1])\n",
    "    \n",
    "    \n",
    "    HBH=[ECG[d][i] for i in Samples]\n",
    "\n",
    "    temp['R wave height']=HBH\n",
    "    \n",
    "    \n",
    "    \n",
    "    \n",
    "    \n",
    "    \n",
    "    \n",
    "    training = pd.concat([training, temp], axis=0)\n",
    "\n",
    "\n",
    "training.to_csv('training.csv')"
   ]
  },
  {
   "cell_type": "code",
   "execution_count": null,
   "id": "77d57618",
   "metadata": {},
   "outputs": [],
   "source": []
  }
 ],
 "metadata": {
  "kernelspec": {
   "display_name": "Python 3 (ipykernel)",
   "language": "python",
   "name": "python3"
  },
  "language_info": {
   "codemirror_mode": {
    "name": "ipython",
    "version": 3
   },
   "file_extension": ".py",
   "mimetype": "text/x-python",
   "name": "python",
   "nbconvert_exporter": "python",
   "pygments_lexer": "ipython3",
   "version": "3.9.7"
  }
 },
 "nbformat": 4,
 "nbformat_minor": 5
}
