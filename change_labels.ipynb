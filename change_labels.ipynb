{
 "cells": [
  {
   "cell_type": "code",
   "execution_count": 8,
   "id": "2afafc55",
   "metadata": {},
   "outputs": [],
   "source": [
    "import mlbeats\n",
    "import pandas as pd\n",
    "import numpy as np\n",
    "#import neurokit2 as nk\n",
    "import matplotlib.pyplot as plt"
   ]
  },
  {
   "cell_type": "code",
   "execution_count": 9,
   "id": "5abeba48",
   "metadata": {},
   "outputs": [
    {
     "data": {
      "text/html": [
       "<div>\n",
       "<style scoped>\n",
       "    .dataframe tbody tr th:only-of-type {\n",
       "        vertical-align: middle;\n",
       "    }\n",
       "\n",
       "    .dataframe tbody tr th {\n",
       "        vertical-align: top;\n",
       "    }\n",
       "\n",
       "    .dataframe thead th {\n",
       "        text-align: right;\n",
       "    }\n",
       "</style>\n",
       "<table border=\"1\" class=\"dataframe\">\n",
       "  <thead>\n",
       "    <tr style=\"text-align: right;\">\n",
       "      <th></th>\n",
       "      <th>File</th>\n",
       "      <th>Abnormal</th>\n",
       "      <th>Result</th>\n",
       "      <th>R-R Interval</th>\n",
       "      <th>R Height</th>\n",
       "      <th>R_Onset-Rpeak</th>\n",
       "      <th>Q-Q Interval</th>\n",
       "      <th>Q Height</th>\n",
       "      <th>P_Onset-P_Offset</th>\n",
       "      <th>P Height</th>\n",
       "      <th>P-P Interval</th>\n",
       "      <th>P_Onset-Ppeak</th>\n",
       "    </tr>\n",
       "  </thead>\n",
       "  <tbody>\n",
       "    <tr>\n",
       "      <th>0</th>\n",
       "      <td>100</td>\n",
       "      <td>0</td>\n",
       "      <td>N</td>\n",
       "      <td>0</td>\n",
       "      <td>1212</td>\n",
       "      <td>20</td>\n",
       "      <td>0</td>\n",
       "      <td>922</td>\n",
       "      <td>44</td>\n",
       "      <td>983</td>\n",
       "      <td>0</td>\n",
       "      <td>15</td>\n",
       "    </tr>\n",
       "    <tr>\n",
       "      <th>1</th>\n",
       "      <td>100</td>\n",
       "      <td>0</td>\n",
       "      <td>N</td>\n",
       "      <td>292</td>\n",
       "      <td>1201</td>\n",
       "      <td>18</td>\n",
       "      <td>293</td>\n",
       "      <td>920</td>\n",
       "      <td>24</td>\n",
       "      <td>981</td>\n",
       "      <td>294</td>\n",
       "      <td>17</td>\n",
       "    </tr>\n",
       "    <tr>\n",
       "      <th>2</th>\n",
       "      <td>100</td>\n",
       "      <td>0</td>\n",
       "      <td>N</td>\n",
       "      <td>284</td>\n",
       "      <td>1186</td>\n",
       "      <td>21</td>\n",
       "      <td>284</td>\n",
       "      <td>895</td>\n",
       "      <td>27</td>\n",
       "      <td>975</td>\n",
       "      <td>281</td>\n",
       "      <td>21</td>\n",
       "    </tr>\n",
       "    <tr>\n",
       "      <th>3</th>\n",
       "      <td>100</td>\n",
       "      <td>0</td>\n",
       "      <td>N</td>\n",
       "      <td>285</td>\n",
       "      <td>1188</td>\n",
       "      <td>18</td>\n",
       "      <td>285</td>\n",
       "      <td>921</td>\n",
       "      <td>61</td>\n",
       "      <td>973</td>\n",
       "      <td>284</td>\n",
       "      <td>27</td>\n",
       "    </tr>\n",
       "    <tr>\n",
       "      <th>4</th>\n",
       "      <td>100</td>\n",
       "      <td>0</td>\n",
       "      <td>N</td>\n",
       "      <td>284</td>\n",
       "      <td>1201</td>\n",
       "      <td>20</td>\n",
       "      <td>284</td>\n",
       "      <td>915</td>\n",
       "      <td>18</td>\n",
       "      <td>974</td>\n",
       "      <td>294</td>\n",
       "      <td>4</td>\n",
       "    </tr>\n",
       "  </tbody>\n",
       "</table>\n",
       "</div>"
      ],
      "text/plain": [
       "   File  Abnormal Result  R-R Interval  R Height  R_Onset-Rpeak  Q-Q Interval  \\\n",
       "0   100         0      N             0      1212             20             0   \n",
       "1   100         0      N           292      1201             18           293   \n",
       "2   100         0      N           284      1186             21           284   \n",
       "3   100         0      N           285      1188             18           285   \n",
       "4   100         0      N           284      1201             20           284   \n",
       "\n",
       "   Q Height  P_Onset-P_Offset  P Height  P-P Interval  P_Onset-Ppeak  \n",
       "0       922                44       983             0             15  \n",
       "1       920                24       981           294             17  \n",
       "2       895                27       975           281             21  \n",
       "3       921                61       973           284             27  \n",
       "4       915                18       974           294              4  "
      ]
     },
     "execution_count": 9,
     "metadata": {},
     "output_type": "execute_result"
    }
   ],
   "source": [
    "#load the large file\n",
    "\n",
    "df = pd.read_csv(\"interval_features.csv\")\n",
    "df=df.iloc[:, 1:]\n",
    "df.head()"
   ]
  },
  {
   "cell_type": "code",
   "execution_count": null,
   "id": "5051f8d6",
   "metadata": {},
   "outputs": [],
   "source": [
    "def get_labels(i):\n",
    "    filename = \"mitbih_database/\"+str(i)+\"annotations.txt\"\n",
    "    data = []\n",
    "    with open(filename, 'r') as data_file:\n",
    "        for line in data_file:\n",
    "            item=line.split()\n",
    "            if len(item)==7:\n",
    "                item[2]=item[-1]\n",
    "                item=item[0:7]\n",
    "                data.append(item[2:3])\n",
    "            else:\n",
    "                data.append(item[2:3])\n",
    "    annotations=pd.DataFrame(data[2:], columns=[\"Result\"]) #remember the first beat is dropped\n",
    "    return annotations"
   ]
  },
  {
   "cell_type": "code",
   "execution_count": null,
   "id": "a2a75882",
   "metadata": {},
   "outputs": [],
   "source": [
    "def loop_over_file_getlables(filenumber):\n",
    "    df = pd.read_csv(\"testFeatures.csv\", 'r')\n",
    "    labels=pd.DataFrame()\n",
    "    for i in filenumber:\n",
    "        labels=pd.concat([labels,get_labels(i)])\n",
    "    return labels"
   ]
  },
  {
   "cell_type": "code",
   "execution_count": null,
   "id": "67e6fc40",
   "metadata": {},
   "outputs": [],
   "source": [
    "filenumber=[*range(100,125)]+[*range(200,235)]\n",
    "remove=[110,120,204,206,211,216,218,224,225,226,227,229]\n",
    "for i in remove:\n",
    "    filenumber.remove(i)\n",
    "print(filenumber)"
   ]
  },
  {
   "cell_type": "code",
   "execution_count": null,
   "id": "44b2276c",
   "metadata": {
    "scrolled": true
   },
   "outputs": [],
   "source": [
    "labels=loop_over_file_getlables(filenumber)\n",
    "labels.head()"
   ]
  },
  {
   "cell_type": "code",
   "execution_count": 10,
   "id": "e1adcf7f",
   "metadata": {},
   "outputs": [],
   "source": [
    "#change label\n",
    "labels = df[\"Result\"]\n",
    "#pd.DataFrame(labels).to_csv('labels.csv')"
   ]
  },
  {
   "cell_type": "code",
   "execution_count": 11,
   "id": "c52e7c30",
   "metadata": {},
   "outputs": [],
   "source": [
    "#code for changing labels based on AAMI\n",
    "labels = labels.to_numpy()\n",
    "S = {\"A\", \"a\", \"J\", \"S\"}\n",
    "N = {\"N\", \"L\", \"R\", \"e\", \"j\"}\n",
    "V = {\"V\", \"E\"}\n",
    "F = {\"F\"}\n",
    "Q = {\"/\", \"f\", \"Q\"}\n",
    "for i in range(len(labels)):\n",
    "    if labels[i] in N:\n",
    "        labels[i] = \"N\"\n",
    "    elif labels[i] in S:\n",
    "        labels[i] = \"S\"\n",
    "    elif labels[i] in V:\n",
    "        labels[i] = \"V\"\n",
    "    elif labels[i] in F:\n",
    "        labels[i] = \"F\"\n",
    "    elif labels[i] in Q:\n",
    "        labels[i] = \"Q\"\n",
    "    else:\n",
    "        pass\n"
   ]
  },
  {
   "cell_type": "code",
   "execution_count": 12,
   "id": "c8c76b9c",
   "metadata": {},
   "outputs": [],
   "source": [
    "pd.DataFrame(labels).to_csv('labels.csv')"
   ]
  },
  {
   "cell_type": "code",
   "execution_count": null,
   "id": "b1124849",
   "metadata": {},
   "outputs": [],
   "source": []
  }
 ],
 "metadata": {
  "kernelspec": {
   "display_name": "Python 3 (ipykernel)",
   "language": "python",
   "name": "python3"
  },
  "language_info": {
   "codemirror_mode": {
    "name": "ipython",
    "version": 3
   },
   "file_extension": ".py",
   "mimetype": "text/x-python",
   "name": "python",
   "nbconvert_exporter": "python",
   "pygments_lexer": "ipython3",
   "version": "3.9.7"
  }
 },
 "nbformat": 4,
 "nbformat_minor": 5
}
